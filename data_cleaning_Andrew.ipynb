{
 "cells": [
  {
   "cell_type": "code",
   "execution_count": 1,
   "metadata": {},
   "outputs": [],
   "source": [
    "import pandas as pd\n",
    "import numpy as np \n",
    "import seaborn as sns\n",
    "import matplotlib.pyplot as plt"
   ]
  },
  {
   "cell_type": "markdown",
   "metadata": {},
   "source": [
    "Read Data from MTA Website"
   ]
  },
  {
   "cell_type": "code",
   "execution_count": 2,
   "metadata": {},
   "outputs": [
    {
     "data": {
      "text/plain": [
       "\"\\n-----\\nUse the following if looking at data from June 27, 2020 to September 19, 2020\\nmta = read_mta(['200919', \\n                '200912',\\n                '200905',\\n                '200801',\\n                '200808',\\n                '200815',\\n                '200822',\\n                '200829',\\n                '200725',\\n                '200718',\\n                '200711',\\n                '200704',\\n                '200627'])\\n-----\\nUse the following if looking at data from July 6, 2019 to September 28, 2019\\nmta = read_mta(['190928',\\n                 '190921',\\n                 '190914',\\n                 '190907',\\n                 '190831',\\n                 '190824',\\n                 '190817',\\n                 '190810',\\n                 '190803',\\n                 '190727',\\n                 '190720',\\n                 '190713',\\n                 '190706'\\n                 ])\\n\\n\""
      ]
     },
     "execution_count": 2,
     "metadata": {},
     "output_type": "execute_result"
    }
   ],
   "source": [
    "def read_mta(file_nums):\n",
    "    path ='http://web.mta.info/developers/data/nyct/turnstile/turnstile_'\n",
    "    allFiles = []\n",
    "    for i in file_nums:\n",
    "        allFiles.append(path + i + '.txt')\n",
    "    df_list = [pd.read_csv(file) for file in allFiles]\n",
    "    df = pd.concat(df_list, ignore_index=True)\n",
    "    df.columns = df.columns.str.strip() #Exits Column name has large trailing whitespace\n",
    "    return df\n",
    "#get August Data YYMMDD\n",
    "#Currently mta contains data from September 19, 2020 to April 04, 2020\n",
    "\n",
    "mta = read_mta(['200919'])\n",
    "\n",
    "\"\"\"\n",
    "-----\n",
    "Use the following if looking at data from June 27, 2020 to September 19, 2020\n",
    "mta = read_mta(['200919', \n",
    "                '200912',\n",
    "                '200905',\n",
    "                '200801',\n",
    "                '200808',\n",
    "                '200815',\n",
    "                '200822',\n",
    "                '200829',\n",
    "                '200725',\n",
    "                '200718',\n",
    "                '200711',\n",
    "                '200704',\n",
    "                '200627'])\n",
    "-----\n",
    "Use the following if looking at data from July 6, 2019 to September 28, 2019\n",
    "mta = read_mta(['190928',\n",
    "                 '190921',\n",
    "                 '190914',\n",
    "                 '190907',\n",
    "                 '190831',\n",
    "                 '190824',\n",
    "                 '190817',\n",
    "                 '190810',\n",
    "                 '190803',\n",
    "                 '190727',\n",
    "                 '190720',\n",
    "                 '190713',\n",
    "                 '190706'\n",
    "                 ])\n",
    "\n",
    "\"\"\""
   ]
  },
  {
   "cell_type": "code",
   "execution_count": 3,
   "metadata": {},
   "outputs": [
    {
     "data": {
      "text/html": [
       "<div>\n",
       "<style scoped>\n",
       "    .dataframe tbody tr th:only-of-type {\n",
       "        vertical-align: middle;\n",
       "    }\n",
       "\n",
       "    .dataframe tbody tr th {\n",
       "        vertical-align: top;\n",
       "    }\n",
       "\n",
       "    .dataframe thead th {\n",
       "        text-align: right;\n",
       "    }\n",
       "</style>\n",
       "<table border=\"1\" class=\"dataframe\">\n",
       "  <thead>\n",
       "    <tr style=\"text-align: right;\">\n",
       "      <th></th>\n",
       "      <th>C/A</th>\n",
       "      <th>UNIT</th>\n",
       "      <th>SCP</th>\n",
       "      <th>STATION</th>\n",
       "      <th>LINENAME</th>\n",
       "      <th>DIVISION</th>\n",
       "      <th>DATE</th>\n",
       "      <th>TIME</th>\n",
       "      <th>DESC</th>\n",
       "      <th>ENTRIES</th>\n",
       "      <th>EXITS</th>\n",
       "    </tr>\n",
       "  </thead>\n",
       "  <tbody>\n",
       "    <tr>\n",
       "      <th>0</th>\n",
       "      <td>A002</td>\n",
       "      <td>R051</td>\n",
       "      <td>02-00-00</td>\n",
       "      <td>59 ST</td>\n",
       "      <td>NQR456W</td>\n",
       "      <td>BMT</td>\n",
       "      <td>09/12/2020</td>\n",
       "      <td>00:00:00</td>\n",
       "      <td>REGULAR</td>\n",
       "      <td>7457064</td>\n",
       "      <td>2535856</td>\n",
       "    </tr>\n",
       "    <tr>\n",
       "      <th>1</th>\n",
       "      <td>A002</td>\n",
       "      <td>R051</td>\n",
       "      <td>02-00-00</td>\n",
       "      <td>59 ST</td>\n",
       "      <td>NQR456W</td>\n",
       "      <td>BMT</td>\n",
       "      <td>09/12/2020</td>\n",
       "      <td>04:00:00</td>\n",
       "      <td>REGULAR</td>\n",
       "      <td>7457067</td>\n",
       "      <td>2535861</td>\n",
       "    </tr>\n",
       "    <tr>\n",
       "      <th>2</th>\n",
       "      <td>A002</td>\n",
       "      <td>R051</td>\n",
       "      <td>02-00-00</td>\n",
       "      <td>59 ST</td>\n",
       "      <td>NQR456W</td>\n",
       "      <td>BMT</td>\n",
       "      <td>09/12/2020</td>\n",
       "      <td>08:00:00</td>\n",
       "      <td>REGULAR</td>\n",
       "      <td>7457078</td>\n",
       "      <td>2535876</td>\n",
       "    </tr>\n",
       "    <tr>\n",
       "      <th>3</th>\n",
       "      <td>A002</td>\n",
       "      <td>R051</td>\n",
       "      <td>02-00-00</td>\n",
       "      <td>59 ST</td>\n",
       "      <td>NQR456W</td>\n",
       "      <td>BMT</td>\n",
       "      <td>09/12/2020</td>\n",
       "      <td>12:00:00</td>\n",
       "      <td>REGULAR</td>\n",
       "      <td>7457119</td>\n",
       "      <td>2535920</td>\n",
       "    </tr>\n",
       "    <tr>\n",
       "      <th>4</th>\n",
       "      <td>A002</td>\n",
       "      <td>R051</td>\n",
       "      <td>02-00-00</td>\n",
       "      <td>59 ST</td>\n",
       "      <td>NQR456W</td>\n",
       "      <td>BMT</td>\n",
       "      <td>09/12/2020</td>\n",
       "      <td>12:00:00</td>\n",
       "      <td>RECOVR AUD</td>\n",
       "      <td>26786</td>\n",
       "      <td>4009</td>\n",
       "    </tr>\n",
       "  </tbody>\n",
       "</table>\n",
       "</div>"
      ],
      "text/plain": [
       "    C/A  UNIT       SCP STATION LINENAME DIVISION        DATE      TIME  \\\n",
       "0  A002  R051  02-00-00   59 ST  NQR456W      BMT  09/12/2020  00:00:00   \n",
       "1  A002  R051  02-00-00   59 ST  NQR456W      BMT  09/12/2020  04:00:00   \n",
       "2  A002  R051  02-00-00   59 ST  NQR456W      BMT  09/12/2020  08:00:00   \n",
       "3  A002  R051  02-00-00   59 ST  NQR456W      BMT  09/12/2020  12:00:00   \n",
       "4  A002  R051  02-00-00   59 ST  NQR456W      BMT  09/12/2020  12:00:00   \n",
       "\n",
       "         DESC  ENTRIES    EXITS  \n",
       "0     REGULAR  7457064  2535856  \n",
       "1     REGULAR  7457067  2535861  \n",
       "2     REGULAR  7457078  2535876  \n",
       "3     REGULAR  7457119  2535920  \n",
       "4  RECOVR AUD    26786     4009  "
      ]
     },
     "execution_count": 3,
     "metadata": {},
     "output_type": "execute_result"
    }
   ],
   "source": [
    "mta.head(5)"
   ]
  },
  {
   "cell_type": "code",
   "execution_count": 4,
   "metadata": {},
   "outputs": [
    {
     "name": "stdout",
     "output_type": "stream",
     "text": [
      "<class 'pandas.core.frame.DataFrame'>\n",
      "RangeIndex: 209661 entries, 0 to 209660\n",
      "Data columns (total 11 columns):\n",
      " #   Column    Non-Null Count   Dtype \n",
      "---  ------    --------------   ----- \n",
      " 0   C/A       209661 non-null  object\n",
      " 1   UNIT      209661 non-null  object\n",
      " 2   SCP       209661 non-null  object\n",
      " 3   STATION   209661 non-null  object\n",
      " 4   LINENAME  209661 non-null  object\n",
      " 5   DIVISION  209661 non-null  object\n",
      " 6   DATE      209661 non-null  object\n",
      " 7   TIME      209661 non-null  object\n",
      " 8   DESC      209661 non-null  object\n",
      " 9   ENTRIES   209661 non-null  int64 \n",
      " 10  EXITS     209661 non-null  int64 \n",
      "dtypes: int64(2), object(9)\n",
      "memory usage: 17.6+ MB\n"
     ]
    }
   ],
   "source": [
    "mta.info()"
   ]
  },
  {
   "cell_type": "code",
   "execution_count": 5,
   "metadata": {},
   "outputs": [
    {
     "data": {
      "text/html": [
       "<div>\n",
       "<style scoped>\n",
       "    .dataframe tbody tr th:only-of-type {\n",
       "        vertical-align: middle;\n",
       "    }\n",
       "\n",
       "    .dataframe tbody tr th {\n",
       "        vertical-align: top;\n",
       "    }\n",
       "\n",
       "    .dataframe thead th {\n",
       "        text-align: right;\n",
       "    }\n",
       "</style>\n",
       "<table border=\"1\" class=\"dataframe\">\n",
       "  <thead>\n",
       "    <tr style=\"text-align: right;\">\n",
       "      <th></th>\n",
       "      <th>ENTRIES</th>\n",
       "      <th>EXITS</th>\n",
       "    </tr>\n",
       "  </thead>\n",
       "  <tbody>\n",
       "    <tr>\n",
       "      <th>count</th>\n",
       "      <td>2.096610e+05</td>\n",
       "      <td>2.096610e+05</td>\n",
       "    </tr>\n",
       "    <tr>\n",
       "      <th>mean</th>\n",
       "      <td>4.237896e+07</td>\n",
       "      <td>3.499690e+07</td>\n",
       "    </tr>\n",
       "    <tr>\n",
       "      <th>std</th>\n",
       "      <td>2.166274e+08</td>\n",
       "      <td>1.982265e+08</td>\n",
       "    </tr>\n",
       "    <tr>\n",
       "      <th>min</th>\n",
       "      <td>0.000000e+00</td>\n",
       "      <td>0.000000e+00</td>\n",
       "    </tr>\n",
       "    <tr>\n",
       "      <th>25%</th>\n",
       "      <td>2.646930e+05</td>\n",
       "      <td>1.111290e+05</td>\n",
       "    </tr>\n",
       "    <tr>\n",
       "      <th>50%</th>\n",
       "      <td>1.730230e+06</td>\n",
       "      <td>1.012140e+06</td>\n",
       "    </tr>\n",
       "    <tr>\n",
       "      <th>75%</th>\n",
       "      <td>6.349613e+06</td>\n",
       "      <td>4.246031e+06</td>\n",
       "    </tr>\n",
       "    <tr>\n",
       "      <th>max</th>\n",
       "      <td>2.128746e+09</td>\n",
       "      <td>2.123199e+09</td>\n",
       "    </tr>\n",
       "  </tbody>\n",
       "</table>\n",
       "</div>"
      ],
      "text/plain": [
       "            ENTRIES         EXITS\n",
       "count  2.096610e+05  2.096610e+05\n",
       "mean   4.237896e+07  3.499690e+07\n",
       "std    2.166274e+08  1.982265e+08\n",
       "min    0.000000e+00  0.000000e+00\n",
       "25%    2.646930e+05  1.111290e+05\n",
       "50%    1.730230e+06  1.012140e+06\n",
       "75%    6.349613e+06  4.246031e+06\n",
       "max    2.128746e+09  2.123199e+09"
      ]
     },
     "execution_count": 5,
     "metadata": {},
     "output_type": "execute_result"
    }
   ],
   "source": [
    "mta.describe()"
   ]
  },
  {
   "cell_type": "markdown",
   "metadata": {},
   "source": [
    "Early things to take note of: \n",
    "* 209661 rows of data\n",
    "* Large range in turnstile Entries and Exit Tickers (suggests turnstiles may have started at different times)"
   ]
  },
  {
   "cell_type": "markdown",
   "metadata": {},
   "source": [
    "## Clean Data\n",
    "* convert to datetime and sort in ascending order\n",
    "* get change in turnstile data\n",
    "* remove negative entries and exits\n",
    "* remove total traffic greater than 2400\n",
    "* convert datetime to day of week int\n"
   ]
  },
  {
   "cell_type": "code",
   "execution_count": 6,
   "metadata": {},
   "outputs": [],
   "source": [
    "#convert to datetime and sort\n",
    "mta['datetime'] = pd.to_datetime(mta.DATE+' '+mta.TIME)\n",
    "mta.sort_values(by=['datetime'], inplace=True)"
   ]
  },
  {
   "cell_type": "code",
   "execution_count": 7,
   "metadata": {},
   "outputs": [
    {
     "data": {
      "text/plain": [
       "REGULAR       209111\n",
       "RECOVR AUD       550\n",
       "Name: DESC, dtype: int64"
      ]
     },
     "execution_count": 7,
     "metadata": {},
     "output_type": "execute_result"
    }
   ],
   "source": [
    "#recovered audits are <1% of total data. Drop!\n",
    "mta.DESC.value_counts()"
   ]
  },
  {
   "cell_type": "code",
   "execution_count": 8,
   "metadata": {},
   "outputs": [],
   "source": [
    "#only interested in regular audits. \n",
    "mta = pd.DataFrame(mta[mta.DESC == 'REGULAR'])"
   ]
  },
  {
   "cell_type": "code",
   "execution_count": 9,
   "metadata": {},
   "outputs": [],
   "source": [
    "#convert ENTRIES and EXITS to number of entries and number of exits between audits\n",
    "mta['n_in'] = mta.groupby(['STATION', 'UNIT', 'C/A', 'SCP'])['ENTRIES'].diff()\n",
    "mta['n_out'] = mta.groupby(['STATION', 'UNIT', 'C/A', 'SCP'])['EXITS'].diff()"
   ]
  },
  {
   "cell_type": "code",
   "execution_count": 10,
   "metadata": {},
   "outputs": [],
   "source": [
    "#adding n_in and n_out to get total turnstile traffic between audits\n",
    "mta['turn_traffic'] = mta.n_in + mta.n_out"
   ]
  },
  {
   "cell_type": "code",
   "execution_count": 11,
   "metadata": {},
   "outputs": [
    {
     "data": {
      "text/html": [
       "<div>\n",
       "<style scoped>\n",
       "    .dataframe tbody tr th:only-of-type {\n",
       "        vertical-align: middle;\n",
       "    }\n",
       "\n",
       "    .dataframe tbody tr th {\n",
       "        vertical-align: top;\n",
       "    }\n",
       "\n",
       "    .dataframe thead th {\n",
       "        text-align: right;\n",
       "    }\n",
       "</style>\n",
       "<table border=\"1\" class=\"dataframe\">\n",
       "  <thead>\n",
       "    <tr style=\"text-align: right;\">\n",
       "      <th></th>\n",
       "      <th>ENTRIES</th>\n",
       "      <th>EXITS</th>\n",
       "      <th>n_in</th>\n",
       "      <th>n_out</th>\n",
       "      <th>turn_traffic</th>\n",
       "    </tr>\n",
       "  </thead>\n",
       "  <tbody>\n",
       "    <tr>\n",
       "      <th>count</th>\n",
       "      <td>2.091110e+05</td>\n",
       "      <td>2.091110e+05</td>\n",
       "      <td>2.041570e+05</td>\n",
       "      <td>2.041570e+05</td>\n",
       "      <td>2.041570e+05</td>\n",
       "    </tr>\n",
       "    <tr>\n",
       "      <th>mean</th>\n",
       "      <td>4.234850e+07</td>\n",
       "      <td>3.499265e+07</td>\n",
       "      <td>5.247209e+03</td>\n",
       "      <td>2.132242e+03</td>\n",
       "      <td>7.379452e+03</td>\n",
       "    </tr>\n",
       "    <tr>\n",
       "      <th>std</th>\n",
       "      <td>2.165280e+08</td>\n",
       "      <td>1.982371e+08</td>\n",
       "      <td>2.501973e+06</td>\n",
       "      <td>1.077691e+06</td>\n",
       "      <td>3.579313e+06</td>\n",
       "    </tr>\n",
       "    <tr>\n",
       "      <th>min</th>\n",
       "      <td>0.000000e+00</td>\n",
       "      <td>0.000000e+00</td>\n",
       "      <td>-1.200344e+07</td>\n",
       "      <td>-1.663366e+07</td>\n",
       "      <td>-2.863710e+07</td>\n",
       "    </tr>\n",
       "    <tr>\n",
       "      <th>25%</th>\n",
       "      <td>2.644255e+05</td>\n",
       "      <td>1.112645e+05</td>\n",
       "      <td>1.000000e+00</td>\n",
       "      <td>2.000000e+00</td>\n",
       "      <td>5.000000e+00</td>\n",
       "    </tr>\n",
       "    <tr>\n",
       "      <th>50%</th>\n",
       "      <td>1.723604e+06</td>\n",
       "      <td>1.011338e+06</td>\n",
       "      <td>1.700000e+01</td>\n",
       "      <td>1.800000e+01</td>\n",
       "      <td>4.700000e+01</td>\n",
       "    </tr>\n",
       "    <tr>\n",
       "      <th>75%</th>\n",
       "      <td>6.349051e+06</td>\n",
       "      <td>4.245339e+06</td>\n",
       "      <td>6.600000e+01</td>\n",
       "      <td>6.100000e+01</td>\n",
       "      <td>1.400000e+02</td>\n",
       "    </tr>\n",
       "    <tr>\n",
       "      <th>max</th>\n",
       "      <td>2.128746e+09</td>\n",
       "      <td>2.123199e+09</td>\n",
       "      <td>1.130282e+09</td>\n",
       "      <td>4.864105e+08</td>\n",
       "      <td>1.616692e+09</td>\n",
       "    </tr>\n",
       "  </tbody>\n",
       "</table>\n",
       "</div>"
      ],
      "text/plain": [
       "            ENTRIES         EXITS          n_in         n_out  turn_traffic\n",
       "count  2.091110e+05  2.091110e+05  2.041570e+05  2.041570e+05  2.041570e+05\n",
       "mean   4.234850e+07  3.499265e+07  5.247209e+03  2.132242e+03  7.379452e+03\n",
       "std    2.165280e+08  1.982371e+08  2.501973e+06  1.077691e+06  3.579313e+06\n",
       "min    0.000000e+00  0.000000e+00 -1.200344e+07 -1.663366e+07 -2.863710e+07\n",
       "25%    2.644255e+05  1.112645e+05  1.000000e+00  2.000000e+00  5.000000e+00\n",
       "50%    1.723604e+06  1.011338e+06  1.700000e+01  1.800000e+01  4.700000e+01\n",
       "75%    6.349051e+06  4.245339e+06  6.600000e+01  6.100000e+01  1.400000e+02\n",
       "max    2.128746e+09  2.123199e+09  1.130282e+09  4.864105e+08  1.616692e+09"
      ]
     },
     "execution_count": 11,
     "metadata": {},
     "output_type": "execute_result"
    }
   ],
   "source": [
    "#n_in and n_out have negative quantities\n",
    "mta.describe()"
   ]
  },
  {
   "cell_type": "code",
   "execution_count": 12,
   "metadata": {},
   "outputs": [
    {
     "data": {
      "text/plain": [
       "<matplotlib.axes._subplots.AxesSubplot at 0x7f8205b363d0>"
      ]
     },
     "execution_count": 12,
     "metadata": {},
     "output_type": "execute_result"
    },
    {
     "data": {
      "image/png": "[encoded data removed]",
      "text/plain": [
       "<Figure size 432x288 with 1 Axes>"
      ]
     },
     "metadata": {
      "needs_background": "light"
     },
     "output_type": "display_data"
    }
   ],
   "source": [
    "sns.boxplot(mta.turn_traffic)"
   ]
  },
  {
   "cell_type": "code",
   "execution_count": 13,
   "metadata": {},
   "outputs": [
    {
     "data": {
      "text/plain": [
       "0.0077853388870025965"
      ]
     },
     "execution_count": 13,
     "metadata": {},
     "output_type": "execute_result"
    }
   ],
   "source": [
    "len(mta[mta.turn_traffic<0])/len(mta)"
   ]
  },
  {
   "cell_type": "markdown",
   "metadata": {},
   "source": [
    "Takeaways:\n",
    "* Large gap in maximum turnstile traffic data ~1 BILLION\n",
    "* Some Negative Values but they take up less than 1% of the data\n",
    "\n",
    "Lets drop the negative values and assume that at a maximum, ten people will pass through a turnstile in a minute.  \n",
    "This caps the four hour traffic at 2400 people passing through a specific turnstile. "
   ]
  },
  {
   "cell_type": "code",
   "execution_count": 14,
   "metadata": {},
   "outputs": [],
   "source": [
    "mask = (mta.n_in >= 0) & (mta.n_out >= 0) & (mta.turn_traffic >= 0) & (mta.turn_traffic < 2400)\n",
    "mta = mta[mask]"
   ]
  },
  {
   "cell_type": "code",
   "execution_count": 15,
   "metadata": {},
   "outputs": [
    {
     "data": {
      "text/plain": [
       "<matplotlib.axes._subplots.AxesSubplot at 0x7f8204bdcb80>"
      ]
     },
     "execution_count": 15,
     "metadata": {},
     "output_type": "execute_result"
    },
    {
     "data": {
      "image/png": "[encoded data removed]",
      "text/plain": [
       "<Figure size 432x288 with 1 Axes>"
      ]
     },
     "metadata": {
      "needs_background": "light"
     },
     "output_type": "display_data"
    }
   ],
   "source": [
    "sns.boxplot(mta.turn_traffic)"
   ]
  },
  {
   "cell_type": "markdown",
   "metadata": {},
   "source": [
    "For later use, break down the further mta data to show their individual weekdays."
   ]
  },
  {
   "cell_type": "code",
   "execution_count": 16,
   "metadata": {},
   "outputs": [],
   "source": [
    "mta['day_of_week'] = mta['datetime'].apply(lambda x : x.weekday())\n"
   ]
  },
  {
   "cell_type": "markdown",
   "metadata": {},
   "source": [
    "## Analysis\n",
    "<a href='#Ranking Stations Traffic For entire DataFrame'>Ranking Stations Traffic For Entire DataFrame</a>  \n",
    "<a href='#Verifying Data From 2019'>Verifying Data From 2019</a>\n"
   ]
  },
  {
   "cell_type": "markdown",
   "metadata": {},
   "source": [
    "<a id='Ranking Stations Traffic For entire DataFrame'></a>\n",
    "### Ranking Stations Traffic For entire DataFrame"
   ]
  },
  {
   "cell_type": "code",
   "execution_count": 17,
   "metadata": {},
   "outputs": [],
   "source": [
    "stations_totals = mta.groupby('STATION', as_index=False).turn_traffic.sum()"
   ]
  },
  {
   "cell_type": "code",
   "execution_count": 18,
   "metadata": {},
   "outputs": [],
   "source": [
    "stations_totals.rename(columns={'turn_traffic':'total_st_traffic'}, inplace=True)"
   ]
  },
  {
   "cell_type": "code",
   "execution_count": 19,
   "metadata": {},
   "outputs": [],
   "source": [
    "stations_totals.sort_values(by='total_st_traffic', ascending=False, inplace=True)"
   ]
  },
  {
   "cell_type": "code",
   "execution_count": 20,
   "metadata": {},
   "outputs": [
    {
     "data": {
      "text/html": [
       "<div>\n",
       "<style scoped>\n",
       "    .dataframe tbody tr th:only-of-type {\n",
       "        vertical-align: middle;\n",
       "    }\n",
       "\n",
       "    .dataframe tbody tr th {\n",
       "        vertical-align: top;\n",
       "    }\n",
       "\n",
       "    .dataframe thead th {\n",
       "        text-align: right;\n",
       "    }\n",
       "</style>\n",
       "<table border=\"1\" class=\"dataframe\">\n",
       "  <thead>\n",
       "    <tr style=\"text-align: right;\">\n",
       "      <th></th>\n",
       "      <th>STATION</th>\n",
       "      <th>total_st_traffic</th>\n",
       "    </tr>\n",
       "  </thead>\n",
       "  <tbody>\n",
       "    <tr>\n",
       "      <th>61</th>\n",
       "      <td>34 ST-PENN STA</td>\n",
       "      <td>448535.0</td>\n",
       "    </tr>\n",
       "    <tr>\n",
       "      <th>59</th>\n",
       "      <td>34 ST-HERALD SQ</td>\n",
       "      <td>355745.0</td>\n",
       "    </tr>\n",
       "    <tr>\n",
       "      <th>110</th>\n",
       "      <td>86 ST</td>\n",
       "      <td>350144.0</td>\n",
       "    </tr>\n",
       "    <tr>\n",
       "      <th>9</th>\n",
       "      <td>125 ST</td>\n",
       "      <td>336779.0</td>\n",
       "    </tr>\n",
       "    <tr>\n",
       "      <th>14</th>\n",
       "      <td>14 ST-UNION SQ</td>\n",
       "      <td>320217.0</td>\n",
       "    </tr>\n",
       "    <tr>\n",
       "      <th>233</th>\n",
       "      <td>GRD CNTRL-42 ST</td>\n",
       "      <td>302224.0</td>\n",
       "    </tr>\n",
       "    <tr>\n",
       "      <th>46</th>\n",
       "      <td>23 ST</td>\n",
       "      <td>274861.0</td>\n",
       "    </tr>\n",
       "    <tr>\n",
       "      <th>68</th>\n",
       "      <td>42 ST-PORT AUTH</td>\n",
       "      <td>274861.0</td>\n",
       "    </tr>\n",
       "    <tr>\n",
       "      <th>217</th>\n",
       "      <td>FLUSHING-MAIN</td>\n",
       "      <td>268476.0</td>\n",
       "    </tr>\n",
       "    <tr>\n",
       "      <th>226</th>\n",
       "      <td>FULTON ST</td>\n",
       "      <td>260552.0</td>\n",
       "    </tr>\n",
       "    <tr>\n",
       "      <th>85</th>\n",
       "      <td>59 ST</td>\n",
       "      <td>253530.0</td>\n",
       "    </tr>\n",
       "  </tbody>\n",
       "</table>\n",
       "</div>"
      ],
      "text/plain": [
       "             STATION  total_st_traffic\n",
       "61    34 ST-PENN STA          448535.0\n",
       "59   34 ST-HERALD SQ          355745.0\n",
       "110            86 ST          350144.0\n",
       "9             125 ST          336779.0\n",
       "14    14 ST-UNION SQ          320217.0\n",
       "233  GRD CNTRL-42 ST          302224.0\n",
       "46             23 ST          274861.0\n",
       "68   42 ST-PORT AUTH          274861.0\n",
       "217    FLUSHING-MAIN          268476.0\n",
       "226        FULTON ST          260552.0\n",
       "85             59 ST          253530.0"
      ]
     },
     "execution_count": 20,
     "metadata": {},
     "output_type": "execute_result"
    }
   ],
   "source": [
    "stations_totals[:11]"
   ]
  },
  {
   "cell_type": "code",
   "execution_count": 21,
   "metadata": {},
   "outputs": [
    {
     "data": {
      "image/png": "[encoded data removed]",
      "text/plain": [
       "<Figure size 1800x720 with 1 Axes>"
      ]
     },
     "metadata": {
      "needs_background": "light"
     },
     "output_type": "display_data"
    }
   ],
   "source": [
    "plt.figure(figsize=[25,10])\n",
    "\n",
    "sns.barplot(x='total_st_traffic', y='STATION', data=stations_totals[:10], color='sandybrown')\n",
    "plt.title('Top Most Trafficed Stations (2020)', fontsize=20)\n",
    "plt.xlabel('Total Traffic', fontsize=18)\n",
    "plt.ylabel('Station', fontsize=18);"
   ]
  },
  {
   "cell_type": "markdown",
   "metadata": {},
   "source": [
    "<a id='Verifying Data From 2019'></a>\n",
    "### Verifying Data From 2019"
   ]
  },
  {
   "cell_type": "code",
   "execution_count": 22,
   "metadata": {},
   "outputs": [],
   "source": [
    "#loading in 2019 data\n",
    "mta19 = read_mta(['190928',\n",
    "                 '190921',\n",
    "                 '190914',\n",
    "                 '190907',\n",
    "                 '190831',\n",
    "                 '190824',\n",
    "                 '190817',\n",
    "                 '190810',\n",
    "                 '190803',\n",
    "                 '190727',\n",
    "                 '190720',\n",
    "                 '190713',\n",
    "                 '190706'\n",
    "                 ])"
   ]
  },
  {
   "cell_type": "code",
   "execution_count": 23,
   "metadata": {},
   "outputs": [
    {
     "data": {
      "text/html": [
       "<div>\n",
       "<style scoped>\n",
       "    .dataframe tbody tr th:only-of-type {\n",
       "        vertical-align: middle;\n",
       "    }\n",
       "\n",
       "    .dataframe tbody tr th {\n",
       "        vertical-align: top;\n",
       "    }\n",
       "\n",
       "    .dataframe thead th {\n",
       "        text-align: right;\n",
       "    }\n",
       "</style>\n",
       "<table border=\"1\" class=\"dataframe\">\n",
       "  <thead>\n",
       "    <tr style=\"text-align: right;\">\n",
       "      <th></th>\n",
       "      <th>C/A</th>\n",
       "      <th>UNIT</th>\n",
       "      <th>SCP</th>\n",
       "      <th>STATION</th>\n",
       "      <th>LINENAME</th>\n",
       "      <th>DIVISION</th>\n",
       "      <th>DATE</th>\n",
       "      <th>TIME</th>\n",
       "      <th>DESC</th>\n",
       "      <th>ENTRIES</th>\n",
       "      <th>EXITS</th>\n",
       "    </tr>\n",
       "  </thead>\n",
       "  <tbody>\n",
       "    <tr>\n",
       "      <th>0</th>\n",
       "      <td>A002</td>\n",
       "      <td>R051</td>\n",
       "      <td>02-00-00</td>\n",
       "      <td>59 ST</td>\n",
       "      <td>NQR456W</td>\n",
       "      <td>BMT</td>\n",
       "      <td>09/21/2019</td>\n",
       "      <td>00:00:00</td>\n",
       "      <td>REGULAR</td>\n",
       "      <td>7206966</td>\n",
       "      <td>2441290</td>\n",
       "    </tr>\n",
       "    <tr>\n",
       "      <th>1</th>\n",
       "      <td>A002</td>\n",
       "      <td>R051</td>\n",
       "      <td>02-00-00</td>\n",
       "      <td>59 ST</td>\n",
       "      <td>NQR456W</td>\n",
       "      <td>BMT</td>\n",
       "      <td>09/21/2019</td>\n",
       "      <td>04:00:00</td>\n",
       "      <td>REGULAR</td>\n",
       "      <td>7206983</td>\n",
       "      <td>2441292</td>\n",
       "    </tr>\n",
       "    <tr>\n",
       "      <th>2</th>\n",
       "      <td>A002</td>\n",
       "      <td>R051</td>\n",
       "      <td>02-00-00</td>\n",
       "      <td>59 ST</td>\n",
       "      <td>NQR456W</td>\n",
       "      <td>BMT</td>\n",
       "      <td>09/21/2019</td>\n",
       "      <td>08:00:00</td>\n",
       "      <td>REGULAR</td>\n",
       "      <td>7207003</td>\n",
       "      <td>2441323</td>\n",
       "    </tr>\n",
       "    <tr>\n",
       "      <th>3</th>\n",
       "      <td>A002</td>\n",
       "      <td>R051</td>\n",
       "      <td>02-00-00</td>\n",
       "      <td>59 ST</td>\n",
       "      <td>NQR456W</td>\n",
       "      <td>BMT</td>\n",
       "      <td>09/21/2019</td>\n",
       "      <td>12:00:00</td>\n",
       "      <td>REGULAR</td>\n",
       "      <td>7207073</td>\n",
       "      <td>2441395</td>\n",
       "    </tr>\n",
       "    <tr>\n",
       "      <th>4</th>\n",
       "      <td>A002</td>\n",
       "      <td>R051</td>\n",
       "      <td>02-00-00</td>\n",
       "      <td>59 ST</td>\n",
       "      <td>NQR456W</td>\n",
       "      <td>BMT</td>\n",
       "      <td>09/21/2019</td>\n",
       "      <td>16:00:00</td>\n",
       "      <td>REGULAR</td>\n",
       "      <td>7207260</td>\n",
       "      <td>2441450</td>\n",
       "    </tr>\n",
       "    <tr>\n",
       "      <th>5</th>\n",
       "      <td>A002</td>\n",
       "      <td>R051</td>\n",
       "      <td>02-00-00</td>\n",
       "      <td>59 ST</td>\n",
       "      <td>NQR456W</td>\n",
       "      <td>BMT</td>\n",
       "      <td>09/21/2019</td>\n",
       "      <td>20:00:00</td>\n",
       "      <td>REGULAR</td>\n",
       "      <td>7207572</td>\n",
       "      <td>2441489</td>\n",
       "    </tr>\n",
       "    <tr>\n",
       "      <th>6</th>\n",
       "      <td>A002</td>\n",
       "      <td>R051</td>\n",
       "      <td>02-00-00</td>\n",
       "      <td>59 ST</td>\n",
       "      <td>NQR456W</td>\n",
       "      <td>BMT</td>\n",
       "      <td>09/22/2019</td>\n",
       "      <td>00:00:00</td>\n",
       "      <td>REGULAR</td>\n",
       "      <td>7207748</td>\n",
       "      <td>2441513</td>\n",
       "    </tr>\n",
       "    <tr>\n",
       "      <th>7</th>\n",
       "      <td>A002</td>\n",
       "      <td>R051</td>\n",
       "      <td>02-00-00</td>\n",
       "      <td>59 ST</td>\n",
       "      <td>NQR456W</td>\n",
       "      <td>BMT</td>\n",
       "      <td>09/22/2019</td>\n",
       "      <td>04:00:00</td>\n",
       "      <td>REGULAR</td>\n",
       "      <td>7207773</td>\n",
       "      <td>2441521</td>\n",
       "    </tr>\n",
       "    <tr>\n",
       "      <th>8</th>\n",
       "      <td>A002</td>\n",
       "      <td>R051</td>\n",
       "      <td>02-00-00</td>\n",
       "      <td>59 ST</td>\n",
       "      <td>NQR456W</td>\n",
       "      <td>BMT</td>\n",
       "      <td>09/22/2019</td>\n",
       "      <td>08:00:00</td>\n",
       "      <td>REGULAR</td>\n",
       "      <td>7207784</td>\n",
       "      <td>2441536</td>\n",
       "    </tr>\n",
       "    <tr>\n",
       "      <th>9</th>\n",
       "      <td>A002</td>\n",
       "      <td>R051</td>\n",
       "      <td>02-00-00</td>\n",
       "      <td>59 ST</td>\n",
       "      <td>NQR456W</td>\n",
       "      <td>BMT</td>\n",
       "      <td>09/22/2019</td>\n",
       "      <td>12:00:00</td>\n",
       "      <td>REGULAR</td>\n",
       "      <td>7207848</td>\n",
       "      <td>2441602</td>\n",
       "    </tr>\n",
       "  </tbody>\n",
       "</table>\n",
       "</div>"
      ],
      "text/plain": [
       "    C/A  UNIT       SCP STATION LINENAME DIVISION        DATE      TIME  \\\n",
       "0  A002  R051  02-00-00   59 ST  NQR456W      BMT  09/21/2019  00:00:00   \n",
       "1  A002  R051  02-00-00   59 ST  NQR456W      BMT  09/21/2019  04:00:00   \n",
       "2  A002  R051  02-00-00   59 ST  NQR456W      BMT  09/21/2019  08:00:00   \n",
       "3  A002  R051  02-00-00   59 ST  NQR456W      BMT  09/21/2019  12:00:00   \n",
       "4  A002  R051  02-00-00   59 ST  NQR456W      BMT  09/21/2019  16:00:00   \n",
       "5  A002  R051  02-00-00   59 ST  NQR456W      BMT  09/21/2019  20:00:00   \n",
       "6  A002  R051  02-00-00   59 ST  NQR456W      BMT  09/22/2019  00:00:00   \n",
       "7  A002  R051  02-00-00   59 ST  NQR456W      BMT  09/22/2019  04:00:00   \n",
       "8  A002  R051  02-00-00   59 ST  NQR456W      BMT  09/22/2019  08:00:00   \n",
       "9  A002  R051  02-00-00   59 ST  NQR456W      BMT  09/22/2019  12:00:00   \n",
       "\n",
       "      DESC  ENTRIES    EXITS  \n",
       "0  REGULAR  7206966  2441290  \n",
       "1  REGULAR  7206983  2441292  \n",
       "2  REGULAR  7207003  2441323  \n",
       "3  REGULAR  7207073  2441395  \n",
       "4  REGULAR  7207260  2441450  \n",
       "5  REGULAR  7207572  2441489  \n",
       "6  REGULAR  7207748  2441513  \n",
       "7  REGULAR  7207773  2441521  \n",
       "8  REGULAR  7207784  2441536  \n",
       "9  REGULAR  7207848  2441602  "
      ]
     },
     "execution_count": 23,
     "metadata": {},
     "output_type": "execute_result"
    }
   ],
   "source": [
    "mta19.head(10)"
   ]
  },
  {
   "cell_type": "markdown",
   "metadata": {},
   "source": [
    "#### Cleaning"
   ]
  },
  {
   "cell_type": "code",
   "execution_count": 24,
   "metadata": {},
   "outputs": [],
   "source": [
    "mta19['datetime'] = pd.to_datetime(mta.DATE+' '+mta.TIME)"
   ]
  },
  {
   "cell_type": "code",
   "execution_count": 25,
   "metadata": {},
   "outputs": [],
   "source": [
    "mta19 = pd.DataFrame(mta19[mta19.DESC == 'REGULAR'])"
   ]
  },
  {
   "cell_type": "code",
   "execution_count": 26,
   "metadata": {},
   "outputs": [],
   "source": [
    "mta19.sort_values(by=['datetime'], inplace=True)"
   ]
  },
  {
   "cell_type": "code",
   "execution_count": 27,
   "metadata": {},
   "outputs": [],
   "source": [
    "#convert ENTRIES and EXITS to number of entries and number of exits between audits\n",
    "mta19['n_in'] = mta19.groupby(['STATION', 'UNIT', 'C/A', 'SCP'])['ENTRIES'].diff()\n",
    "mta19['n_out'] = mta19.groupby(['STATION', 'UNIT', 'C/A', 'SCP'])['EXITS'].diff()"
   ]
  },
  {
   "cell_type": "code",
   "execution_count": 28,
   "metadata": {},
   "outputs": [
    {
     "data": {
      "text/html": [
       "<div>\n",
       "<style scoped>\n",
       "    .dataframe tbody tr th:only-of-type {\n",
       "        vertical-align: middle;\n",
       "    }\n",
       "\n",
       "    .dataframe tbody tr th {\n",
       "        vertical-align: top;\n",
       "    }\n",
       "\n",
       "    .dataframe thead th {\n",
       "        text-align: right;\n",
       "    }\n",
       "</style>\n",
       "<table border=\"1\" class=\"dataframe\">\n",
       "  <thead>\n",
       "    <tr style=\"text-align: right;\">\n",
       "      <th></th>\n",
       "      <th>ENTRIES</th>\n",
       "      <th>EXITS</th>\n",
       "      <th>n_in</th>\n",
       "      <th>n_out</th>\n",
       "    </tr>\n",
       "  </thead>\n",
       "  <tbody>\n",
       "    <tr>\n",
       "      <th>count</th>\n",
       "      <td>2.675155e+06</td>\n",
       "      <td>2.675155e+06</td>\n",
       "      <td>2.670206e+06</td>\n",
       "      <td>2.670206e+06</td>\n",
       "    </tr>\n",
       "    <tr>\n",
       "      <th>mean</th>\n",
       "      <td>4.228635e+07</td>\n",
       "      <td>3.480474e+07</td>\n",
       "      <td>1.132906e+03</td>\n",
       "      <td>-3.170237e+02</td>\n",
       "    </tr>\n",
       "    <tr>\n",
       "      <th>std</th>\n",
       "      <td>2.158342e+08</td>\n",
       "      <td>1.990198e+08</td>\n",
       "      <td>6.567801e+06</td>\n",
       "      <td>4.933411e+06</td>\n",
       "    </tr>\n",
       "    <tr>\n",
       "      <th>min</th>\n",
       "      <td>0.000000e+00</td>\n",
       "      <td>0.000000e+00</td>\n",
       "      <td>-2.037959e+09</td>\n",
       "      <td>-1.971944e+09</td>\n",
       "    </tr>\n",
       "    <tr>\n",
       "      <th>25%</th>\n",
       "      <td>2.863705e+05</td>\n",
       "      <td>1.203080e+05</td>\n",
       "      <td>6.000000e+00</td>\n",
       "      <td>6.000000e+00</td>\n",
       "    </tr>\n",
       "    <tr>\n",
       "      <th>50%</th>\n",
       "      <td>2.077570e+06</td>\n",
       "      <td>1.186331e+06</td>\n",
       "      <td>6.400000e+01</td>\n",
       "      <td>4.700000e+01</td>\n",
       "    </tr>\n",
       "    <tr>\n",
       "      <th>75%</th>\n",
       "      <td>6.662910e+06</td>\n",
       "      <td>4.578948e+06</td>\n",
       "      <td>2.190000e+02</td>\n",
       "      <td>1.570000e+02</td>\n",
       "    </tr>\n",
       "    <tr>\n",
       "      <th>max</th>\n",
       "      <td>2.129224e+09</td>\n",
       "      <td>2.123963e+09</td>\n",
       "      <td>2.129142e+09</td>\n",
       "      <td>1.971923e+09</td>\n",
       "    </tr>\n",
       "  </tbody>\n",
       "</table>\n",
       "</div>"
      ],
      "text/plain": [
       "            ENTRIES         EXITS          n_in         n_out\n",
       "count  2.675155e+06  2.675155e+06  2.670206e+06  2.670206e+06\n",
       "mean   4.228635e+07  3.480474e+07  1.132906e+03 -3.170237e+02\n",
       "std    2.158342e+08  1.990198e+08  6.567801e+06  4.933411e+06\n",
       "min    0.000000e+00  0.000000e+00 -2.037959e+09 -1.971944e+09\n",
       "25%    2.863705e+05  1.203080e+05  6.000000e+00  6.000000e+00\n",
       "50%    2.077570e+06  1.186331e+06  6.400000e+01  4.700000e+01\n",
       "75%    6.662910e+06  4.578948e+06  2.190000e+02  1.570000e+02\n",
       "max    2.129224e+09  2.123963e+09  2.129142e+09  1.971923e+09"
      ]
     },
     "execution_count": 28,
     "metadata": {},
     "output_type": "execute_result"
    }
   ],
   "source": [
    "mta19.describe()"
   ]
  },
  {
   "cell_type": "code",
   "execution_count": 29,
   "metadata": {},
   "outputs": [],
   "source": [
    "#adding n_in and n_out to get total turnstile traffic between audits\n",
    "mta19['turn_traffic'] = mta19.n_in + mta19.n_out"
   ]
  },
  {
   "cell_type": "code",
   "execution_count": 30,
   "metadata": {},
   "outputs": [],
   "source": [
    "mask19 = (mta19.n_in >= 0) & (mta19.n_out >= 0) & (mta19.turn_traffic >= 0) & (mta19.turn_traffic < 2400)\n",
    "mta19 = mta19[mask19]"
   ]
  },
  {
   "cell_type": "code",
   "execution_count": 31,
   "metadata": {},
   "outputs": [],
   "source": [
    "mta19['total_st_traffic'] = mta19.groupby('STATION').turn_traffic.transform('sum')"
   ]
  },
  {
   "cell_type": "code",
   "execution_count": 32,
   "metadata": {},
   "outputs": [
    {
     "data": {
      "text/html": [
       "<div>\n",
       "<style scoped>\n",
       "    .dataframe tbody tr th:only-of-type {\n",
       "        vertical-align: middle;\n",
       "    }\n",
       "\n",
       "    .dataframe tbody tr th {\n",
       "        vertical-align: top;\n",
       "    }\n",
       "\n",
       "    .dataframe thead th {\n",
       "        text-align: right;\n",
       "    }\n",
       "</style>\n",
       "<table border=\"1\" class=\"dataframe\">\n",
       "  <thead>\n",
       "    <tr style=\"text-align: right;\">\n",
       "      <th></th>\n",
       "      <th>C/A</th>\n",
       "      <th>UNIT</th>\n",
       "      <th>SCP</th>\n",
       "      <th>STATION</th>\n",
       "      <th>LINENAME</th>\n",
       "      <th>DIVISION</th>\n",
       "      <th>DATE</th>\n",
       "      <th>TIME</th>\n",
       "      <th>DESC</th>\n",
       "      <th>ENTRIES</th>\n",
       "      <th>EXITS</th>\n",
       "      <th>datetime</th>\n",
       "      <th>n_in</th>\n",
       "      <th>n_out</th>\n",
       "      <th>turn_traffic</th>\n",
       "      <th>total_st_traffic</th>\n",
       "    </tr>\n",
       "  </thead>\n",
       "  <tbody>\n",
       "    <tr>\n",
       "      <th>1457954</th>\n",
       "      <td>B026</td>\n",
       "      <td>R230</td>\n",
       "      <td>00-00-03</td>\n",
       "      <td>NECK RD</td>\n",
       "      <td>BQ</td>\n",
       "      <td>BMT</td>\n",
       "      <td>08/05/2019</td>\n",
       "      <td>16:00:00</td>\n",
       "      <td>REGULAR</td>\n",
       "      <td>2059765</td>\n",
       "      <td>290934</td>\n",
       "      <td>NaT</td>\n",
       "      <td>151.0</td>\n",
       "      <td>36.0</td>\n",
       "      <td>187.0</td>\n",
       "      <td>458106.0</td>\n",
       "    </tr>\n",
       "    <tr>\n",
       "      <th>405875</th>\n",
       "      <td>R637</td>\n",
       "      <td>R451</td>\n",
       "      <td>00-00-01</td>\n",
       "      <td>WINTHROP ST</td>\n",
       "      <td>25</td>\n",
       "      <td>IRT</td>\n",
       "      <td>09/16/2019</td>\n",
       "      <td>21:00:00</td>\n",
       "      <td>REGULAR</td>\n",
       "      <td>1808776</td>\n",
       "      <td>179480</td>\n",
       "      <td>NaT</td>\n",
       "      <td>453.0</td>\n",
       "      <td>45.0</td>\n",
       "      <td>498.0</td>\n",
       "      <td>414317.0</td>\n",
       "    </tr>\n",
       "    <tr>\n",
       "      <th>2508781</th>\n",
       "      <td>H001</td>\n",
       "      <td>R175</td>\n",
       "      <td>00-00-02</td>\n",
       "      <td>8 AV</td>\n",
       "      <td>ACEL</td>\n",
       "      <td>BMT</td>\n",
       "      <td>07/01/2019</td>\n",
       "      <td>05:00:00</td>\n",
       "      <td>REGULAR</td>\n",
       "      <td>15780343</td>\n",
       "      <td>8973995</td>\n",
       "      <td>NaT</td>\n",
       "      <td>107.0</td>\n",
       "      <td>22.0</td>\n",
       "      <td>129.0</td>\n",
       "      <td>4926417.0</td>\n",
       "    </tr>\n",
       "    <tr>\n",
       "      <th>1442433</th>\n",
       "      <td>A016</td>\n",
       "      <td>R081</td>\n",
       "      <td>03-00-00</td>\n",
       "      <td>49 ST</td>\n",
       "      <td>NQRW</td>\n",
       "      <td>BMT</td>\n",
       "      <td>08/07/2019</td>\n",
       "      <td>20:00:00</td>\n",
       "      <td>REGULAR</td>\n",
       "      <td>3837548</td>\n",
       "      <td>4628870</td>\n",
       "      <td>NaT</td>\n",
       "      <td>723.0</td>\n",
       "      <td>209.0</td>\n",
       "      <td>932.0</td>\n",
       "      <td>2895209.0</td>\n",
       "    </tr>\n",
       "    <tr>\n",
       "      <th>466603</th>\n",
       "      <td>N078</td>\n",
       "      <td>R175</td>\n",
       "      <td>01-00-00</td>\n",
       "      <td>14 ST</td>\n",
       "      <td>ACEL</td>\n",
       "      <td>IND</td>\n",
       "      <td>09/07/2019</td>\n",
       "      <td>17:00:00</td>\n",
       "      <td>REGULAR</td>\n",
       "      <td>217550</td>\n",
       "      <td>308444</td>\n",
       "      <td>NaT</td>\n",
       "      <td>491.0</td>\n",
       "      <td>785.0</td>\n",
       "      <td>1276.0</td>\n",
       "      <td>7925907.0</td>\n",
       "    </tr>\n",
       "  </tbody>\n",
       "</table>\n",
       "</div>"
      ],
      "text/plain": [
       "          C/A  UNIT       SCP      STATION LINENAME DIVISION        DATE  \\\n",
       "1457954  B026  R230  00-00-03      NECK RD       BQ      BMT  08/05/2019   \n",
       "405875   R637  R451  00-00-01  WINTHROP ST       25      IRT  09/16/2019   \n",
       "2508781  H001  R175  00-00-02         8 AV     ACEL      BMT  07/01/2019   \n",
       "1442433  A016  R081  03-00-00        49 ST     NQRW      BMT  08/07/2019   \n",
       "466603   N078  R175  01-00-00        14 ST     ACEL      IND  09/07/2019   \n",
       "\n",
       "             TIME     DESC   ENTRIES    EXITS datetime   n_in  n_out  \\\n",
       "1457954  16:00:00  REGULAR   2059765   290934      NaT  151.0   36.0   \n",
       "405875   21:00:00  REGULAR   1808776   179480      NaT  453.0   45.0   \n",
       "2508781  05:00:00  REGULAR  15780343  8973995      NaT  107.0   22.0   \n",
       "1442433  20:00:00  REGULAR   3837548  4628870      NaT  723.0  209.0   \n",
       "466603   17:00:00  REGULAR    217550   308444      NaT  491.0  785.0   \n",
       "\n",
       "         turn_traffic  total_st_traffic  \n",
       "1457954         187.0          458106.0  \n",
       "405875          498.0          414317.0  \n",
       "2508781         129.0         4926417.0  \n",
       "1442433         932.0         2895209.0  \n",
       "466603         1276.0         7925907.0  "
      ]
     },
     "execution_count": 32,
     "metadata": {},
     "output_type": "execute_result"
    }
   ],
   "source": [
    "mta19.sample(5)"
   ]
  },
  {
   "cell_type": "code",
   "execution_count": 33,
   "metadata": {},
   "outputs": [
    {
     "data": {
      "text/plain": [
       "34 ST-PENN STA     54278\n",
       "FULTON ST          51754\n",
       "23 ST              37980\n",
       "GRD CNTRL-42 ST    34935\n",
       "86 ST              33003\n",
       "                   ...  \n",
       "225 ST              1080\n",
       "182-183 STS         1069\n",
       "190 ST              1065\n",
       "CLEVELAND ST        1060\n",
       "SUTTER AV           1058\n",
       "Name: STATION, Length: 378, dtype: int64"
      ]
     },
     "execution_count": 33,
     "metadata": {},
     "output_type": "execute_result"
    }
   ],
   "source": [
    "mta19.STATION.value_counts()"
   ]
  },
  {
   "cell_type": "markdown",
   "metadata": {},
   "source": [
    "#### Analysis"
   ]
  },
  {
   "cell_type": "code",
   "execution_count": 34,
   "metadata": {},
   "outputs": [],
   "source": [
    "stations_totals19 = mta19[['STATION', 'total_st_traffic']]"
   ]
  },
  {
   "cell_type": "code",
   "execution_count": 35,
   "metadata": {},
   "outputs": [],
   "source": [
    "stations_totals19 = stations_totals19.drop_duplicates()"
   ]
  },
  {
   "cell_type": "code",
   "execution_count": 36,
   "metadata": {},
   "outputs": [],
   "source": [
    "stations_totals19.sort_values(by='total_st_traffic', ascending=False, inplace=True)"
   ]
  },
  {
   "cell_type": "code",
   "execution_count": 37,
   "metadata": {},
   "outputs": [
    {
     "data": {
      "text/html": [
       "<div>\n",
       "<style scoped>\n",
       "    .dataframe tbody tr th:only-of-type {\n",
       "        vertical-align: middle;\n",
       "    }\n",
       "\n",
       "    .dataframe tbody tr th {\n",
       "        vertical-align: top;\n",
       "    }\n",
       "\n",
       "    .dataframe thead th {\n",
       "        text-align: right;\n",
       "    }\n",
       "</style>\n",
       "<table border=\"1\" class=\"dataframe\">\n",
       "  <thead>\n",
       "    <tr style=\"text-align: right;\">\n",
       "      <th></th>\n",
       "      <th>STATION</th>\n",
       "      <th>total_st_traffic</th>\n",
       "    </tr>\n",
       "  </thead>\n",
       "  <tbody>\n",
       "    <tr>\n",
       "      <th>53269</th>\n",
       "      <td>34 ST-PENN STA</td>\n",
       "      <td>22895035.0</td>\n",
       "    </tr>\n",
       "    <tr>\n",
       "      <th>159311</th>\n",
       "      <td>GRD CNTRL-42 ST</td>\n",
       "      <td>18070068.0</td>\n",
       "    </tr>\n",
       "    <tr>\n",
       "      <th>55956</th>\n",
       "      <td>23 ST</td>\n",
       "      <td>14427153.0</td>\n",
       "    </tr>\n",
       "    <tr>\n",
       "      <th>4886</th>\n",
       "      <td>14 ST-UNION SQ</td>\n",
       "      <td>14352618.0</td>\n",
       "    </tr>\n",
       "    <tr>\n",
       "      <th>208777</th>\n",
       "      <td>34 ST-HERALD SQ</td>\n",
       "      <td>14310239.0</td>\n",
       "    </tr>\n",
       "    <tr>\n",
       "      <th>208235</th>\n",
       "      <td>TIMES SQ-42 ST</td>\n",
       "      <td>14132403.0</td>\n",
       "    </tr>\n",
       "    <tr>\n",
       "      <th>151628</th>\n",
       "      <td>FULTON ST</td>\n",
       "      <td>13448705.0</td>\n",
       "    </tr>\n",
       "    <tr>\n",
       "      <th>52345</th>\n",
       "      <td>42 ST-PORT AUTH</td>\n",
       "      <td>12120128.0</td>\n",
       "    </tr>\n",
       "    <tr>\n",
       "      <th>164666</th>\n",
       "      <td>86 ST</td>\n",
       "      <td>11467283.0</td>\n",
       "    </tr>\n",
       "    <tr>\n",
       "      <th>46833</th>\n",
       "      <td>125 ST</td>\n",
       "      <td>10840362.0</td>\n",
       "    </tr>\n",
       "    <tr>\n",
       "      <th>11685</th>\n",
       "      <td>CANAL ST</td>\n",
       "      <td>10320641.0</td>\n",
       "    </tr>\n",
       "  </tbody>\n",
       "</table>\n",
       "</div>"
      ],
      "text/plain": [
       "                STATION  total_st_traffic\n",
       "53269    34 ST-PENN STA        22895035.0\n",
       "159311  GRD CNTRL-42 ST        18070068.0\n",
       "55956             23 ST        14427153.0\n",
       "4886     14 ST-UNION SQ        14352618.0\n",
       "208777  34 ST-HERALD SQ        14310239.0\n",
       "208235   TIMES SQ-42 ST        14132403.0\n",
       "151628        FULTON ST        13448705.0\n",
       "52345   42 ST-PORT AUTH        12120128.0\n",
       "164666            86 ST        11467283.0\n",
       "46833            125 ST        10840362.0\n",
       "11685          CANAL ST        10320641.0"
      ]
     },
     "execution_count": 37,
     "metadata": {},
     "output_type": "execute_result"
    }
   ],
   "source": [
    "top_ten_stations_totals19 = stations_totals19[:11]\n",
    "top_ten_stations_totals19"
   ]
  },
  {
   "cell_type": "markdown",
   "metadata": {},
   "source": [
    "### Compare to 2020 data"
   ]
  },
  {
   "cell_type": "code",
   "execution_count": 38,
   "metadata": {},
   "outputs": [
    {
     "data": {
      "text/html": [
       "<div>\n",
       "<style scoped>\n",
       "    .dataframe tbody tr th:only-of-type {\n",
       "        vertical-align: middle;\n",
       "    }\n",
       "\n",
       "    .dataframe tbody tr th {\n",
       "        vertical-align: top;\n",
       "    }\n",
       "\n",
       "    .dataframe thead th {\n",
       "        text-align: right;\n",
       "    }\n",
       "</style>\n",
       "<table border=\"1\" class=\"dataframe\">\n",
       "  <thead>\n",
       "    <tr style=\"text-align: right;\">\n",
       "      <th></th>\n",
       "      <th>STATION</th>\n",
       "      <th>total_st_traffic</th>\n",
       "    </tr>\n",
       "  </thead>\n",
       "  <tbody>\n",
       "    <tr>\n",
       "      <th>61</th>\n",
       "      <td>34 ST-PENN STA</td>\n",
       "      <td>448535.0</td>\n",
       "    </tr>\n",
       "    <tr>\n",
       "      <th>59</th>\n",
       "      <td>34 ST-HERALD SQ</td>\n",
       "      <td>355745.0</td>\n",
       "    </tr>\n",
       "    <tr>\n",
       "      <th>110</th>\n",
       "      <td>86 ST</td>\n",
       "      <td>350144.0</td>\n",
       "    </tr>\n",
       "    <tr>\n",
       "      <th>9</th>\n",
       "      <td>125 ST</td>\n",
       "      <td>336779.0</td>\n",
       "    </tr>\n",
       "    <tr>\n",
       "      <th>14</th>\n",
       "      <td>14 ST-UNION SQ</td>\n",
       "      <td>320217.0</td>\n",
       "    </tr>\n",
       "    <tr>\n",
       "      <th>233</th>\n",
       "      <td>GRD CNTRL-42 ST</td>\n",
       "      <td>302224.0</td>\n",
       "    </tr>\n",
       "    <tr>\n",
       "      <th>46</th>\n",
       "      <td>23 ST</td>\n",
       "      <td>274861.0</td>\n",
       "    </tr>\n",
       "    <tr>\n",
       "      <th>68</th>\n",
       "      <td>42 ST-PORT AUTH</td>\n",
       "      <td>274861.0</td>\n",
       "    </tr>\n",
       "    <tr>\n",
       "      <th>217</th>\n",
       "      <td>FLUSHING-MAIN</td>\n",
       "      <td>268476.0</td>\n",
       "    </tr>\n",
       "    <tr>\n",
       "      <th>226</th>\n",
       "      <td>FULTON ST</td>\n",
       "      <td>260552.0</td>\n",
       "    </tr>\n",
       "    <tr>\n",
       "      <th>85</th>\n",
       "      <td>59 ST</td>\n",
       "      <td>253530.0</td>\n",
       "    </tr>\n",
       "  </tbody>\n",
       "</table>\n",
       "</div>"
      ],
      "text/plain": [
       "             STATION  total_st_traffic\n",
       "61    34 ST-PENN STA          448535.0\n",
       "59   34 ST-HERALD SQ          355745.0\n",
       "110            86 ST          350144.0\n",
       "9             125 ST          336779.0\n",
       "14    14 ST-UNION SQ          320217.0\n",
       "233  GRD CNTRL-42 ST          302224.0\n",
       "46             23 ST          274861.0\n",
       "68   42 ST-PORT AUTH          274861.0\n",
       "217    FLUSHING-MAIN          268476.0\n",
       "226        FULTON ST          260552.0\n",
       "85             59 ST          253530.0"
      ]
     },
     "execution_count": 38,
     "metadata": {},
     "output_type": "execute_result"
    }
   ],
   "source": [
    "top_ten_stations_totals20 = stations_totals[:11]\n",
    "top_ten_stations_totals20"
   ]
  },
  {
   "cell_type": "markdown",
   "metadata": {},
   "source": [
    "### adding years to dfs"
   ]
  },
  {
   "cell_type": "code",
   "execution_count": 39,
   "metadata": {},
   "outputs": [
    {
     "name": "stderr",
     "output_type": "stream",
     "text": [
      "<ipython-input-39-072bd00bbf76>:1: SettingWithCopyWarning: \n",
      "A value is trying to be set on a copy of a slice from a DataFrame.\n",
      "Try using .loc[row_indexer,col_indexer] = value instead\n",
      "\n",
      "See the caveats in the documentation: https://pandas.pydata.org/pandas-docs/stable/user_guide/indexing.html#returning-a-view-versus-a-copy\n",
      "  top_ten_stations_totals19['year'] = 2019\n",
      "<ipython-input-39-072bd00bbf76>:2: SettingWithCopyWarning: \n",
      "A value is trying to be set on a copy of a slice from a DataFrame.\n",
      "Try using .loc[row_indexer,col_indexer] = value instead\n",
      "\n",
      "See the caveats in the documentation: https://pandas.pydata.org/pandas-docs/stable/user_guide/indexing.html#returning-a-view-versus-a-copy\n",
      "  top_ten_stations_totals20['year'] = 2020\n"
     ]
    }
   ],
   "source": [
    "top_ten_stations_totals19['year'] = 2019\n",
    "top_ten_stations_totals20['year'] = 2020\n",
    "top_ten_stations_totals19 = top_ten_stations_totals19.reset_index()\n",
    "top_ten_stations_totals20 = top_ten_stations_totals20.reset_index()"
   ]
  },
  {
   "cell_type": "code",
   "execution_count": 40,
   "metadata": {},
   "outputs": [
    {
     "data": {
      "text/html": [
       "<div>\n",
       "<style scoped>\n",
       "    .dataframe tbody tr th:only-of-type {\n",
       "        vertical-align: middle;\n",
       "    }\n",
       "\n",
       "    .dataframe tbody tr th {\n",
       "        vertical-align: top;\n",
       "    }\n",
       "\n",
       "    .dataframe thead th {\n",
       "        text-align: right;\n",
       "    }\n",
       "</style>\n",
       "<table border=\"1\" class=\"dataframe\">\n",
       "  <thead>\n",
       "    <tr style=\"text-align: right;\">\n",
       "      <th></th>\n",
       "      <th>index</th>\n",
       "      <th>STATION</th>\n",
       "      <th>total_st_traffic</th>\n",
       "      <th>year</th>\n",
       "    </tr>\n",
       "  </thead>\n",
       "  <tbody>\n",
       "    <tr>\n",
       "      <th>0</th>\n",
       "      <td>53269</td>\n",
       "      <td>34 ST-PENN STA</td>\n",
       "      <td>22895035.0</td>\n",
       "      <td>2019</td>\n",
       "    </tr>\n",
       "    <tr>\n",
       "      <th>1</th>\n",
       "      <td>159311</td>\n",
       "      <td>GRD CNTRL-42 ST</td>\n",
       "      <td>18070068.0</td>\n",
       "      <td>2019</td>\n",
       "    </tr>\n",
       "    <tr>\n",
       "      <th>2</th>\n",
       "      <td>55956</td>\n",
       "      <td>23 ST</td>\n",
       "      <td>14427153.0</td>\n",
       "      <td>2019</td>\n",
       "    </tr>\n",
       "    <tr>\n",
       "      <th>3</th>\n",
       "      <td>4886</td>\n",
       "      <td>14 ST-UNION SQ</td>\n",
       "      <td>14352618.0</td>\n",
       "      <td>2019</td>\n",
       "    </tr>\n",
       "    <tr>\n",
       "      <th>4</th>\n",
       "      <td>208777</td>\n",
       "      <td>34 ST-HERALD SQ</td>\n",
       "      <td>14310239.0</td>\n",
       "      <td>2019</td>\n",
       "    </tr>\n",
       "    <tr>\n",
       "      <th>5</th>\n",
       "      <td>208235</td>\n",
       "      <td>TIMES SQ-42 ST</td>\n",
       "      <td>14132403.0</td>\n",
       "      <td>2019</td>\n",
       "    </tr>\n",
       "    <tr>\n",
       "      <th>6</th>\n",
       "      <td>151628</td>\n",
       "      <td>FULTON ST</td>\n",
       "      <td>13448705.0</td>\n",
       "      <td>2019</td>\n",
       "    </tr>\n",
       "    <tr>\n",
       "      <th>7</th>\n",
       "      <td>52345</td>\n",
       "      <td>42 ST-PORT AUTH</td>\n",
       "      <td>12120128.0</td>\n",
       "      <td>2019</td>\n",
       "    </tr>\n",
       "    <tr>\n",
       "      <th>8</th>\n",
       "      <td>164666</td>\n",
       "      <td>86 ST</td>\n",
       "      <td>11467283.0</td>\n",
       "      <td>2019</td>\n",
       "    </tr>\n",
       "    <tr>\n",
       "      <th>9</th>\n",
       "      <td>46833</td>\n",
       "      <td>125 ST</td>\n",
       "      <td>10840362.0</td>\n",
       "      <td>2019</td>\n",
       "    </tr>\n",
       "    <tr>\n",
       "      <th>10</th>\n",
       "      <td>11685</td>\n",
       "      <td>CANAL ST</td>\n",
       "      <td>10320641.0</td>\n",
       "      <td>2019</td>\n",
       "    </tr>\n",
       "  </tbody>\n",
       "</table>\n",
       "</div>"
      ],
      "text/plain": [
       "     index          STATION  total_st_traffic  year\n",
       "0    53269   34 ST-PENN STA        22895035.0  2019\n",
       "1   159311  GRD CNTRL-42 ST        18070068.0  2019\n",
       "2    55956            23 ST        14427153.0  2019\n",
       "3     4886   14 ST-UNION SQ        14352618.0  2019\n",
       "4   208777  34 ST-HERALD SQ        14310239.0  2019\n",
       "5   208235   TIMES SQ-42 ST        14132403.0  2019\n",
       "6   151628        FULTON ST        13448705.0  2019\n",
       "7    52345  42 ST-PORT AUTH        12120128.0  2019\n",
       "8   164666            86 ST        11467283.0  2019\n",
       "9    46833           125 ST        10840362.0  2019\n",
       "10   11685         CANAL ST        10320641.0  2019"
      ]
     },
     "execution_count": 40,
     "metadata": {},
     "output_type": "execute_result"
    }
   ],
   "source": [
    "top_ten_stations_totals19"
   ]
  },
  {
   "cell_type": "code",
   "execution_count": 41,
   "metadata": {},
   "outputs": [],
   "source": [
    "#top_ten_stations_totals19.to_excel(r'/Users/zacharybrandt/Desktop/Metis/Project_1/top_ten_stations_totals19.xlsx', index = False)"
   ]
  },
  {
   "cell_type": "code",
   "execution_count": 42,
   "metadata": {},
   "outputs": [
    {
     "data": {
      "text/html": [
       "<div>\n",
       "<style scoped>\n",
       "    .dataframe tbody tr th:only-of-type {\n",
       "        vertical-align: middle;\n",
       "    }\n",
       "\n",
       "    .dataframe tbody tr th {\n",
       "        vertical-align: top;\n",
       "    }\n",
       "\n",
       "    .dataframe thead th {\n",
       "        text-align: right;\n",
       "    }\n",
       "</style>\n",
       "<table border=\"1\" class=\"dataframe\">\n",
       "  <thead>\n",
       "    <tr style=\"text-align: right;\">\n",
       "      <th></th>\n",
       "      <th>index</th>\n",
       "      <th>STATION</th>\n",
       "      <th>total_st_traffic</th>\n",
       "      <th>year</th>\n",
       "    </tr>\n",
       "  </thead>\n",
       "  <tbody>\n",
       "    <tr>\n",
       "      <th>0</th>\n",
       "      <td>61</td>\n",
       "      <td>34 ST-PENN STA</td>\n",
       "      <td>448535.0</td>\n",
       "      <td>2020</td>\n",
       "    </tr>\n",
       "    <tr>\n",
       "      <th>1</th>\n",
       "      <td>59</td>\n",
       "      <td>34 ST-HERALD SQ</td>\n",
       "      <td>355745.0</td>\n",
       "      <td>2020</td>\n",
       "    </tr>\n",
       "    <tr>\n",
       "      <th>2</th>\n",
       "      <td>110</td>\n",
       "      <td>86 ST</td>\n",
       "      <td>350144.0</td>\n",
       "      <td>2020</td>\n",
       "    </tr>\n",
       "    <tr>\n",
       "      <th>3</th>\n",
       "      <td>9</td>\n",
       "      <td>125 ST</td>\n",
       "      <td>336779.0</td>\n",
       "      <td>2020</td>\n",
       "    </tr>\n",
       "    <tr>\n",
       "      <th>4</th>\n",
       "      <td>14</td>\n",
       "      <td>14 ST-UNION SQ</td>\n",
       "      <td>320217.0</td>\n",
       "      <td>2020</td>\n",
       "    </tr>\n",
       "    <tr>\n",
       "      <th>5</th>\n",
       "      <td>233</td>\n",
       "      <td>GRD CNTRL-42 ST</td>\n",
       "      <td>302224.0</td>\n",
       "      <td>2020</td>\n",
       "    </tr>\n",
       "    <tr>\n",
       "      <th>6</th>\n",
       "      <td>46</td>\n",
       "      <td>23 ST</td>\n",
       "      <td>274861.0</td>\n",
       "      <td>2020</td>\n",
       "    </tr>\n",
       "    <tr>\n",
       "      <th>7</th>\n",
       "      <td>68</td>\n",
       "      <td>42 ST-PORT AUTH</td>\n",
       "      <td>274861.0</td>\n",
       "      <td>2020</td>\n",
       "    </tr>\n",
       "    <tr>\n",
       "      <th>8</th>\n",
       "      <td>217</td>\n",
       "      <td>FLUSHING-MAIN</td>\n",
       "      <td>268476.0</td>\n",
       "      <td>2020</td>\n",
       "    </tr>\n",
       "    <tr>\n",
       "      <th>9</th>\n",
       "      <td>226</td>\n",
       "      <td>FULTON ST</td>\n",
       "      <td>260552.0</td>\n",
       "      <td>2020</td>\n",
       "    </tr>\n",
       "    <tr>\n",
       "      <th>10</th>\n",
       "      <td>85</td>\n",
       "      <td>59 ST</td>\n",
       "      <td>253530.0</td>\n",
       "      <td>2020</td>\n",
       "    </tr>\n",
       "  </tbody>\n",
       "</table>\n",
       "</div>"
      ],
      "text/plain": [
       "    index          STATION  total_st_traffic  year\n",
       "0      61   34 ST-PENN STA          448535.0  2020\n",
       "1      59  34 ST-HERALD SQ          355745.0  2020\n",
       "2     110            86 ST          350144.0  2020\n",
       "3       9           125 ST          336779.0  2020\n",
       "4      14   14 ST-UNION SQ          320217.0  2020\n",
       "5     233  GRD CNTRL-42 ST          302224.0  2020\n",
       "6      46            23 ST          274861.0  2020\n",
       "7      68  42 ST-PORT AUTH          274861.0  2020\n",
       "8     217    FLUSHING-MAIN          268476.0  2020\n",
       "9     226        FULTON ST          260552.0  2020\n",
       "10     85            59 ST          253530.0  2020"
      ]
     },
     "execution_count": 42,
     "metadata": {},
     "output_type": "execute_result"
    }
   ],
   "source": [
    "top_ten_stations_totals20"
   ]
  },
  {
   "cell_type": "code",
   "execution_count": 43,
   "metadata": {},
   "outputs": [],
   "source": [
    "#This cell was used to export the data as excel\n",
    "#top_ten_stations_totals20.to_excel(r'/Users/zacharybrandt/Desktop/Metis/Project_1/top_ten_stations_totals20.xlsx', index = False)"
   ]
  },
  {
   "cell_type": "markdown",
   "metadata": {},
   "source": [
    "### Combining into one df"
   ]
  },
  {
   "cell_type": "code",
   "execution_count": 44,
   "metadata": {},
   "outputs": [
    {
     "data": {
      "text/html": [
       "<div>\n",
       "<style scoped>\n",
       "    .dataframe tbody tr th:only-of-type {\n",
       "        vertical-align: middle;\n",
       "    }\n",
       "\n",
       "    .dataframe tbody tr th {\n",
       "        vertical-align: top;\n",
       "    }\n",
       "\n",
       "    .dataframe thead th {\n",
       "        text-align: right;\n",
       "    }\n",
       "</style>\n",
       "<table border=\"1\" class=\"dataframe\">\n",
       "  <thead>\n",
       "    <tr style=\"text-align: right;\">\n",
       "      <th></th>\n",
       "      <th>index</th>\n",
       "      <th>STATION</th>\n",
       "      <th>total_st_traffic</th>\n",
       "      <th>year</th>\n",
       "    </tr>\n",
       "  </thead>\n",
       "  <tbody>\n",
       "    <tr>\n",
       "      <th>0</th>\n",
       "      <td>53269</td>\n",
       "      <td>34 ST-PENN STA</td>\n",
       "      <td>22895035.0</td>\n",
       "      <td>2019</td>\n",
       "    </tr>\n",
       "    <tr>\n",
       "      <th>1</th>\n",
       "      <td>159311</td>\n",
       "      <td>GRD CNTRL-42 ST</td>\n",
       "      <td>18070068.0</td>\n",
       "      <td>2019</td>\n",
       "    </tr>\n",
       "    <tr>\n",
       "      <th>2</th>\n",
       "      <td>55956</td>\n",
       "      <td>23 ST</td>\n",
       "      <td>14427153.0</td>\n",
       "      <td>2019</td>\n",
       "    </tr>\n",
       "    <tr>\n",
       "      <th>3</th>\n",
       "      <td>4886</td>\n",
       "      <td>14 ST-UNION SQ</td>\n",
       "      <td>14352618.0</td>\n",
       "      <td>2019</td>\n",
       "    </tr>\n",
       "    <tr>\n",
       "      <th>4</th>\n",
       "      <td>208777</td>\n",
       "      <td>34 ST-HERALD SQ</td>\n",
       "      <td>14310239.0</td>\n",
       "      <td>2019</td>\n",
       "    </tr>\n",
       "    <tr>\n",
       "      <th>5</th>\n",
       "      <td>208235</td>\n",
       "      <td>TIMES SQ-42 ST</td>\n",
       "      <td>14132403.0</td>\n",
       "      <td>2019</td>\n",
       "    </tr>\n",
       "    <tr>\n",
       "      <th>6</th>\n",
       "      <td>151628</td>\n",
       "      <td>FULTON ST</td>\n",
       "      <td>13448705.0</td>\n",
       "      <td>2019</td>\n",
       "    </tr>\n",
       "    <tr>\n",
       "      <th>7</th>\n",
       "      <td>52345</td>\n",
       "      <td>42 ST-PORT AUTH</td>\n",
       "      <td>12120128.0</td>\n",
       "      <td>2019</td>\n",
       "    </tr>\n",
       "    <tr>\n",
       "      <th>8</th>\n",
       "      <td>164666</td>\n",
       "      <td>86 ST</td>\n",
       "      <td>11467283.0</td>\n",
       "      <td>2019</td>\n",
       "    </tr>\n",
       "    <tr>\n",
       "      <th>9</th>\n",
       "      <td>46833</td>\n",
       "      <td>125 ST</td>\n",
       "      <td>10840362.0</td>\n",
       "      <td>2019</td>\n",
       "    </tr>\n",
       "    <tr>\n",
       "      <th>10</th>\n",
       "      <td>11685</td>\n",
       "      <td>CANAL ST</td>\n",
       "      <td>10320641.0</td>\n",
       "      <td>2019</td>\n",
       "    </tr>\n",
       "    <tr>\n",
       "      <th>11</th>\n",
       "      <td>61</td>\n",
       "      <td>34 ST-PENN STA</td>\n",
       "      <td>448535.0</td>\n",
       "      <td>2020</td>\n",
       "    </tr>\n",
       "    <tr>\n",
       "      <th>12</th>\n",
       "      <td>59</td>\n",
       "      <td>34 ST-HERALD SQ</td>\n",
       "      <td>355745.0</td>\n",
       "      <td>2020</td>\n",
       "    </tr>\n",
       "    <tr>\n",
       "      <th>13</th>\n",
       "      <td>110</td>\n",
       "      <td>86 ST</td>\n",
       "      <td>350144.0</td>\n",
       "      <td>2020</td>\n",
       "    </tr>\n",
       "    <tr>\n",
       "      <th>14</th>\n",
       "      <td>9</td>\n",
       "      <td>125 ST</td>\n",
       "      <td>336779.0</td>\n",
       "      <td>2020</td>\n",
       "    </tr>\n",
       "    <tr>\n",
       "      <th>15</th>\n",
       "      <td>14</td>\n",
       "      <td>14 ST-UNION SQ</td>\n",
       "      <td>320217.0</td>\n",
       "      <td>2020</td>\n",
       "    </tr>\n",
       "    <tr>\n",
       "      <th>16</th>\n",
       "      <td>233</td>\n",
       "      <td>GRD CNTRL-42 ST</td>\n",
       "      <td>302224.0</td>\n",
       "      <td>2020</td>\n",
       "    </tr>\n",
       "    <tr>\n",
       "      <th>17</th>\n",
       "      <td>46</td>\n",
       "      <td>23 ST</td>\n",
       "      <td>274861.0</td>\n",
       "      <td>2020</td>\n",
       "    </tr>\n",
       "    <tr>\n",
       "      <th>18</th>\n",
       "      <td>68</td>\n",
       "      <td>42 ST-PORT AUTH</td>\n",
       "      <td>274861.0</td>\n",
       "      <td>2020</td>\n",
       "    </tr>\n",
       "    <tr>\n",
       "      <th>19</th>\n",
       "      <td>217</td>\n",
       "      <td>FLUSHING-MAIN</td>\n",
       "      <td>268476.0</td>\n",
       "      <td>2020</td>\n",
       "    </tr>\n",
       "    <tr>\n",
       "      <th>20</th>\n",
       "      <td>226</td>\n",
       "      <td>FULTON ST</td>\n",
       "      <td>260552.0</td>\n",
       "      <td>2020</td>\n",
       "    </tr>\n",
       "    <tr>\n",
       "      <th>21</th>\n",
       "      <td>85</td>\n",
       "      <td>59 ST</td>\n",
       "      <td>253530.0</td>\n",
       "      <td>2020</td>\n",
       "    </tr>\n",
       "  </tbody>\n",
       "</table>\n",
       "</div>"
      ],
      "text/plain": [
       "     index          STATION  total_st_traffic  year\n",
       "0    53269   34 ST-PENN STA        22895035.0  2019\n",
       "1   159311  GRD CNTRL-42 ST        18070068.0  2019\n",
       "2    55956            23 ST        14427153.0  2019\n",
       "3     4886   14 ST-UNION SQ        14352618.0  2019\n",
       "4   208777  34 ST-HERALD SQ        14310239.0  2019\n",
       "5   208235   TIMES SQ-42 ST        14132403.0  2019\n",
       "6   151628        FULTON ST        13448705.0  2019\n",
       "7    52345  42 ST-PORT AUTH        12120128.0  2019\n",
       "8   164666            86 ST        11467283.0  2019\n",
       "9    46833           125 ST        10840362.0  2019\n",
       "10   11685         CANAL ST        10320641.0  2019\n",
       "11      61   34 ST-PENN STA          448535.0  2020\n",
       "12      59  34 ST-HERALD SQ          355745.0  2020\n",
       "13     110            86 ST          350144.0  2020\n",
       "14       9           125 ST          336779.0  2020\n",
       "15      14   14 ST-UNION SQ          320217.0  2020\n",
       "16     233  GRD CNTRL-42 ST          302224.0  2020\n",
       "17      46            23 ST          274861.0  2020\n",
       "18      68  42 ST-PORT AUTH          274861.0  2020\n",
       "19     217    FLUSHING-MAIN          268476.0  2020\n",
       "20     226        FULTON ST          260552.0  2020\n",
       "21      85            59 ST          253530.0  2020"
      ]
     },
     "execution_count": 44,
     "metadata": {},
     "output_type": "execute_result"
    }
   ],
   "source": [
    "top_ten_stations_both = pd.concat([top_ten_stations_totals19, top_ten_stations_totals20], ignore_index = True)\n",
    "top_ten_stations_both"
   ]
  },
  {
   "cell_type": "markdown",
   "metadata": {},
   "source": [
    "### Ploting the two"
   ]
  },
  {
   "cell_type": "code",
   "execution_count": 45,
   "metadata": {},
   "outputs": [
    {
     "data": {
      "text/plain": [
       "<seaborn.axisgrid.FacetGrid at 0x7f8205a9b2b0>"
      ]
     },
     "execution_count": 45,
     "metadata": {},
     "output_type": "execute_result"
    },
    {
     "data": {
      "text/plain": [
       "<Figure size 1440x720 with 0 Axes>"
      ]
     },
     "metadata": {},
     "output_type": "display_data"
    },
    {
     "data": {
      "image/png": "[encoded data removed]",
      "text/plain": [
       "<Figure size 925.5x432 with 1 Axes>"
      ]
     },
     "metadata": {
      "needs_background": "light"
     },
     "output_type": "display_data"
    }
   ],
   "source": [
    "plt.figure(figsize=[20,10])\n",
    "compare_years = sns.catplot(\n",
    "    data = top_ten_stations_both, kind = \"bar\",\n",
    "    x = \"STATION\", y =\"total_st_traffic\", hue = \"year\", \n",
    "    palette = sns.color_palette(), alpha=.6, height=6,\n",
    "    aspect = 2\n",
    ")\n",
    "compare_years.set_xticklabels(rotation=90)\n",
    "compare_years.set(xlabel=\"Station\", ylabel = \"Traffic (10 Million)\")\n",
    "compare_years.set(title = \"Top 10 Stations in years 2019/2020\")"
   ]
  },
  {
   "cell_type": "code",
   "execution_count": 46,
   "metadata": {},
   "outputs": [],
   "source": [
    "compare_years.savefig(\"compare_years.png\")"
   ]
  },
  {
   "cell_type": "markdown",
   "metadata": {},
   "source": [
    "---"
   ]
  },
  {
   "cell_type": "markdown",
   "metadata": {},
   "source": [
    "**Filter for Top N Stations (N=25)**"
   ]
  },
  {
   "cell_type": "code",
   "execution_count": 47,
   "metadata": {},
   "outputs": [],
   "source": [
    "n=25"
   ]
  },
  {
   "cell_type": "code",
   "execution_count": 48,
   "metadata": {},
   "outputs": [],
   "source": [
    "#Assume focus on top ten total traffic\n",
    "\n",
    "#increase to top 25\n",
    "s = [each for _, each in stations_totals[:n]['STATION'].items()]"
   ]
  },
  {
   "cell_type": "code",
   "execution_count": 49,
   "metadata": {},
   "outputs": [],
   "source": [
    "#Change df name to top_ranking\n",
    "top_ranked_df = pd.DataFrame(mta[mta.STATION.isin(s)])"
   ]
  },
  {
   "cell_type": "code",
   "execution_count": 50,
   "metadata": {},
   "outputs": [
    {
     "data": {
      "text/plain": [
       "34 ST-PENN STA     3995\n",
       "FULTON ST          3931\n",
       "GRD CNTRL-42 ST    3130\n",
       "23 ST              2937\n",
       "86 ST              2621\n",
       "CANAL ST           2342\n",
       "59 ST              2251\n",
       "34 ST-HERALD SQ    2187\n",
       "ATL AV-BARCLAY     2090\n",
       "14 ST              1992\n",
       "42 ST-PORT AUTH    1965\n",
       "PATH NEW WTC       1744\n",
       "TIMES SQ-42 ST     1722\n",
       "125 ST             1685\n",
       "59 ST COLUMBUS     1681\n",
       "14 ST-UNION SQ     1681\n",
       "47-50 STS ROCK     1476\n",
       "96 ST              1473\n",
       "CHURCH AV          1442\n",
       "KINGS HWY          1225\n",
       "72 ST              1153\n",
       "FLUSHING-MAIN       980\n",
       "JKSN HT-ROOSVLT     902\n",
       "JAMAICA CENTER      824\n",
       "145 ST              820\n",
       "Name: STATION, dtype: int64"
      ]
     },
     "execution_count": 50,
     "metadata": {},
     "output_type": "execute_result"
    }
   ],
   "source": [
    "top_ranked_df.STATION.value_counts()"
   ]
  },
  {
   "cell_type": "code",
   "execution_count": 52,
   "metadata": {},
   "outputs": [],
   "source": [
    "#try top_ranked_df.dt.dayofweek()\n",
    "#top_ranked_df['day_of_week'] = top_ranked_df['datetime'].apply(lambda x : x.weekday())"
   ]
  },
  {
   "cell_type": "markdown",
   "metadata": {},
   "source": [
    "**Determine Daily Cumulative traffic by day of week from Top n Stations of all time**"
   ]
  },
  {
   "cell_type": "code",
   "execution_count": 143,
   "metadata": {},
   "outputs": [],
   "source": [
    "daily_df = mta[mta.STATION.isin(s[:n])].groupby(['STATION','day_of_week'], as_index=False).turn_traffic.sum()\n",
    "daily_df.rename(columns={'turn_traffic':'daily_traffic'}, inplace=True)"
   ]
  },
  {
   "cell_type": "code",
   "execution_count": 144,
   "metadata": {},
   "outputs": [
    {
     "data": {
      "text/plain": [
       "Text(0.5, 1.0, 'Cumulative Daily Traffic')"
      ]
     },
     "execution_count": 144,
     "metadata": {},
     "output_type": "execute_result"
    },
    {
     "data": {
      "image/png": "[encoded data removed]",
      "text/plain": [
       "<Figure size 432x288 with 1 Axes>"
      ]
     },
     "metadata": {},
     "output_type": "display_data"
    }
   ],
   "source": [
    "sns.barplot(x='day_of_week', y='daily_traffic', data=daily_df, color='b')\n",
    "\n",
    "plt.xlabel('Day of Week')\n",
    "plt.ylabel('Number of People')\n",
    "plt.title('Cumulative Daily Traffic')"
   ]
  },
  {
   "cell_type": "code",
   "execution_count": 57,
   "metadata": {},
   "outputs": [],
   "source": [
    "top_ranked_df['traffic_by_time_by_station'] = top_ranked_df.groupby(['STATION', 'day_of_week', 'TIME']).turn_traffic.transform('sum')"
   ]
  },
  {
   "cell_type": "code",
   "execution_count": 58,
   "metadata": {},
   "outputs": [
    {
     "data": {
      "text/html": [
       "<div>\n",
       "<style scoped>\n",
       "    .dataframe tbody tr th:only-of-type {\n",
       "        vertical-align: middle;\n",
       "    }\n",
       "\n",
       "    .dataframe tbody tr th {\n",
       "        vertical-align: top;\n",
       "    }\n",
       "\n",
       "    .dataframe thead th {\n",
       "        text-align: right;\n",
       "    }\n",
       "</style>\n",
       "<table border=\"1\" class=\"dataframe\">\n",
       "  <thead>\n",
       "    <tr style=\"text-align: right;\">\n",
       "      <th></th>\n",
       "      <th>C/A</th>\n",
       "      <th>UNIT</th>\n",
       "      <th>SCP</th>\n",
       "      <th>STATION</th>\n",
       "      <th>LINENAME</th>\n",
       "      <th>DIVISION</th>\n",
       "      <th>DATE</th>\n",
       "      <th>TIME</th>\n",
       "      <th>DESC</th>\n",
       "      <th>ENTRIES</th>\n",
       "      <th>EXITS</th>\n",
       "      <th>datetime</th>\n",
       "      <th>n_in</th>\n",
       "      <th>n_out</th>\n",
       "      <th>turn_traffic</th>\n",
       "      <th>day_of_week</th>\n",
       "      <th>daily_traffic</th>\n",
       "      <th>traffic_by_time_by_station</th>\n",
       "    </tr>\n",
       "  </thead>\n",
       "  <tbody>\n",
       "    <tr>\n",
       "      <th>58128</th>\n",
       "      <td>N076</td>\n",
       "      <td>R111</td>\n",
       "      <td>00-00-02</td>\n",
       "      <td>23 ST</td>\n",
       "      <td>CE</td>\n",
       "      <td>IND</td>\n",
       "      <td>09/12/2020</td>\n",
       "      <td>04:00:00</td>\n",
       "      <td>REGULAR</td>\n",
       "      <td>375812</td>\n",
       "      <td>234710</td>\n",
       "      <td>2020-09-12 04:00:00</td>\n",
       "      <td>13.0</td>\n",
       "      <td>10.0</td>\n",
       "      <td>23.0</td>\n",
       "      <td>5</td>\n",
       "      <td>24106.0</td>\n",
       "      <td>316.0</td>\n",
       "    </tr>\n",
       "    <tr>\n",
       "      <th>3458</th>\n",
       "      <td>A022</td>\n",
       "      <td>R022</td>\n",
       "      <td>01-06-00</td>\n",
       "      <td>34 ST-HERALD SQ</td>\n",
       "      <td>BDFMNQRW</td>\n",
       "      <td>BMT</td>\n",
       "      <td>09/12/2020</td>\n",
       "      <td>04:00:00</td>\n",
       "      <td>REGULAR</td>\n",
       "      <td>67828565</td>\n",
       "      <td>18909317</td>\n",
       "      <td>2020-09-12 04:00:00</td>\n",
       "      <td>3.0</td>\n",
       "      <td>3.0</td>\n",
       "      <td>6.0</td>\n",
       "      <td>5</td>\n",
       "      <td>33981.0</td>\n",
       "      <td>646.0</td>\n",
       "    </tr>\n",
       "    <tr>\n",
       "      <th>3374</th>\n",
       "      <td>A022</td>\n",
       "      <td>R022</td>\n",
       "      <td>01-00-01</td>\n",
       "      <td>34 ST-HERALD SQ</td>\n",
       "      <td>BDFMNQRW</td>\n",
       "      <td>BMT</td>\n",
       "      <td>09/12/2020</td>\n",
       "      <td>04:00:00</td>\n",
       "      <td>REGULAR</td>\n",
       "      <td>28218607</td>\n",
       "      <td>11740429</td>\n",
       "      <td>2020-09-12 04:00:00</td>\n",
       "      <td>9.0</td>\n",
       "      <td>5.0</td>\n",
       "      <td>14.0</td>\n",
       "      <td>5</td>\n",
       "      <td>33981.0</td>\n",
       "      <td>646.0</td>\n",
       "    </tr>\n",
       "    <tr>\n",
       "      <th>57919</th>\n",
       "      <td>N075</td>\n",
       "      <td>R111</td>\n",
       "      <td>01-05-01</td>\n",
       "      <td>23 ST</td>\n",
       "      <td>CE</td>\n",
       "      <td>IND</td>\n",
       "      <td>09/12/2020</td>\n",
       "      <td>04:00:00</td>\n",
       "      <td>REGULAR</td>\n",
       "      <td>6</td>\n",
       "      <td>1209</td>\n",
       "      <td>2020-09-12 04:00:00</td>\n",
       "      <td>0.0</td>\n",
       "      <td>0.0</td>\n",
       "      <td>0.0</td>\n",
       "      <td>5</td>\n",
       "      <td>24106.0</td>\n",
       "      <td>316.0</td>\n",
       "    </tr>\n",
       "    <tr>\n",
       "      <th>15279</th>\n",
       "      <td>B016</td>\n",
       "      <td>R098</td>\n",
       "      <td>00-03-01</td>\n",
       "      <td>CHURCH AV</td>\n",
       "      <td>BQ</td>\n",
       "      <td>BMT</td>\n",
       "      <td>09/12/2020</td>\n",
       "      <td>04:00:00</td>\n",
       "      <td>REGULAR</td>\n",
       "      <td>2040832</td>\n",
       "      <td>1058563</td>\n",
       "      <td>2020-09-12 04:00:00</td>\n",
       "      <td>6.0</td>\n",
       "      <td>23.0</td>\n",
       "      <td>29.0</td>\n",
       "      <td>5</td>\n",
       "      <td>14799.0</td>\n",
       "      <td>604.0</td>\n",
       "    </tr>\n",
       "  </tbody>\n",
       "</table>\n",
       "</div>"
      ],
      "text/plain": [
       "        C/A  UNIT       SCP          STATION  LINENAME DIVISION        DATE  \\\n",
       "58128  N076  R111  00-00-02            23 ST        CE      IND  09/12/2020   \n",
       "3458   A022  R022  01-06-00  34 ST-HERALD SQ  BDFMNQRW      BMT  09/12/2020   \n",
       "3374   A022  R022  01-00-01  34 ST-HERALD SQ  BDFMNQRW      BMT  09/12/2020   \n",
       "57919  N075  R111  01-05-01            23 ST        CE      IND  09/12/2020   \n",
       "15279  B016  R098  00-03-01        CHURCH AV        BQ      BMT  09/12/2020   \n",
       "\n",
       "           TIME     DESC   ENTRIES     EXITS            datetime  n_in  n_out  \\\n",
       "58128  04:00:00  REGULAR    375812    234710 2020-09-12 04:00:00  13.0   10.0   \n",
       "3458   04:00:00  REGULAR  67828565  18909317 2020-09-12 04:00:00   3.0    3.0   \n",
       "3374   04:00:00  REGULAR  28218607  11740429 2020-09-12 04:00:00   9.0    5.0   \n",
       "57919  04:00:00  REGULAR         6      1209 2020-09-12 04:00:00   0.0    0.0   \n",
       "15279  04:00:00  REGULAR   2040832   1058563 2020-09-12 04:00:00   6.0   23.0   \n",
       "\n",
       "       turn_traffic  day_of_week  daily_traffic  traffic_by_time_by_station  \n",
       "58128          23.0            5        24106.0                       316.0  \n",
       "3458            6.0            5        33981.0                       646.0  \n",
       "3374           14.0            5        33981.0                       646.0  \n",
       "57919           0.0            5        24106.0                       316.0  \n",
       "15279          29.0            5        14799.0                       604.0  "
      ]
     },
     "execution_count": 58,
     "metadata": {},
     "output_type": "execute_result"
    }
   ],
   "source": [
    "top_ranked_df.head()"
   ]
  },
  {
   "cell_type": "code",
   "execution_count": 59,
   "metadata": {},
   "outputs": [],
   "source": [
    "top_ranked_df['d_traffic'] = top_ranked_df.groupby(['STATION', 'DATE']).turn_traffic.transform('sum')\n",
    "top_ranked_df['mean_d_traffic'] = top_ranked_df.groupby(['STATION','day_of_week']).d_traffic.transform('mean')"
   ]
  },
  {
   "cell_type": "markdown",
   "metadata": {},
   "source": [
    "### Ranking Stations filtered for Weekdays"
   ]
  },
  {
   "cell_type": "code",
   "execution_count": 177,
   "metadata": {},
   "outputs": [],
   "source": [
    "wkday_df = pd.DataFrame(mta[mta.day_of_week < 5])"
   ]
  },
  {
   "cell_type": "code",
   "execution_count": 185,
   "metadata": {},
   "outputs": [
    {
     "data": {
      "text/html": [
       "<div>\n",
       "<style scoped>\n",
       "    .dataframe tbody tr th:only-of-type {\n",
       "        vertical-align: middle;\n",
       "    }\n",
       "\n",
       "    .dataframe tbody tr th {\n",
       "        vertical-align: top;\n",
       "    }\n",
       "\n",
       "    .dataframe thead th {\n",
       "        text-align: right;\n",
       "    }\n",
       "</style>\n",
       "<table border=\"1\" class=\"dataframe\">\n",
       "  <thead>\n",
       "    <tr style=\"text-align: right;\">\n",
       "      <th></th>\n",
       "      <th>STATION</th>\n",
       "      <th>turn_traffic</th>\n",
       "    </tr>\n",
       "  </thead>\n",
       "  <tbody>\n",
       "    <tr>\n",
       "      <th>61</th>\n",
       "      <td>34 ST-PENN STA</td>\n",
       "      <td>368282.0</td>\n",
       "    </tr>\n",
       "    <tr>\n",
       "      <th>59</th>\n",
       "      <td>34 ST-HERALD SQ</td>\n",
       "      <td>292459.0</td>\n",
       "    </tr>\n",
       "    <tr>\n",
       "      <th>110</th>\n",
       "      <td>86 ST</td>\n",
       "      <td>284948.0</td>\n",
       "    </tr>\n",
       "    <tr>\n",
       "      <th>9</th>\n",
       "      <td>125 ST</td>\n",
       "      <td>269774.0</td>\n",
       "    </tr>\n",
       "    <tr>\n",
       "      <th>233</th>\n",
       "      <td>GRD CNTRL-42 ST</td>\n",
       "      <td>258360.0</td>\n",
       "    </tr>\n",
       "    <tr>\n",
       "      <th>14</th>\n",
       "      <td>14 ST-UNION SQ</td>\n",
       "      <td>251918.0</td>\n",
       "    </tr>\n",
       "    <tr>\n",
       "      <th>46</th>\n",
       "      <td>23 ST</td>\n",
       "      <td>230760.0</td>\n",
       "    </tr>\n",
       "  </tbody>\n",
       "</table>\n",
       "</div>"
      ],
      "text/plain": [
       "             STATION  turn_traffic\n",
       "61    34 ST-PENN STA      368282.0\n",
       "59   34 ST-HERALD SQ      292459.0\n",
       "110            86 ST      284948.0\n",
       "9             125 ST      269774.0\n",
       "233  GRD CNTRL-42 ST      258360.0\n",
       "14    14 ST-UNION SQ      251918.0\n",
       "46             23 ST      230760.0"
      ]
     },
     "execution_count": 185,
     "metadata": {},
     "output_type": "execute_result"
    }
   ],
   "source": [
    "wkday_rank = wkday_df.groupby(['STATION'], as_index=False).turn_traffic.sum()\n",
    "wkday_rank.sort_values('turn_traffic', ascending=False, inplace=True)\n",
    "wkday_rank.head(7)"
   ]
  },
  {
   "cell_type": "code",
   "execution_count": 180,
   "metadata": {},
   "outputs": [
    {
     "data": {
      "text/plain": [
       "Text(0.5, 0, 'Cumulative Number of People')"
      ]
     },
     "execution_count": 180,
     "metadata": {},
     "output_type": "execute_result"
    },
    {
     "data": {
      "image/png": "[encoded data removed]",
      "text/plain": [
       "<Figure size 1440x720 with 1 Axes>"
      ]
     },
     "metadata": {},
     "output_type": "display_data"
    }
   ],
   "source": [
    "plt.figure(figsize=(20,10))\n",
    "\n",
    "sns.barplot(x='turn_traffic', y='STATION', data=wkday_rank[:25], palette='coolwarm')\n",
    "plt.title('Total Station Traffic (Weekdays)')\n",
    "plt.ylabel('Station')\n",
    "plt.xlabel('Cumulative Number of People');"
   ]
  },
  {
   "cell_type": "markdown",
   "metadata": {},
   "source": [
    "**filter for top N stations (n)**"
   ]
  },
  {
   "cell_type": "code",
   "execution_count": 70,
   "metadata": {},
   "outputs": [],
   "source": [
    "#did not use this code?\n",
    "wkday_df['daily_traffic'] = wkday_df.groupby(['STATION','DATE']).turn_traffic.transform('sum')"
   ]
  },
  {
   "cell_type": "markdown",
   "metadata": {},
   "source": [
    "### Top Stations Average Traffic by Day "
   ]
  },
  {
   "cell_type": "code",
   "execution_count": 202,
   "metadata": {},
   "outputs": [
    {
     "data": {
      "text/html": [
       "<div>\n",
       "<style scoped>\n",
       "    .dataframe tbody tr th:only-of-type {\n",
       "        vertical-align: middle;\n",
       "    }\n",
       "\n",
       "    .dataframe tbody tr th {\n",
       "        vertical-align: top;\n",
       "    }\n",
       "\n",
       "    .dataframe thead th {\n",
       "        text-align: right;\n",
       "    }\n",
       "</style>\n",
       "<table border=\"1\" class=\"dataframe\">\n",
       "  <thead>\n",
       "    <tr style=\"text-align: right;\">\n",
       "      <th></th>\n",
       "      <th>STATION</th>\n",
       "      <th>day_of_week</th>\n",
       "      <th>mean_d_traffic</th>\n",
       "    </tr>\n",
       "  </thead>\n",
       "  <tbody>\n",
       "    <tr>\n",
       "      <th>0</th>\n",
       "      <td>125 ST</td>\n",
       "      <td>5</td>\n",
       "      <td>35307.0</td>\n",
       "    </tr>\n",
       "    <tr>\n",
       "      <th>1</th>\n",
       "      <td>125 ST</td>\n",
       "      <td>6</td>\n",
       "      <td>31698.0</td>\n",
       "    </tr>\n",
       "    <tr>\n",
       "      <th>2</th>\n",
       "      <td>125 ST</td>\n",
       "      <td>0</td>\n",
       "      <td>51064.0</td>\n",
       "    </tr>\n",
       "    <tr>\n",
       "      <th>3</th>\n",
       "      <td>125 ST</td>\n",
       "      <td>1</td>\n",
       "      <td>54180.0</td>\n",
       "    </tr>\n",
       "    <tr>\n",
       "      <th>4</th>\n",
       "      <td>125 ST</td>\n",
       "      <td>2</td>\n",
       "      <td>53936.0</td>\n",
       "    </tr>\n",
       "  </tbody>\n",
       "</table>\n",
       "</div>"
      ],
      "text/plain": [
       "  STATION  day_of_week  mean_d_traffic\n",
       "0  125 ST            5         35307.0\n",
       "1  125 ST            6         31698.0\n",
       "2  125 ST            0         51064.0\n",
       "3  125 ST            1         54180.0\n",
       "4  125 ST            2         53936.0"
      ]
     },
     "execution_count": 202,
     "metadata": {},
     "output_type": "execute_result"
    }
   ],
   "source": [
    "df = mta[mta.STATION.isin(s)].groupby(['STATION', 'DATE', 'day_of_week'], as_index=False).turn_traffic.sum()\n",
    "df['mean_d_traffic'] = df.groupby(['STATION','day_of_week']).turn_traffic.transform('mean')\n",
    "df.drop(columns=['turn_traffic','DATE'], inplace=True)\n",
    "df.drop_duplicates(inplace=True)\n",
    "df.head()\n",
    "#turn_traffic and mean_d_traffic will be equal if you only test with one week!"
   ]
  },
  {
   "cell_type": "code",
   "execution_count": 203,
   "metadata": {},
   "outputs": [],
   "source": [
    "wkday_dict = {'0':'Mon',\n",
    "             '1':'Tues',\n",
    "             '2':'Weds',\n",
    "             '3':'Thurs',\n",
    "             '4':'Fri',\n",
    "             '5':'Sat',\n",
    "             '6':'Sun'}\n",
    "df.day_of_week = df.day_of_week.map(lambda x : str(x)).map(wkday_dict)\n",
    "#df = df[(df.day_of_week!='Sat') & (df.day_of_week!='Sun')]"
   ]
  },
  {
   "cell_type": "code",
   "execution_count": 76,
   "metadata": {},
   "outputs": [],
   "source": [
    "#Filter for Lower Manhatan Stations Only\n",
    "s3 = s[0:2]+s[4:9]"
   ]
  },
  {
   "cell_type": "code",
   "execution_count": 204,
   "metadata": {},
   "outputs": [
    {
     "data": {
      "text/plain": [
       "Text(0.5, 1.0, 'Average Daily Traffic')"
      ]
     },
     "execution_count": 204,
     "metadata": {},
     "output_type": "execute_result"
    },
    {
     "data": {
      "image/png": "[encoded data removed]",
      "text/plain": [
       "<Figure size 1440x504 with 1 Axes>"
      ]
     },
     "metadata": {},
     "output_type": "display_data"
    }
   ],
   "source": [
    "\n",
    "plt.figure(figsize=[20,7])\n",
    "LIMIT = 9\n",
    "sns.set_style('dark')\n",
    "sns.barplot(x='day_of_week', \n",
    "            y='mean_d_traffic',  \n",
    "            data=df[(df.STATION.isin(s3))], \n",
    "            order=['Mon','Tues','Weds','Thurs','Fri','Sat','Sun'],\n",
    "            ci=None)\n",
    "plt.xlabel('Day of Week', fontsize=15)\n",
    "plt.ylabel('Traffic by Number of People', fontsize=15)\n",
    "plt.title('Average Daily Traffic', fontsize=20, fontstyle='oblique')\n",
    "#use s3 in hue order b/c its the top 5 in order"
   ]
  },
  {
   "cell_type": "code",
   "execution_count": 207,
   "metadata": {},
   "outputs": [
    {
     "data": {
      "text/html": [
       "<div>\n",
       "<style scoped>\n",
       "    .dataframe tbody tr th:only-of-type {\n",
       "        vertical-align: middle;\n",
       "    }\n",
       "\n",
       "    .dataframe tbody tr th {\n",
       "        vertical-align: top;\n",
       "    }\n",
       "\n",
       "    .dataframe thead th {\n",
       "        text-align: right;\n",
       "    }\n",
       "</style>\n",
       "<table border=\"1\" class=\"dataframe\">\n",
       "  <thead>\n",
       "    <tr style=\"text-align: right;\">\n",
       "      <th>STATION</th>\n",
       "      <th>14 ST-UNION SQ</th>\n",
       "      <th>23 ST</th>\n",
       "      <th>34 ST-HERALD SQ</th>\n",
       "      <th>34 ST-PENN STA</th>\n",
       "      <th>42 ST-PORT AUTH</th>\n",
       "      <th>FULTON ST</th>\n",
       "      <th>GRD CNTRL-42 ST</th>\n",
       "    </tr>\n",
       "    <tr>\n",
       "      <th>day_of_week</th>\n",
       "      <th></th>\n",
       "      <th></th>\n",
       "      <th></th>\n",
       "      <th></th>\n",
       "      <th></th>\n",
       "      <th></th>\n",
       "      <th></th>\n",
       "    </tr>\n",
       "  </thead>\n",
       "  <tbody>\n",
       "    <tr>\n",
       "      <th>Fri</th>\n",
       "      <td>53853.0</td>\n",
       "      <td>47333.0</td>\n",
       "      <td>60826.0</td>\n",
       "      <td>75607.0</td>\n",
       "      <td>47020.0</td>\n",
       "      <td>44240.0</td>\n",
       "      <td>51265.0</td>\n",
       "    </tr>\n",
       "    <tr>\n",
       "      <th>Mon</th>\n",
       "      <td>46776.0</td>\n",
       "      <td>41943.0</td>\n",
       "      <td>55596.0</td>\n",
       "      <td>70590.0</td>\n",
       "      <td>43335.0</td>\n",
       "      <td>41087.0</td>\n",
       "      <td>49319.0</td>\n",
       "    </tr>\n",
       "    <tr>\n",
       "      <th>Sat</th>\n",
       "      <td>38576.0</td>\n",
       "      <td>24106.0</td>\n",
       "      <td>33981.0</td>\n",
       "      <td>42591.0</td>\n",
       "      <td>25664.0</td>\n",
       "      <td>23672.0</td>\n",
       "      <td>23587.0</td>\n",
       "    </tr>\n",
       "    <tr>\n",
       "      <th>Sun</th>\n",
       "      <td>29723.0</td>\n",
       "      <td>19995.0</td>\n",
       "      <td>29305.0</td>\n",
       "      <td>37662.0</td>\n",
       "      <td>22834.0</td>\n",
       "      <td>19622.0</td>\n",
       "      <td>20277.0</td>\n",
       "    </tr>\n",
       "    <tr>\n",
       "      <th>Thurs</th>\n",
       "      <td>49846.0</td>\n",
       "      <td>47837.0</td>\n",
       "      <td>58795.0</td>\n",
       "      <td>74653.0</td>\n",
       "      <td>45336.0</td>\n",
       "      <td>43877.0</td>\n",
       "      <td>53828.0</td>\n",
       "    </tr>\n",
       "    <tr>\n",
       "      <th>Tues</th>\n",
       "      <td>49618.0</td>\n",
       "      <td>46560.0</td>\n",
       "      <td>59235.0</td>\n",
       "      <td>74098.0</td>\n",
       "      <td>45368.0</td>\n",
       "      <td>44433.0</td>\n",
       "      <td>52136.0</td>\n",
       "    </tr>\n",
       "    <tr>\n",
       "      <th>Weds</th>\n",
       "      <td>51825.0</td>\n",
       "      <td>47087.0</td>\n",
       "      <td>58007.0</td>\n",
       "      <td>73334.0</td>\n",
       "      <td>45304.0</td>\n",
       "      <td>43621.0</td>\n",
       "      <td>51812.0</td>\n",
       "    </tr>\n",
       "  </tbody>\n",
       "</table>\n",
       "</div>"
      ],
      "text/plain": [
       "STATION      14 ST-UNION SQ    23 ST  34 ST-HERALD SQ  34 ST-PENN STA  \\\n",
       "day_of_week                                                             \n",
       "Fri                 53853.0  47333.0          60826.0         75607.0   \n",
       "Mon                 46776.0  41943.0          55596.0         70590.0   \n",
       "Sat                 38576.0  24106.0          33981.0         42591.0   \n",
       "Sun                 29723.0  19995.0          29305.0         37662.0   \n",
       "Thurs               49846.0  47837.0          58795.0         74653.0   \n",
       "Tues                49618.0  46560.0          59235.0         74098.0   \n",
       "Weds                51825.0  47087.0          58007.0         73334.0   \n",
       "\n",
       "STATION      42 ST-PORT AUTH  FULTON ST  GRD CNTRL-42 ST  \n",
       "day_of_week                                               \n",
       "Fri                  47020.0    44240.0          51265.0  \n",
       "Mon                  43335.0    41087.0          49319.0  \n",
       "Sat                  25664.0    23672.0          23587.0  \n",
       "Sun                  22834.0    19622.0          20277.0  \n",
       "Thurs                45336.0    43877.0          53828.0  \n",
       "Tues                 45368.0    44433.0          52136.0  \n",
       "Weds                 45304.0    43621.0          51812.0  "
      ]
     },
     "execution_count": 207,
     "metadata": {},
     "output_type": "execute_result"
    }
   ],
   "source": [
    "pivot_df = df[df.STATION.isin(s3)].pivot(index='day_of_week', columns='STATION', values='mean_d_traffic')\n",
    "pivot_df"
   ]
  },
  {
   "cell_type": "code",
   "execution_count": 208,
   "metadata": {},
   "outputs": [
    {
     "data": {
      "text/plain": [
       "Text(0.5, 1.0, 'Daily Traffic of Top Ten Busiest Stations')"
      ]
     },
     "execution_count": 208,
     "metadata": {},
     "output_type": "execute_result"
    },
    {
     "data": {
      "image/png": "[encoded data removed]",
      "text/plain": [
       "<Figure size 1440x504 with 1 Axes>"
      ]
     },
     "metadata": {},
     "output_type": "display_data"
    }
   ],
   "source": [
    "pivot_df.loc[['Mon','Tues','Weds','Thurs','Fri','Sat','Sun'],:].plot.bar(stacked=True, figsize=(20,7))\n",
    "\n",
    "plt.xlabel('Day of Week')\n",
    "plt.ylabel('Average Traffic')\n",
    "plt.title('Daily Traffic of Top Ten Busiest Stations')"
   ]
  },
  {
   "cell_type": "code",
   "execution_count": 80,
   "metadata": {},
   "outputs": [],
   "source": [
    "col_order=['Mon','Tues','Weds','Thurs','Fri']\n",
    "pivot_df2 = df[df.STATION.isin(s3)].pivot(index='STATION', columns='day_of_week', values='mean_d_traffic').reindex(col_order, axis=1).reindex(s3, axis=0)"
   ]
  },
  {
   "cell_type": "code",
   "execution_count": 81,
   "metadata": {},
   "outputs": [
    {
     "data": {
      "image/png": "[encoded data removed]",
      "text/plain": [
       "<Figure size 648x432 with 2 Axes>"
      ]
     },
     "metadata": {},
     "output_type": "display_data"
    }
   ],
   "source": [
    "f, ax = plt.subplots(figsize=(9, 6))\n",
    "sns.heatmap(pivot_df2, annot=False, linewidths=.5, ax=ax, cmap=\"YlOrBr\", square=True)\n",
    "plt.title('Weekday Heatmap')\n",
    "plt.xlabel('Day of Week')\n",
    "plt.ylabel('Station');"
   ]
  },
  {
   "cell_type": "code",
   "execution_count": 82,
   "metadata": {},
   "outputs": [
    {
     "data": {
      "image/png": "[encoded data removed]",
      "text/plain": [
       "<Figure size 1440x576 with 4 Axes>"
      ]
     },
     "metadata": {},
     "output_type": "display_data"
    }
   ],
   "source": [
    "f, ax = plt.subplots(ncols=2, figsize=[20,8])\n",
    "kwargs = {'square':False, 'linewidths':'0.5', 'annot':False, 'cmap':'coolwarm'}\n",
    "sns.heatmap(pivot_df2, ax=ax[0], **kwargs)\n",
    "sns.heatmap(pivot_df2.drop(labels=['34 ST-PENN STA', '34 ST-HERALD SQ']), ax=ax[1], **kwargs);\n"
   ]
  },
  {
   "cell_type": "markdown",
   "metadata": {},
   "source": [
    "### Chunking timeslots into windows\n",
    "\n",
    "break time into categories\n",
    "00:00:00 < dt.datetime() < 04:00:00 \n",
    "EX:\n",
    "* Early Morning  0-5:01\n",
    "* **Morning Rush Hour 5:02-13:01** <-- 8 hour workdays\n",
    "* Midafternoon 13:01-17:01\n",
    "* **Evening Rush Hour 13:02-20:01**\n",
    "* Late Evening 20:01-24\n"
   ]
  },
  {
   "cell_type": "code",
   "execution_count": 83,
   "metadata": {},
   "outputs": [
    {
     "data": {
      "text/plain": [
       "04:00:00    17317\n",
       "20:00:00    17257\n",
       "08:00:00    17251\n",
       "16:00:00    17227\n",
       "12:00:00    17212\n",
       "00:00:00    14809\n",
       "17:00:00    12874\n",
       "09:00:00    12863\n",
       "05:00:00    12855\n",
       "13:00:00    12850\n",
       "21:00:00    12807\n",
       "01:00:00    11032\n",
       "22:00:00      779\n",
       "18:00:00      777\n",
       "14:00:00      776\n",
       "10:00:00      775\n",
       "06:00:00      775\n",
       "02:00:00      666\n",
       "23:00:00      273\n",
       "11:00:00      272\n",
       "07:00:00      272\n",
       "19:00:00      272\n",
       "15:00:00      271\n",
       "04:22:00      245\n",
       "20:22:00      245\n",
       "16:22:00      245\n",
       "08:22:00      245\n",
       "03:00:00      234\n",
       "12:22:00      210\n",
       "00:22:00      210\n",
       "10:30:00      140\n",
       "18:30:00      140\n",
       "14:30:00      140\n",
       "06:30:00      140\n",
       "22:30:00      140\n",
       "Name: TIME, dtype: int64"
      ]
     },
     "execution_count": 83,
     "metadata": {},
     "output_type": "execute_result"
    }
   ],
   "source": [
    "mta.TIME.value_counts().head(35)"
   ]
  },
  {
   "cell_type": "code",
   "execution_count": 84,
   "metadata": {},
   "outputs": [],
   "source": [
    "import datetime as dt\n",
    "\n",
    "def time_cat(x):\n",
    "    curr = x.time()\n",
    "    \n",
    "    if dt.time(5,1) < curr < dt.time(13,1):\n",
    "        return 'Morning'\n",
    "    elif dt.time(13,1) < curr < dt.time(20,1):\n",
    "        return 'Evening'\n",
    "    else:\n",
    "        return None\n",
    "    "
   ]
  },
  {
   "cell_type": "code",
   "execution_count": 85,
   "metadata": {},
   "outputs": [],
   "source": [
    "mta['timeblock'] = mta.datetime.apply(time_cat)"
   ]
  },
  {
   "cell_type": "code",
   "execution_count": 86,
   "metadata": {},
   "outputs": [],
   "source": [
    "time_df = mta.dropna()[['STATION','DATE','turn_traffic','timeblock','day_of_week']]"
   ]
  },
  {
   "cell_type": "code",
   "execution_count": 87,
   "metadata": {},
   "outputs": [],
   "source": [
    "time_df['st_daily_traff'] = time_df.groupby(['STATION','DATE','timeblock']).turn_traffic.transform('sum')"
   ]
  },
  {
   "cell_type": "code",
   "execution_count": 88,
   "metadata": {},
   "outputs": [],
   "source": [
    "time_df['mean_daily_traf'] = time_df.groupby(['STATION','day_of_week','timeblock']).st_daily_traff.transform('mean')"
   ]
  },
  {
   "cell_type": "code",
   "execution_count": 89,
   "metadata": {},
   "outputs": [],
   "source": [
    "time_df.drop_duplicates(inplace=True)"
   ]
  },
  {
   "cell_type": "code",
   "execution_count": 90,
   "metadata": {},
   "outputs": [],
   "source": [
    "time_df.sort_values(['timeblock','st_daily_traff'], ascending=False)\n",
    "time_df.drop(columns=['DATE','st_daily_traff'], inplace=True)\n",
    "time_df = time_df[time_df.day_of_week<5]"
   ]
  },
  {
   "cell_type": "code",
   "execution_count": 91,
   "metadata": {},
   "outputs": [
    {
     "data": {
      "image/png": "[encoded data removed]",
      "text/plain": [
       "<Figure size 1800x720 with 10 Axes>"
      ]
     },
     "metadata": {},
     "output_type": "display_data"
    }
   ],
   "source": [
    "ntime_df = pd.DataFrame(time_df[time_df.STATION.isin(s3)])\n",
    "ntime_df.drop_duplicates(inplace=True)\n",
    "\n",
    "sns.set(font_scale=1.5)\n",
    "d_compare = sns.catplot(\n",
    "    x='STATION', \n",
    "    y='mean_daily_traf', \n",
    "    col='day_of_week', \n",
    "    row='timeblock', \n",
    "    data=ntime_df,\n",
    "    kind='bar',\n",
    "    palette='Accent')\n",
    "\n",
    "d_compare.set_xticklabels(fontsize=20, rotation=90)\n",
    "d_compare.set_axis_labels(\"\")\n",
    "d_compare.axes[0,0].set_ylabel('Morning Rush Hour Traffic', fontsize=20, rotation=0, ha='right', va='center')\n",
    "d_compare.axes[1,0].set_ylabel('Evening Rush Hour Traffic', fontsize=20, rotation=0, ha='right', va='center')\n",
    "\n",
    "for i, j  in wkday_dict.items():\n",
    "    try:\n",
    "        d_compare.axes[0,int(i)].set_title(j, fontsize=20)\n",
    "        d_compare.axes[1,int(i)].set_title('')\n",
    "    except:\n",
    "        pass\n",
    "plt.tight_layout()"
   ]
  },
  {
   "cell_type": "code",
   "execution_count": 92,
   "metadata": {},
   "outputs": [
    {
     "data": {
      "image/png": "[encoded data removed]",
      "text/plain": [
       "<Figure size 1926.28x360 with 5 Axes>"
      ]
     },
     "metadata": {},
     "output_type": "display_data"
    }
   ],
   "source": [
    "ntime_df = pd.DataFrame(time_df[time_df.STATION.isin(s3)])\n",
    "ntime_df.drop_duplicates(inplace=True)\n",
    "\n",
    "sns.set(font_scale=1.5)\n",
    "d_compare = sns.catplot(\n",
    "    x='STATION', \n",
    "    y='mean_daily_traf', \n",
    "    col='day_of_week', \n",
    "    hue='timeblock', \n",
    "    data=ntime_df,\n",
    "    kind='bar',\n",
    "    palette=sns.color_palette(),\n",
    "    hue_order=['Evening','Morning'],\n",
    "    order=s3,\n",
    "    )\n",
    "\n",
    "d_compare.set_xticklabels(fontsize=20, rotation=90)\n",
    "d_compare.set_axis_labels(\"\",\"\")\n",
    "#d_compare.axes[0,0].set_ylabel('Morning Rush Hour Traffic', fontsize=20, rotation=0, ha='right', va='center')\n",
    "#d_compare.axes[1,0].set_ylabel('Evening Rush Hour Traffic', fontsize=20, rotation=0, ha='right', va='center')\n",
    "for i, j  in wkday_dict.items():\n",
    "    try:\n",
    "        d_compare.axes[0,int(i)].set_title(j, fontsize=20)\n",
    "        d_compare.axes[1,int(i)].set_title('')\n",
    "    except:\n",
    "        pass\n"
   ]
  },
  {
   "cell_type": "code",
   "execution_count": 93,
   "metadata": {},
   "outputs": [],
   "source": [
    "wkday_df['timeblock'] = wkday_df.datetime.apply(time_cat)"
   ]
  },
  {
   "cell_type": "markdown",
   "metadata": {},
   "source": [
    "* horizontal(pending zach) barplot - total ridership/traffic\n",
    "* horizontal barplot for top 25\n",
    "* Stacked Barplot - total traffic 2019vs2020 comparrison top 10\n",
    "* vertical barplot - Ridership Hotspot by Weekdays\n",
    "* ~~barplot - Ridership Hotspot Rush-hour by Weekdays "
   ]
  },
  {
   "cell_type": "code",
   "execution_count": 113,
   "metadata": {},
   "outputs": [
    {
     "data": {
      "text/html": [
       "<div>\n",
       "<style scoped>\n",
       "    .dataframe tbody tr th:only-of-type {\n",
       "        vertical-align: middle;\n",
       "    }\n",
       "\n",
       "    .dataframe tbody tr th {\n",
       "        vertical-align: top;\n",
       "    }\n",
       "\n",
       "    .dataframe thead th {\n",
       "        text-align: right;\n",
       "    }\n",
       "</style>\n",
       "<table border=\"1\" class=\"dataframe\">\n",
       "  <thead>\n",
       "    <tr style=\"text-align: right;\">\n",
       "      <th></th>\n",
       "      <th>C/A</th>\n",
       "      <th>UNIT</th>\n",
       "      <th>SCP</th>\n",
       "      <th>STATION</th>\n",
       "      <th>LINENAME</th>\n",
       "      <th>DIVISION</th>\n",
       "      <th>DATE</th>\n",
       "      <th>TIME</th>\n",
       "      <th>DESC</th>\n",
       "      <th>ENTRIES</th>\n",
       "      <th>EXITS</th>\n",
       "      <th>datetime</th>\n",
       "      <th>n_in</th>\n",
       "      <th>n_out</th>\n",
       "      <th>turn_traffic</th>\n",
       "      <th>day_of_week</th>\n",
       "      <th>total_st_traffic</th>\n",
       "      <th>daily_traffic</th>\n",
       "      <th>timeblock</th>\n",
       "    </tr>\n",
       "  </thead>\n",
       "  <tbody>\n",
       "    <tr>\n",
       "      <th>135020</th>\n",
       "      <td>R112A</td>\n",
       "      <td>R027</td>\n",
       "      <td>03-00-00</td>\n",
       "      <td>WALL ST</td>\n",
       "      <td>23</td>\n",
       "      <td>IRT</td>\n",
       "      <td>09/14/2020</td>\n",
       "      <td>00:00:00</td>\n",
       "      <td>REGULAR</td>\n",
       "      <td>436798</td>\n",
       "      <td>591545</td>\n",
       "      <td>2020-09-14</td>\n",
       "      <td>0.0</td>\n",
       "      <td>0.0</td>\n",
       "      <td>0.0</td>\n",
       "      <td>0</td>\n",
       "      <td>69117.0</td>\n",
       "      <td>13255.0</td>\n",
       "      <td>None</td>\n",
       "    </tr>\n",
       "    <tr>\n",
       "      <th>55378</th>\n",
       "      <td>N063A</td>\n",
       "      <td>R011</td>\n",
       "      <td>00-00-07</td>\n",
       "      <td>42 ST-PORT AUTH</td>\n",
       "      <td>ACENQRS1237W</td>\n",
       "      <td>IND</td>\n",
       "      <td>09/14/2020</td>\n",
       "      <td>00:00:00</td>\n",
       "      <td>REGULAR</td>\n",
       "      <td>31003946</td>\n",
       "      <td>6788875</td>\n",
       "      <td>2020-09-14</td>\n",
       "      <td>107.0</td>\n",
       "      <td>37.0</td>\n",
       "      <td>144.0</td>\n",
       "      <td>0</td>\n",
       "      <td>226363.0</td>\n",
       "      <td>43335.0</td>\n",
       "      <td>None</td>\n",
       "    </tr>\n",
       "    <tr>\n",
       "      <th>103277</th>\n",
       "      <td>N512</td>\n",
       "      <td>R163</td>\n",
       "      <td>00-00-02</td>\n",
       "      <td>14 ST</td>\n",
       "      <td>FLM123</td>\n",
       "      <td>IND</td>\n",
       "      <td>09/14/2020</td>\n",
       "      <td>00:00:00</td>\n",
       "      <td>REGULAR</td>\n",
       "      <td>2835696</td>\n",
       "      <td>29249</td>\n",
       "      <td>2020-09-14</td>\n",
       "      <td>43.0</td>\n",
       "      <td>39.0</td>\n",
       "      <td>82.0</td>\n",
       "      <td>0</td>\n",
       "      <td>133506.0</td>\n",
       "      <td>24362.0</td>\n",
       "      <td>None</td>\n",
       "    </tr>\n",
       "    <tr>\n",
       "      <th>69853</th>\n",
       "      <td>N137</td>\n",
       "      <td>R354</td>\n",
       "      <td>00-00-00</td>\n",
       "      <td>104 ST</td>\n",
       "      <td>A</td>\n",
       "      <td>IND</td>\n",
       "      <td>09/14/2020</td>\n",
       "      <td>00:00:00</td>\n",
       "      <td>REGULAR</td>\n",
       "      <td>419214</td>\n",
       "      <td>265136</td>\n",
       "      <td>2020-09-14</td>\n",
       "      <td>13.0</td>\n",
       "      <td>2.0</td>\n",
       "      <td>15.0</td>\n",
       "      <td>0</td>\n",
       "      <td>12899.0</td>\n",
       "      <td>2394.0</td>\n",
       "      <td>None</td>\n",
       "    </tr>\n",
       "    <tr>\n",
       "      <th>186724</th>\n",
       "      <td>R508</td>\n",
       "      <td>R346</td>\n",
       "      <td>00-00-01</td>\n",
       "      <td>COURT SQ</td>\n",
       "      <td>7</td>\n",
       "      <td>IRT</td>\n",
       "      <td>09/14/2020</td>\n",
       "      <td>00:00:00</td>\n",
       "      <td>REGULAR</td>\n",
       "      <td>964361</td>\n",
       "      <td>751509</td>\n",
       "      <td>2020-09-14</td>\n",
       "      <td>18.0</td>\n",
       "      <td>11.0</td>\n",
       "      <td>29.0</td>\n",
       "      <td>0</td>\n",
       "      <td>43619.0</td>\n",
       "      <td>8101.0</td>\n",
       "      <td>None</td>\n",
       "    </tr>\n",
       "  </tbody>\n",
       "</table>\n",
       "</div>"
      ],
      "text/plain": [
       "          C/A  UNIT       SCP          STATION      LINENAME DIVISION  \\\n",
       "135020  R112A  R027  03-00-00          WALL ST            23      IRT   \n",
       "55378   N063A  R011  00-00-07  42 ST-PORT AUTH  ACENQRS1237W      IND   \n",
       "103277   N512  R163  00-00-02            14 ST        FLM123      IND   \n",
       "69853    N137  R354  00-00-00           104 ST             A      IND   \n",
       "186724   R508  R346  00-00-01         COURT SQ             7      IRT   \n",
       "\n",
       "              DATE      TIME     DESC   ENTRIES    EXITS   datetime   n_in  \\\n",
       "135020  09/14/2020  00:00:00  REGULAR    436798   591545 2020-09-14    0.0   \n",
       "55378   09/14/2020  00:00:00  REGULAR  31003946  6788875 2020-09-14  107.0   \n",
       "103277  09/14/2020  00:00:00  REGULAR   2835696    29249 2020-09-14   43.0   \n",
       "69853   09/14/2020  00:00:00  REGULAR    419214   265136 2020-09-14   13.0   \n",
       "186724  09/14/2020  00:00:00  REGULAR    964361   751509 2020-09-14   18.0   \n",
       "\n",
       "        n_out  turn_traffic  day_of_week  total_st_traffic  daily_traffic  \\\n",
       "135020    0.0           0.0            0           69117.0        13255.0   \n",
       "55378    37.0         144.0            0          226363.0        43335.0   \n",
       "103277   39.0          82.0            0          133506.0        24362.0   \n",
       "69853     2.0          15.0            0           12899.0         2394.0   \n",
       "186724   11.0          29.0            0           43619.0         8101.0   \n",
       "\n",
       "       timeblock  \n",
       "135020      None  \n",
       "55378       None  \n",
       "103277      None  \n",
       "69853       None  \n",
       "186724      None  "
      ]
     },
     "execution_count": 113,
     "metadata": {},
     "output_type": "execute_result"
    }
   ],
   "source": [
    "wkday_df.head()"
   ]
  },
  {
   "cell_type": "code",
   "execution_count": 114,
   "metadata": {},
   "outputs": [],
   "source": [
    "wkday_df['hr_traff'] = wkday_df.groupby(['STATION','datetime']).turn_traffic.transform('sum')"
   ]
  },
  {
   "cell_type": "code",
   "execution_count": 115,
   "metadata": {},
   "outputs": [],
   "source": [
    "t_comp = pd.DataFrame(wkday_df[['datetime','hr_traff', 'TIME']])\n",
    "t_comp.drop_duplicates(inplace=True)"
   ]
  },
  {
   "cell_type": "code",
   "execution_count": 116,
   "metadata": {},
   "outputs": [],
   "source": [
    "t_comp.drop_duplicates(inplace=True)"
   ]
  },
  {
   "cell_type": "code",
   "execution_count": 120,
   "metadata": {},
   "outputs": [],
   "source": [
    "x = ntime_df[ntime_df.day_of_week==3].drop(columns='turn_traffic')"
   ]
  },
  {
   "cell_type": "code",
   "execution_count": 121,
   "metadata": {},
   "outputs": [
    {
     "data": {
      "text/plain": [
       "Text(0.5, 1.0, 'Thursday Traffic')"
      ]
     },
     "execution_count": 121,
     "metadata": {},
     "output_type": "execute_result"
    },
    {
     "data": {
      "image/png": "[encoded data removed]",
      "text/plain": [
       "<Figure size 1080x504 with 1 Axes>"
      ]
     },
     "metadata": {},
     "output_type": "display_data"
    }
   ],
   "source": [
    "plt.figure(figsize=[15,7])\n",
    "\n",
    "sns.barplot(y='STATION', x='mean_daily_traf', hue='timeblock', data=x, order=s3, hue_order=['Evening', 'Morning'])\n",
    "\n",
    "plt.xlabel('Traffic')\n",
    "plt.ylabel('')\n",
    "plt.title('Thursday Traffic')\n"
   ]
  },
  {
   "cell_type": "code",
   "execution_count": 122,
   "metadata": {},
   "outputs": [
    {
     "data": {
      "image/png": "[encoded data removed]",
      "text/plain": [
       "<Figure size 1080x504 with 1 Axes>"
      ]
     },
     "metadata": {},
     "output_type": "display_data"
    }
   ],
   "source": [
    "plt.figure(figsize=[15,7])\n",
    "\n",
    "sns.barplot(x='STATION', y='mean_daily_traf', hue='timeblock', data=x, order=s3, hue_order=['Evening', 'Morning'])\n",
    "\n",
    "plt.xticks(rotation=45)\n",
    "plt.xlabel('Traffic')\n",
    "plt.ylabel('');"
   ]
  },
  {
   "cell_type": "code",
   "execution_count": null,
   "metadata": {},
   "outputs": [],
   "source": []
  },
  {
   "cell_type": "code",
   "execution_count": null,
   "metadata": {},
   "outputs": [],
   "source": []
  }
 ],
 "metadata": {
  "kernelspec": {
   "display_name": "Python 3",
   "language": "python",
   "name": "python3"
  },
  "language_info": {
   "codemirror_mode": {
    "name": "ipython",
    "version": 3
   },
   "file_extension": ".py",
   "mimetype": "text/x-python",
   "name": "python",
   "nbconvert_exporter": "python",
   "pygments_lexer": "ipython3",
   "version": "3.8.3"
  }
 },
 "nbformat": 4,
 "nbformat_minor": 4
}
