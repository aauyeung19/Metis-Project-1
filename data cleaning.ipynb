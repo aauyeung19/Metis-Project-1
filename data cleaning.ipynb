{
 "cells": [
  {
   "cell_type": "code",
   "execution_count": 1,
   "metadata": {},
   "outputs": [],
   "source": [
    "import pandas as pd\n",
    "import numpy as np \n",
    "import seaborn as sns\n",
    "import matplotlib.pyplot as plt"
   ]
  },
  {
   "cell_type": "markdown",
   "metadata": {},
   "source": [
    "NYC Transit Entrance and Exit Data https://data.ny.gov/Transportation/NYC-Transit-Subway-Entrance-And-Exit-Data/i9wp-a4ja/data\n",
    "https://data.ny.gov/Transportation/NYC-Transit-Subway-Entrance-And-Exit-Data/i9wp-a4ja"
   ]
  },
  {
   "cell_type": "code",
   "execution_count": null,
   "metadata": {},
   "outputs": [],
   "source": [
    "#turnstile = pd.read_csv('./src/NYC_Transit_Subway_Entrance_And_Exit_Data.csv')"
   ]
  },
  {
   "cell_type": "code",
   "execution_count": 2,
   "metadata": {},
   "outputs": [],
   "source": [
    "def read_mta(file_nums):\n",
    "    path ='http://web.mta.info/developers/data/nyct/turnstile/turnstile_'\n",
    "    allFiles = []\n",
    "    for i in file_nums:\n",
    "        allFiles.append(path + i + '.txt')\n",
    "    df_list = [pd.read_csv(file) for file in allFiles]\n",
    "    df = pd.concat(df_list)\n",
    "    df.columns = df.columns.str.strip() #Exits Column name has large trailing whitespace\n",
    "    return df\n",
    "#get August Data YYMMDD\n",
    "#Currently mta contains data from September 19, 2020 to April 04, 2020\n",
    "mta = read_mta(['200919', \n",
    "                '200912',\n",
    "                '200905',\n",
    "                '200801',\n",
    "                '200808',\n",
    "                '200815',\n",
    "                '200822',\n",
    "                '200829', \n",
    "                '200725',\n",
    "                '200718',\n",
    "                '200711',\n",
    "                '200704',\n",
    "                '200627',\n",
    "                '200620',\n",
    "                '200613',\n",
    "                '200606',\n",
    "                '200530',\n",
    "                '200523',\n",
    "                '200516',\n",
    "                '200509',\n",
    "                '200502',\n",
    "                '200425',\n",
    "                '200418',\n",
    "                '200411',\n",
    "                '200404',\n",
    "                ])"
   ]
  },
  {
   "cell_type": "code",
   "execution_count": 3,
   "metadata": {},
   "outputs": [],
   "source": [
    "mta=mta.reset_index()"
   ]
  },
  {
   "cell_type": "code",
   "execution_count": null,
   "metadata": {},
   "outputs": [],
   "source": [
    "mta.head()"
   ]
  },
  {
   "cell_type": "code",
   "execution_count": null,
   "metadata": {},
   "outputs": [],
   "source": [
    "mta.describe()"
   ]
  },
  {
   "cell_type": "code",
   "execution_count": null,
   "metadata": {},
   "outputs": [],
   "source": [
    "mta.info()"
   ]
  },
  {
   "cell_type": "code",
   "execution_count": null,
   "metadata": {},
   "outputs": [],
   "source": [
    "mta.columns"
   ]
  },
  {
   "cell_type": "code",
   "execution_count": null,
   "metadata": {},
   "outputs": [],
   "source": [
    "mta.head()"
   ]
  },
  {
   "cell_type": "code",
   "execution_count": 4,
   "metadata": {},
   "outputs": [],
   "source": [
    "#only interested in regular audits. \n",
    "mta = pd.DataFrame(mta[mta.DESC == 'REGULAR'])"
   ]
  },
  {
   "cell_type": "code",
   "execution_count": null,
   "metadata": {},
   "outputs": [],
   "source": [
    "mta.head()"
   ]
  },
  {
   "cell_type": "code",
   "execution_count": 5,
   "metadata": {},
   "outputs": [],
   "source": [
    "mta['datetime'] = pd.to_datetime(mta.DATE+' '+mta.TIME)"
   ]
  },
  {
   "cell_type": "code",
   "execution_count": null,
   "metadata": {},
   "outputs": [],
   "source": []
  },
  {
   "cell_type": "code",
   "execution_count": null,
   "metadata": {},
   "outputs": [],
   "source": [
    "#Needs to group by the individual turnstile... this will give LARGE values when changing turnstiles\n",
    "#mta['n_in'] = mta.ENTRIES.diff()\n",
    "#mta['n_out'] = mta.EXITS.diff()"
   ]
  },
  {
   "cell_type": "code",
   "execution_count": null,
   "metadata": {},
   "outputs": [],
   "source": [
    "#n_in and n_out minimum and maximum values are still unreasonable \n",
    "#mta.describe()"
   ]
  },
  {
   "cell_type": "code",
   "execution_count": null,
   "metadata": {},
   "outputs": [],
   "source": []
  },
  {
   "cell_type": "code",
   "execution_count": 6,
   "metadata": {},
   "outputs": [],
   "source": [
    "#to avoid the edge cases as the DF changes turnstiles \n",
    "mta['n_in'] = mta.groupby(['STATION', 'UNIT', 'C/A', 'SCP'])['ENTRIES'].diff()\n",
    "mta['n_out'] = mta.groupby(['STATION', 'UNIT', 'C/A', 'SCP'])['EXITS'].diff()"
   ]
  },
  {
   "cell_type": "code",
   "execution_count": 7,
   "metadata": {},
   "outputs": [],
   "source": [
    "#filter out negative n_in and n_out\n",
    "mask = (mta.n_in > 0) & (mta.n_out > 0)"
   ]
  },
  {
   "cell_type": "code",
   "execution_count": 8,
   "metadata": {},
   "outputs": [],
   "source": [
    "mta = mta[mask]"
   ]
  },
  {
   "cell_type": "code",
   "execution_count": 9,
   "metadata": {},
   "outputs": [],
   "source": [
    "#create daily entries/exits by Turnstiles\n",
    "mta['t_daily_entry'] = mta.groupby(['STATION', 'UNIT', 'C/A', 'SCP', 'DATE']).n_in.transform('sum')\n",
    "mta['t_daily_exit'] = mta.groupby(['STATION', 'UNIT', 'C/A', 'SCP', 'DATE']).n_out.transform('sum')"
   ]
  },
  {
   "cell_type": "code",
   "execution_count": 10,
   "metadata": {},
   "outputs": [],
   "source": [
    "#create daily entries/exits by Station\n",
    "mta['s_daily_entry'] = mta.groupby(['STATION', 'DATE']).n_in.transform('sum')\n",
    "mta['s_daily_exit'] = mta.groupby(['STATION', 'DATE']).n_out.transform('sum')"
   ]
  },
  {
   "cell_type": "code",
   "execution_count": null,
   "metadata": {},
   "outputs": [],
   "source": [
    "mta.n_in.describe()"
   ]
  },
  {
   "cell_type": "code",
   "execution_count": null,
   "metadata": {},
   "outputs": [],
   "source": [
    "mta.sample(5)"
   ]
  },
  {
   "cell_type": "code",
   "execution_count": 11,
   "metadata": {},
   "outputs": [],
   "source": [
    "mta['t_4hr_traffic'] = mta.n_in + mta.n_out"
   ]
  },
  {
   "cell_type": "code",
   "execution_count": 14,
   "metadata": {},
   "outputs": [],
   "source": [
    "mta['S_4hr_traffic'] = mta.groupby(['STATION','datetime']).t_4hr_traffic.transform('sum')"
   ]
  },
  {
   "cell_type": "code",
   "execution_count": 15,
   "metadata": {},
   "outputs": [],
   "source": [
    "mta['dayofweek'] = mta.datetime.apply(lambda x : x.weekday()) "
   ]
  },
  {
   "cell_type": "code",
   "execution_count": 12,
   "metadata": {},
   "outputs": [
    {
     "data": {
      "text/html": [
       "<div>\n",
       "<style scoped>\n",
       "    .dataframe tbody tr th:only-of-type {\n",
       "        vertical-align: middle;\n",
       "    }\n",
       "\n",
       "    .dataframe tbody tr th {\n",
       "        vertical-align: top;\n",
       "    }\n",
       "\n",
       "    .dataframe thead th {\n",
       "        text-align: right;\n",
       "    }\n",
       "</style>\n",
       "<table border=\"1\" class=\"dataframe\">\n",
       "  <thead>\n",
       "    <tr style=\"text-align: right;\">\n",
       "      <th></th>\n",
       "      <th>index</th>\n",
       "      <th>C/A</th>\n",
       "      <th>UNIT</th>\n",
       "      <th>SCP</th>\n",
       "      <th>STATION</th>\n",
       "      <th>LINENAME</th>\n",
       "      <th>DIVISION</th>\n",
       "      <th>DATE</th>\n",
       "      <th>TIME</th>\n",
       "      <th>DESC</th>\n",
       "      <th>ENTRIES</th>\n",
       "      <th>EXITS</th>\n",
       "      <th>datetime</th>\n",
       "      <th>n_in</th>\n",
       "      <th>n_out</th>\n",
       "      <th>t_daily_entry</th>\n",
       "      <th>t_daily_exit</th>\n",
       "      <th>s_daily_entry</th>\n",
       "      <th>s_daily_exit</th>\n",
       "      <th>t_4hr_traffic</th>\n",
       "    </tr>\n",
       "  </thead>\n",
       "  <tbody>\n",
       "    <tr>\n",
       "      <th>1</th>\n",
       "      <td>1</td>\n",
       "      <td>A002</td>\n",
       "      <td>R051</td>\n",
       "      <td>02-00-00</td>\n",
       "      <td>59 ST</td>\n",
       "      <td>NQR456W</td>\n",
       "      <td>BMT</td>\n",
       "      <td>09/12/2020</td>\n",
       "      <td>04:00:00</td>\n",
       "      <td>REGULAR</td>\n",
       "      <td>7457067</td>\n",
       "      <td>2535861</td>\n",
       "      <td>2020-09-12 04:00:00</td>\n",
       "      <td>3.0</td>\n",
       "      <td>5.0</td>\n",
       "      <td>291.0</td>\n",
       "      <td>103.0</td>\n",
       "      <td>10709.0</td>\n",
       "      <td>12381.0</td>\n",
       "      <td>8.0</td>\n",
       "    </tr>\n",
       "    <tr>\n",
       "      <th>2</th>\n",
       "      <td>2</td>\n",
       "      <td>A002</td>\n",
       "      <td>R051</td>\n",
       "      <td>02-00-00</td>\n",
       "      <td>59 ST</td>\n",
       "      <td>NQR456W</td>\n",
       "      <td>BMT</td>\n",
       "      <td>09/12/2020</td>\n",
       "      <td>08:00:00</td>\n",
       "      <td>REGULAR</td>\n",
       "      <td>7457078</td>\n",
       "      <td>2535876</td>\n",
       "      <td>2020-09-12 08:00:00</td>\n",
       "      <td>11.0</td>\n",
       "      <td>15.0</td>\n",
       "      <td>291.0</td>\n",
       "      <td>103.0</td>\n",
       "      <td>10709.0</td>\n",
       "      <td>12381.0</td>\n",
       "      <td>26.0</td>\n",
       "    </tr>\n",
       "    <tr>\n",
       "      <th>3</th>\n",
       "      <td>3</td>\n",
       "      <td>A002</td>\n",
       "      <td>R051</td>\n",
       "      <td>02-00-00</td>\n",
       "      <td>59 ST</td>\n",
       "      <td>NQR456W</td>\n",
       "      <td>BMT</td>\n",
       "      <td>09/12/2020</td>\n",
       "      <td>12:00:00</td>\n",
       "      <td>REGULAR</td>\n",
       "      <td>7457119</td>\n",
       "      <td>2535920</td>\n",
       "      <td>2020-09-12 12:00:00</td>\n",
       "      <td>41.0</td>\n",
       "      <td>44.0</td>\n",
       "      <td>291.0</td>\n",
       "      <td>103.0</td>\n",
       "      <td>10709.0</td>\n",
       "      <td>12381.0</td>\n",
       "      <td>85.0</td>\n",
       "    </tr>\n",
       "    <tr>\n",
       "      <th>5</th>\n",
       "      <td>5</td>\n",
       "      <td>A002</td>\n",
       "      <td>R051</td>\n",
       "      <td>02-00-00</td>\n",
       "      <td>59 ST</td>\n",
       "      <td>NQR456W</td>\n",
       "      <td>BMT</td>\n",
       "      <td>09/12/2020</td>\n",
       "      <td>16:00:00</td>\n",
       "      <td>REGULAR</td>\n",
       "      <td>7457230</td>\n",
       "      <td>2535953</td>\n",
       "      <td>2020-09-12 16:00:00</td>\n",
       "      <td>111.0</td>\n",
       "      <td>33.0</td>\n",
       "      <td>291.0</td>\n",
       "      <td>103.0</td>\n",
       "      <td>10709.0</td>\n",
       "      <td>12381.0</td>\n",
       "      <td>144.0</td>\n",
       "    </tr>\n",
       "    <tr>\n",
       "      <th>6</th>\n",
       "      <td>6</td>\n",
       "      <td>A002</td>\n",
       "      <td>R051</td>\n",
       "      <td>02-00-00</td>\n",
       "      <td>59 ST</td>\n",
       "      <td>NQR456W</td>\n",
       "      <td>BMT</td>\n",
       "      <td>09/12/2020</td>\n",
       "      <td>20:00:00</td>\n",
       "      <td>REGULAR</td>\n",
       "      <td>7457355</td>\n",
       "      <td>2535959</td>\n",
       "      <td>2020-09-12 20:00:00</td>\n",
       "      <td>125.0</td>\n",
       "      <td>6.0</td>\n",
       "      <td>291.0</td>\n",
       "      <td>103.0</td>\n",
       "      <td>10709.0</td>\n",
       "      <td>12381.0</td>\n",
       "      <td>131.0</td>\n",
       "    </tr>\n",
       "  </tbody>\n",
       "</table>\n",
       "</div>"
      ],
      "text/plain": [
       "   index   C/A  UNIT       SCP STATION LINENAME DIVISION        DATE  \\\n",
       "1      1  A002  R051  02-00-00   59 ST  NQR456W      BMT  09/12/2020   \n",
       "2      2  A002  R051  02-00-00   59 ST  NQR456W      BMT  09/12/2020   \n",
       "3      3  A002  R051  02-00-00   59 ST  NQR456W      BMT  09/12/2020   \n",
       "5      5  A002  R051  02-00-00   59 ST  NQR456W      BMT  09/12/2020   \n",
       "6      6  A002  R051  02-00-00   59 ST  NQR456W      BMT  09/12/2020   \n",
       "\n",
       "       TIME     DESC  ENTRIES    EXITS            datetime   n_in  n_out  \\\n",
       "1  04:00:00  REGULAR  7457067  2535861 2020-09-12 04:00:00    3.0    5.0   \n",
       "2  08:00:00  REGULAR  7457078  2535876 2020-09-12 08:00:00   11.0   15.0   \n",
       "3  12:00:00  REGULAR  7457119  2535920 2020-09-12 12:00:00   41.0   44.0   \n",
       "5  16:00:00  REGULAR  7457230  2535953 2020-09-12 16:00:00  111.0   33.0   \n",
       "6  20:00:00  REGULAR  7457355  2535959 2020-09-12 20:00:00  125.0    6.0   \n",
       "\n",
       "   t_daily_entry  t_daily_exit  s_daily_entry  s_daily_exit  t_4hr_traffic  \n",
       "1          291.0         103.0        10709.0       12381.0            8.0  \n",
       "2          291.0         103.0        10709.0       12381.0           26.0  \n",
       "3          291.0         103.0        10709.0       12381.0           85.0  \n",
       "5          291.0         103.0        10709.0       12381.0          144.0  \n",
       "6          291.0         103.0        10709.0       12381.0          131.0  "
      ]
     },
     "execution_count": 12,
     "metadata": {},
     "output_type": "execute_result"
    }
   ],
   "source": [
    "mta.head()"
   ]
  },
  {
   "cell_type": "code",
   "execution_count": 13,
   "metadata": {},
   "outputs": [
    {
     "data": {
      "text/html": [
       "<div>\n",
       "<style scoped>\n",
       "    .dataframe tbody tr th:only-of-type {\n",
       "        vertical-align: middle;\n",
       "    }\n",
       "\n",
       "    .dataframe tbody tr th {\n",
       "        vertical-align: top;\n",
       "    }\n",
       "\n",
       "    .dataframe thead th {\n",
       "        text-align: right;\n",
       "    }\n",
       "</style>\n",
       "<table border=\"1\" class=\"dataframe\">\n",
       "  <thead>\n",
       "    <tr style=\"text-align: right;\">\n",
       "      <th></th>\n",
       "      <th>index</th>\n",
       "      <th>ENTRIES</th>\n",
       "      <th>EXITS</th>\n",
       "      <th>n_in</th>\n",
       "      <th>n_out</th>\n",
       "      <th>t_daily_entry</th>\n",
       "      <th>t_daily_exit</th>\n",
       "      <th>s_daily_entry</th>\n",
       "      <th>s_daily_exit</th>\n",
       "      <th>t_4hr_traffic</th>\n",
       "    </tr>\n",
       "  </thead>\n",
       "  <tbody>\n",
       "    <tr>\n",
       "      <th>count</th>\n",
       "      <td>3.586600e+06</td>\n",
       "      <td>3.586600e+06</td>\n",
       "      <td>3.586600e+06</td>\n",
       "      <td>3.586600e+06</td>\n",
       "      <td>3.586600e+06</td>\n",
       "      <td>3.586600e+06</td>\n",
       "      <td>3.586600e+06</td>\n",
       "      <td>3.586600e+06</td>\n",
       "      <td>3.586600e+06</td>\n",
       "      <td>3.586600e+06</td>\n",
       "    </tr>\n",
       "    <tr>\n",
       "      <th>mean</th>\n",
       "      <td>1.026908e+05</td>\n",
       "      <td>3.088659e+07</td>\n",
       "      <td>2.262672e+07</td>\n",
       "      <td>1.001133e+04</td>\n",
       "      <td>8.128614e+03</td>\n",
       "      <td>3.629036e+04</td>\n",
       "      <td>2.920792e+04</td>\n",
       "      <td>8.566061e+05</td>\n",
       "      <td>6.806811e+05</td>\n",
       "      <td>1.813995e+04</td>\n",
       "    </tr>\n",
       "    <tr>\n",
       "      <th>std</th>\n",
       "      <td>6.039445e+04</td>\n",
       "      <td>1.751202e+08</td>\n",
       "      <td>1.428982e+08</td>\n",
       "      <td>3.403547e+06</td>\n",
       "      <td>3.084302e+06</td>\n",
       "      <td>6.895249e+06</td>\n",
       "      <td>6.287148e+06</td>\n",
       "      <td>3.230612e+07</td>\n",
       "      <td>3.064282e+07</td>\n",
       "      <td>5.992215e+06</td>\n",
       "    </tr>\n",
       "    <tr>\n",
       "      <th>min</th>\n",
       "      <td>0.000000e+00</td>\n",
       "      <td>1.000000e+00</td>\n",
       "      <td>1.000000e+00</td>\n",
       "      <td>1.000000e+00</td>\n",
       "      <td>1.000000e+00</td>\n",
       "      <td>1.000000e+00</td>\n",
       "      <td>1.000000e+00</td>\n",
       "      <td>1.000000e+00</td>\n",
       "      <td>1.000000e+00</td>\n",
       "      <td>2.000000e+00</td>\n",
       "    </tr>\n",
       "    <tr>\n",
       "      <th>25%</th>\n",
       "      <td>4.953000e+04</td>\n",
       "      <td>5.798860e+05</td>\n",
       "      <td>3.491368e+05</td>\n",
       "      <td>7.000000e+00</td>\n",
       "      <td>7.000000e+00</td>\n",
       "      <td>6.300000e+01</td>\n",
       "      <td>5.700000e+01</td>\n",
       "      <td>1.183000e+03</td>\n",
       "      <td>1.167000e+03</td>\n",
       "      <td>1.900000e+01</td>\n",
       "    </tr>\n",
       "    <tr>\n",
       "      <th>50%</th>\n",
       "      <td>1.008320e+05</td>\n",
       "      <td>2.626718e+06</td>\n",
       "      <td>1.608360e+06</td>\n",
       "      <td>2.000000e+01</td>\n",
       "      <td>2.000000e+01</td>\n",
       "      <td>1.460000e+02</td>\n",
       "      <td>1.320000e+02</td>\n",
       "      <td>2.537000e+03</td>\n",
       "      <td>2.614000e+03</td>\n",
       "      <td>4.800000e+01</td>\n",
       "    </tr>\n",
       "    <tr>\n",
       "      <th>75%</th>\n",
       "      <td>1.558410e+05</td>\n",
       "      <td>7.140241e+06</td>\n",
       "      <td>5.058214e+06</td>\n",
       "      <td>5.100000e+01</td>\n",
       "      <td>4.900000e+01</td>\n",
       "      <td>2.980000e+02</td>\n",
       "      <td>2.880000e+02</td>\n",
       "      <td>5.695000e+03</td>\n",
       "      <td>5.924000e+03</td>\n",
       "      <td>1.070000e+02</td>\n",
       "    </tr>\n",
       "    <tr>\n",
       "      <th>max</th>\n",
       "      <td>2.176630e+05</td>\n",
       "      <td>2.128764e+09</td>\n",
       "      <td>2.123305e+09</td>\n",
       "      <td>1.895330e+09</td>\n",
       "      <td>1.813831e+09</td>\n",
       "      <td>2.334213e+09</td>\n",
       "      <td>2.348613e+09</td>\n",
       "      <td>2.365671e+09</td>\n",
       "      <td>2.371263e+09</td>\n",
       "      <td>3.242102e+09</td>\n",
       "    </tr>\n",
       "  </tbody>\n",
       "</table>\n",
       "</div>"
      ],
      "text/plain": [
       "              index       ENTRIES         EXITS          n_in         n_out  \\\n",
       "count  3.586600e+06  3.586600e+06  3.586600e+06  3.586600e+06  3.586600e+06   \n",
       "mean   1.026908e+05  3.088659e+07  2.262672e+07  1.001133e+04  8.128614e+03   \n",
       "std    6.039445e+04  1.751202e+08  1.428982e+08  3.403547e+06  3.084302e+06   \n",
       "min    0.000000e+00  1.000000e+00  1.000000e+00  1.000000e+00  1.000000e+00   \n",
       "25%    4.953000e+04  5.798860e+05  3.491368e+05  7.000000e+00  7.000000e+00   \n",
       "50%    1.008320e+05  2.626718e+06  1.608360e+06  2.000000e+01  2.000000e+01   \n",
       "75%    1.558410e+05  7.140241e+06  5.058214e+06  5.100000e+01  4.900000e+01   \n",
       "max    2.176630e+05  2.128764e+09  2.123305e+09  1.895330e+09  1.813831e+09   \n",
       "\n",
       "       t_daily_entry  t_daily_exit  s_daily_entry  s_daily_exit  t_4hr_traffic  \n",
       "count   3.586600e+06  3.586600e+06   3.586600e+06  3.586600e+06   3.586600e+06  \n",
       "mean    3.629036e+04  2.920792e+04   8.566061e+05  6.806811e+05   1.813995e+04  \n",
       "std     6.895249e+06  6.287148e+06   3.230612e+07  3.064282e+07   5.992215e+06  \n",
       "min     1.000000e+00  1.000000e+00   1.000000e+00  1.000000e+00   2.000000e+00  \n",
       "25%     6.300000e+01  5.700000e+01   1.183000e+03  1.167000e+03   1.900000e+01  \n",
       "50%     1.460000e+02  1.320000e+02   2.537000e+03  2.614000e+03   4.800000e+01  \n",
       "75%     2.980000e+02  2.880000e+02   5.695000e+03  5.924000e+03   1.070000e+02  \n",
       "max     2.334213e+09  2.348613e+09   2.365671e+09  2.371263e+09   3.242102e+09  "
      ]
     },
     "execution_count": 13,
     "metadata": {},
     "output_type": "execute_result"
    }
   ],
   "source": [
    "mta.describe()"
   ]
  },
  {
   "cell_type": "code",
   "execution_count": null,
   "metadata": {},
   "outputs": [],
   "source": []
  }
 ],
 "metadata": {
  "kernelspec": {
   "display_name": "Python 3",
   "language": "python",
   "name": "python3"
  },
  "language_info": {
   "codemirror_mode": {
    "name": "ipython",
    "version": 3
   },
   "file_extension": ".py",
   "mimetype": "text/x-python",
   "name": "python",
   "nbconvert_exporter": "python",
   "pygments_lexer": "ipython3",
   "version": "3.8.3"
  }
 },
 "nbformat": 4,
 "nbformat_minor": 4
}
