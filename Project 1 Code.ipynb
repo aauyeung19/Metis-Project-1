{
 "cells": [
  {
   "cell_type": "markdown",
   "metadata": {},
   "source": [
    "## MTA Turnstile Data Cleaning"
   ]
  },
  {
   "cell_type": "code",
   "execution_count": 72,
   "metadata": {},
   "outputs": [],
   "source": [
    "#Import libraries\n",
    "import pandas as pd\n",
    "import seaborn as sns\n",
    "import matplotlib.pyplot as plt\n",
    "\n",
    "%matplotlib inline"
   ]
  },
  {
   "cell_type": "markdown",
   "metadata": {},
   "source": [
    "Read Data from MTA Website"
   ]
  },
  {
   "cell_type": "code",
   "execution_count": 73,
   "metadata": {},
   "outputs": [],
   "source": [
    "def read_mta(file_nums):\n",
    "    \"\"\"\n",
    "    Function to import data from MTA website\n",
    "    \n",
    "    Input: Dates provided in a list of strings, preformatted\n",
    "    \n",
    "    Output: Consolidated dataframe\n",
    "    \"\"\"\n",
    "    \n",
    "    path ='http://web.mta.info/developers/data/nyct/turnstile/turnstile_'\n",
    "    allFiles = []\n",
    "    for i in file_nums:\n",
    "        allFiles.append(path + i + '.txt')\n",
    "    df_list = [pd.read_csv(file) for file in allFiles]\n",
    "    df = pd.concat(df_list, ignore_index=True)\n",
    "    df.columns = df.columns.str.strip() #Remove trailing whitespace on column names\n",
    "    return df\n",
    "\n",
    "\n",
    "mta = read_mta(['200919', \n",
    "                '200912',\n",
    "                '200905',\n",
    "                '200801',\n",
    "                '200808',\n",
    "                '200815',\n",
    "                '200822',\n",
    "                '200829',\n",
    "                '200725',\n",
    "                '200718',\n",
    "                '200711',\n",
    "                '200704',\n",
    "                '200627'])"
   ]
  },
  {
   "cell_type": "markdown",
   "metadata": {},
   "source": [
    "## Exploring the Dataset"
   ]
  },
  {
   "cell_type": "code",
   "execution_count": 74,
   "metadata": {},
   "outputs": [
    {
     "data": {
      "text/html": [
       "<div>\n",
       "<style scoped>\n",
       "    .dataframe tbody tr th:only-of-type {\n",
       "        vertical-align: middle;\n",
       "    }\n",
       "\n",
       "    .dataframe tbody tr th {\n",
       "        vertical-align: top;\n",
       "    }\n",
       "\n",
       "    .dataframe thead th {\n",
       "        text-align: right;\n",
       "    }\n",
       "</style>\n",
       "<table border=\"1\" class=\"dataframe\">\n",
       "  <thead>\n",
       "    <tr style=\"text-align: right;\">\n",
       "      <th></th>\n",
       "      <th>C/A</th>\n",
       "      <th>UNIT</th>\n",
       "      <th>SCP</th>\n",
       "      <th>STATION</th>\n",
       "      <th>LINENAME</th>\n",
       "      <th>DIVISION</th>\n",
       "      <th>DATE</th>\n",
       "      <th>TIME</th>\n",
       "      <th>DESC</th>\n",
       "      <th>ENTRIES</th>\n",
       "      <th>EXITS</th>\n",
       "    </tr>\n",
       "  </thead>\n",
       "  <tbody>\n",
       "    <tr>\n",
       "      <th>0</th>\n",
       "      <td>A002</td>\n",
       "      <td>R051</td>\n",
       "      <td>02-00-00</td>\n",
       "      <td>59 ST</td>\n",
       "      <td>NQR456W</td>\n",
       "      <td>BMT</td>\n",
       "      <td>09/12/2020</td>\n",
       "      <td>00:00:00</td>\n",
       "      <td>REGULAR</td>\n",
       "      <td>7457064</td>\n",
       "      <td>2535856</td>\n",
       "    </tr>\n",
       "    <tr>\n",
       "      <th>1</th>\n",
       "      <td>A002</td>\n",
       "      <td>R051</td>\n",
       "      <td>02-00-00</td>\n",
       "      <td>59 ST</td>\n",
       "      <td>NQR456W</td>\n",
       "      <td>BMT</td>\n",
       "      <td>09/12/2020</td>\n",
       "      <td>04:00:00</td>\n",
       "      <td>REGULAR</td>\n",
       "      <td>7457067</td>\n",
       "      <td>2535861</td>\n",
       "    </tr>\n",
       "    <tr>\n",
       "      <th>2</th>\n",
       "      <td>A002</td>\n",
       "      <td>R051</td>\n",
       "      <td>02-00-00</td>\n",
       "      <td>59 ST</td>\n",
       "      <td>NQR456W</td>\n",
       "      <td>BMT</td>\n",
       "      <td>09/12/2020</td>\n",
       "      <td>08:00:00</td>\n",
       "      <td>REGULAR</td>\n",
       "      <td>7457078</td>\n",
       "      <td>2535876</td>\n",
       "    </tr>\n",
       "    <tr>\n",
       "      <th>3</th>\n",
       "      <td>A002</td>\n",
       "      <td>R051</td>\n",
       "      <td>02-00-00</td>\n",
       "      <td>59 ST</td>\n",
       "      <td>NQR456W</td>\n",
       "      <td>BMT</td>\n",
       "      <td>09/12/2020</td>\n",
       "      <td>12:00:00</td>\n",
       "      <td>REGULAR</td>\n",
       "      <td>7457119</td>\n",
       "      <td>2535920</td>\n",
       "    </tr>\n",
       "    <tr>\n",
       "      <th>4</th>\n",
       "      <td>A002</td>\n",
       "      <td>R051</td>\n",
       "      <td>02-00-00</td>\n",
       "      <td>59 ST</td>\n",
       "      <td>NQR456W</td>\n",
       "      <td>BMT</td>\n",
       "      <td>09/12/2020</td>\n",
       "      <td>12:00:00</td>\n",
       "      <td>RECOVR AUD</td>\n",
       "      <td>26786</td>\n",
       "      <td>4009</td>\n",
       "    </tr>\n",
       "  </tbody>\n",
       "</table>\n",
       "</div>"
      ],
      "text/plain": [
       "    C/A  UNIT       SCP STATION LINENAME DIVISION        DATE      TIME  \\\n",
       "0  A002  R051  02-00-00   59 ST  NQR456W      BMT  09/12/2020  00:00:00   \n",
       "1  A002  R051  02-00-00   59 ST  NQR456W      BMT  09/12/2020  04:00:00   \n",
       "2  A002  R051  02-00-00   59 ST  NQR456W      BMT  09/12/2020  08:00:00   \n",
       "3  A002  R051  02-00-00   59 ST  NQR456W      BMT  09/12/2020  12:00:00   \n",
       "4  A002  R051  02-00-00   59 ST  NQR456W      BMT  09/12/2020  12:00:00   \n",
       "\n",
       "         DESC  ENTRIES    EXITS  \n",
       "0     REGULAR  7457064  2535856  \n",
       "1     REGULAR  7457067  2535861  \n",
       "2     REGULAR  7457078  2535876  \n",
       "3     REGULAR  7457119  2535920  \n",
       "4  RECOVR AUD    26786     4009  "
      ]
     },
     "execution_count": 74,
     "metadata": {},
     "output_type": "execute_result"
    }
   ],
   "source": [
    "mta.head(5)"
   ]
  },
  {
   "cell_type": "code",
   "execution_count": 75,
   "metadata": {},
   "outputs": [
    {
     "name": "stdout",
     "output_type": "stream",
     "text": [
      "<class 'pandas.core.frame.DataFrame'>\n",
      "RangeIndex: 2711632 entries, 0 to 2711631\n",
      "Data columns (total 11 columns):\n",
      " #   Column    Dtype \n",
      "---  ------    ----- \n",
      " 0   C/A       object\n",
      " 1   UNIT      object\n",
      " 2   SCP       object\n",
      " 3   STATION   object\n",
      " 4   LINENAME  object\n",
      " 5   DIVISION  object\n",
      " 6   DATE      object\n",
      " 7   TIME      object\n",
      " 8   DESC      object\n",
      " 9   ENTRIES   int64 \n",
      " 10  EXITS     int64 \n",
      "dtypes: int64(2), object(9)\n",
      "memory usage: 227.6+ MB\n"
     ]
    }
   ],
   "source": [
    "mta.info()"
   ]
  },
  {
   "cell_type": "code",
   "execution_count": 76,
   "metadata": {},
   "outputs": [
    {
     "data": {
      "text/html": [
       "<div>\n",
       "<style scoped>\n",
       "    .dataframe tbody tr th:only-of-type {\n",
       "        vertical-align: middle;\n",
       "    }\n",
       "\n",
       "    .dataframe tbody tr th {\n",
       "        vertical-align: top;\n",
       "    }\n",
       "\n",
       "    .dataframe thead th {\n",
       "        text-align: right;\n",
       "    }\n",
       "</style>\n",
       "<table border=\"1\" class=\"dataframe\">\n",
       "  <thead>\n",
       "    <tr style=\"text-align: right;\">\n",
       "      <th></th>\n",
       "      <th>ENTRIES</th>\n",
       "      <th>EXITS</th>\n",
       "    </tr>\n",
       "  </thead>\n",
       "  <tbody>\n",
       "    <tr>\n",
       "      <th>count</th>\n",
       "      <td>2.711632e+06</td>\n",
       "      <td>2.711632e+06</td>\n",
       "    </tr>\n",
       "    <tr>\n",
       "      <th>mean</th>\n",
       "      <td>4.266326e+07</td>\n",
       "      <td>3.497934e+07</td>\n",
       "    </tr>\n",
       "    <tr>\n",
       "      <th>std</th>\n",
       "      <td>2.175932e+08</td>\n",
       "      <td>1.982846e+08</td>\n",
       "    </tr>\n",
       "    <tr>\n",
       "      <th>min</th>\n",
       "      <td>0.000000e+00</td>\n",
       "      <td>0.000000e+00</td>\n",
       "    </tr>\n",
       "    <tr>\n",
       "      <th>25%</th>\n",
       "      <td>2.805560e+05</td>\n",
       "      <td>1.203390e+05</td>\n",
       "    </tr>\n",
       "    <tr>\n",
       "      <th>50%</th>\n",
       "      <td>1.786374e+06</td>\n",
       "      <td>1.040209e+06</td>\n",
       "    </tr>\n",
       "    <tr>\n",
       "      <th>75%</th>\n",
       "      <td>6.451785e+06</td>\n",
       "      <td>4.307172e+06</td>\n",
       "    </tr>\n",
       "    <tr>\n",
       "      <th>max</th>\n",
       "      <td>2.128760e+09</td>\n",
       "      <td>2.123274e+09</td>\n",
       "    </tr>\n",
       "  </tbody>\n",
       "</table>\n",
       "</div>"
      ],
      "text/plain": [
       "            ENTRIES         EXITS\n",
       "count  2.711632e+06  2.711632e+06\n",
       "mean   4.266326e+07  3.497934e+07\n",
       "std    2.175932e+08  1.982846e+08\n",
       "min    0.000000e+00  0.000000e+00\n",
       "25%    2.805560e+05  1.203390e+05\n",
       "50%    1.786374e+06  1.040209e+06\n",
       "75%    6.451785e+06  4.307172e+06\n",
       "max    2.128760e+09  2.123274e+09"
      ]
     },
     "execution_count": 76,
     "metadata": {},
     "output_type": "execute_result"
    }
   ],
   "source": [
    "mta.describe()"
   ]
  },
  {
   "cell_type": "markdown",
   "metadata": {},
   "source": [
    "Early things to take note of\n",
    "* Large range in turnstile Entries and Exit Tickers (suggests turnstiles may have started at different times)"
   ]
  },
  {
   "cell_type": "markdown",
   "metadata": {},
   "source": [
    "## Clean Data\n",
    "* convert to datetime and sort in ascending order\n",
    "* Analyze the 'DESC' column & drop rows accordingly\n",
    "* Difference the entries/exit counts from prior row to get turnstile count for each row\n",
    "* remove negative entries and exits\n",
    "* remove total traffic greater than 2400\n",
    "* convert datetime to day of week int\n"
   ]
  },
  {
   "cell_type": "code",
   "execution_count": 77,
   "metadata": {},
   "outputs": [],
   "source": [
    "#convert to datetime and sort\n",
    "mta['datetime'] = pd.to_datetime(mta.DATE+' '+mta.TIME)\n",
    "mta.sort_values(by=['datetime'], inplace=True)"
   ]
  },
  {
   "cell_type": "code",
   "execution_count": 78,
   "metadata": {},
   "outputs": [
    {
     "data": {
      "text/plain": [
       "REGULAR       2699431\n",
       "RECOVR AUD      12201\n",
       "Name: DESC, dtype: int64"
      ]
     },
     "execution_count": 78,
     "metadata": {},
     "output_type": "execute_result"
    }
   ],
   "source": [
    "#recovered audits are <1% of total data. Drop!\n",
    "mta.DESC.value_counts()"
   ]
  },
  {
   "cell_type": "code",
   "execution_count": 79,
   "metadata": {},
   "outputs": [],
   "source": [
    "#only interested in regular audits. \n",
    "mta = pd.DataFrame(mta[mta.DESC == 'REGULAR'])"
   ]
  },
  {
   "cell_type": "code",
   "execution_count": 80,
   "metadata": {},
   "outputs": [],
   "source": [
    "#convert ENTRIES and EXITS to number of entries and number of exits between audits\n",
    "mta['n_in'] = mta.groupby(['STATION', 'UNIT', 'C/A', 'SCP'])['ENTRIES'].diff()\n",
    "mta['n_out'] = mta.groupby(['STATION', 'UNIT', 'C/A', 'SCP'])['EXITS'].diff()"
   ]
  },
  {
   "cell_type": "code",
   "execution_count": 81,
   "metadata": {},
   "outputs": [],
   "source": [
    "#adding n_in and n_out to get total turnstile traffic between audits\n",
    "mta['turn_traffic'] = mta.n_in + mta.n_out"
   ]
  },
  {
   "cell_type": "code",
   "execution_count": 82,
   "metadata": {},
   "outputs": [
    {
     "data": {
      "text/html": [
       "<div>\n",
       "<style scoped>\n",
       "    .dataframe tbody tr th:only-of-type {\n",
       "        vertical-align: middle;\n",
       "    }\n",
       "\n",
       "    .dataframe tbody tr th {\n",
       "        vertical-align: top;\n",
       "    }\n",
       "\n",
       "    .dataframe thead th {\n",
       "        text-align: right;\n",
       "    }\n",
       "</style>\n",
       "<table border=\"1\" class=\"dataframe\">\n",
       "  <thead>\n",
       "    <tr style=\"text-align: right;\">\n",
       "      <th></th>\n",
       "      <th>ENTRIES</th>\n",
       "      <th>EXITS</th>\n",
       "      <th>n_in</th>\n",
       "      <th>n_out</th>\n",
       "      <th>turn_traffic</th>\n",
       "    </tr>\n",
       "  </thead>\n",
       "  <tbody>\n",
       "    <tr>\n",
       "      <th>count</th>\n",
       "      <td>2.699431e+06</td>\n",
       "      <td>2.699431e+06</td>\n",
       "      <td>2.694432e+06</td>\n",
       "      <td>2.694432e+06</td>\n",
       "      <td>2.694432e+06</td>\n",
       "    </tr>\n",
       "    <tr>\n",
       "      <th>mean</th>\n",
       "      <td>4.265449e+07</td>\n",
       "      <td>3.496796e+07</td>\n",
       "      <td>-2.380128e+02</td>\n",
       "      <td>4.761911e+02</td>\n",
       "      <td>2.381783e+02</td>\n",
       "    </tr>\n",
       "    <tr>\n",
       "      <th>std</th>\n",
       "      <td>2.175794e+08</td>\n",
       "      <td>1.982494e+08</td>\n",
       "      <td>3.602118e+06</td>\n",
       "      <td>2.759846e+06</td>\n",
       "      <td>5.556849e+06</td>\n",
       "    </tr>\n",
       "    <tr>\n",
       "      <th>min</th>\n",
       "      <td>0.000000e+00</td>\n",
       "      <td>0.000000e+00</td>\n",
       "      <td>-1.895328e+09</td>\n",
       "      <td>-1.813836e+09</td>\n",
       "      <td>-3.051188e+09</td>\n",
       "    </tr>\n",
       "    <tr>\n",
       "      <th>25%</th>\n",
       "      <td>2.799710e+05</td>\n",
       "      <td>1.203770e+05</td>\n",
       "      <td>1.000000e+00</td>\n",
       "      <td>2.000000e+00</td>\n",
       "      <td>4.000000e+00</td>\n",
       "    </tr>\n",
       "    <tr>\n",
       "      <th>50%</th>\n",
       "      <td>1.785383e+06</td>\n",
       "      <td>1.039748e+06</td>\n",
       "      <td>1.300000e+01</td>\n",
       "      <td>1.500000e+01</td>\n",
       "      <td>3.700000e+01</td>\n",
       "    </tr>\n",
       "    <tr>\n",
       "      <th>75%</th>\n",
       "      <td>6.449905e+06</td>\n",
       "      <td>4.305638e+06</td>\n",
       "      <td>5.000000e+01</td>\n",
       "      <td>4.900000e+01</td>\n",
       "      <td>1.090000e+02</td>\n",
       "    </tr>\n",
       "    <tr>\n",
       "      <th>max</th>\n",
       "      <td>2.128760e+09</td>\n",
       "      <td>2.123274e+09</td>\n",
       "      <td>1.879048e+09</td>\n",
       "      <td>1.740393e+09</td>\n",
       "      <td>2.371192e+09</td>\n",
       "    </tr>\n",
       "  </tbody>\n",
       "</table>\n",
       "</div>"
      ],
      "text/plain": [
       "            ENTRIES         EXITS          n_in         n_out  turn_traffic\n",
       "count  2.699431e+06  2.699431e+06  2.694432e+06  2.694432e+06  2.694432e+06\n",
       "mean   4.265449e+07  3.496796e+07 -2.380128e+02  4.761911e+02  2.381783e+02\n",
       "std    2.175794e+08  1.982494e+08  3.602118e+06  2.759846e+06  5.556849e+06\n",
       "min    0.000000e+00  0.000000e+00 -1.895328e+09 -1.813836e+09 -3.051188e+09\n",
       "25%    2.799710e+05  1.203770e+05  1.000000e+00  2.000000e+00  4.000000e+00\n",
       "50%    1.785383e+06  1.039748e+06  1.300000e+01  1.500000e+01  3.700000e+01\n",
       "75%    6.449905e+06  4.305638e+06  5.000000e+01  4.900000e+01  1.090000e+02\n",
       "max    2.128760e+09  2.123274e+09  1.879048e+09  1.740393e+09  2.371192e+09"
      ]
     },
     "execution_count": 82,
     "metadata": {},
     "output_type": "execute_result"
    }
   ],
   "source": [
    "#n_in and n_out have negative quantities\n",
    "mta.describe()"
   ]
  },
  {
   "cell_type": "code",
   "execution_count": 83,
   "metadata": {},
   "outputs": [
    {
     "name": "stderr",
     "output_type": "stream",
     "text": [
      "/home/navish/anaconda3/lib/python3.8/site-packages/seaborn/distributions.py:2551: FutureWarning: `distplot` is a deprecated function and will be removed in a future version. Please adapt your code to use either `displot` (a figure-level function with similar flexibility) or `histplot` (an axes-level function for histograms).\n",
      "  warnings.warn(msg, FutureWarning)\n"
     ]
    },
    {
     "data": {
      "text/plain": [
       "<AxesSubplot:xlabel='turn_traffic', ylabel='Density'>"
      ]
     },
     "execution_count": 83,
     "metadata": {},
     "output_type": "execute_result"
    },
    {
     "data": {
      "image/png": "[encoded data removed]",
      "text/plain": [
       "<Figure size 432x288 with 1 Axes>"
      ]
     },
     "metadata": {
      "needs_background": "light"
     },
     "output_type": "display_data"
    }
   ],
   "source": [
    "sns.distplot(mta.turn_traffic, kde=True)"
   ]
  },
  {
   "cell_type": "code",
   "execution_count": 84,
   "metadata": {},
   "outputs": [
    {
     "data": {
      "text/plain": [
       "0.007945378118573878"
      ]
     },
     "execution_count": 84,
     "metadata": {},
     "output_type": "execute_result"
    }
   ],
   "source": [
    "len(mta[mta.turn_traffic<0])/len(mta)"
   ]
  },
  {
   "cell_type": "markdown",
   "metadata": {},
   "source": [
    "Takeaways:\n",
    "* Large gap in maximum turnstile traffic data ~1 BILLION\n",
    "* Some Negative Values but they take up less than 1% of the data\n",
    "\n",
    "Lets drop the negative values and assume that at a maximum, ten people will pass through a turnstile in a minute.  \n",
    "This caps the four hour traffic at 2400 people passing through a specific turnstile. "
   ]
  },
  {
   "cell_type": "code",
   "execution_count": 85,
   "metadata": {},
   "outputs": [],
   "source": [
    "mask = (mta.n_in >= 0) & (mta.n_out >= 0) & (mta.turn_traffic >= 0) & (mta.turn_traffic < 2400)\n",
    "mta = mta[mask]"
   ]
  },
  {
   "cell_type": "code",
   "execution_count": 86,
   "metadata": {},
   "outputs": [
    {
     "name": "stderr",
     "output_type": "stream",
     "text": [
      "/home/navish/anaconda3/lib/python3.8/site-packages/seaborn/_decorators.py:36: FutureWarning: Pass the following variable as a keyword arg: x. From version 0.12, the only valid positional argument will be `data`, and passing other arguments without an explicit keyword will result in an error or misinterpretation.\n",
      "  warnings.warn(\n"
     ]
    },
    {
     "data": {
      "text/plain": [
       "<AxesSubplot:xlabel='turn_traffic'>"
      ]
     },
     "execution_count": 86,
     "metadata": {},
     "output_type": "execute_result"
    },
    {
     "data": {
      "image/png": "[encoded data removed]",
      "text/plain": [
       "<Figure size 432x288 with 1 Axes>"
      ]
     },
     "metadata": {
      "needs_background": "light"
     },
     "output_type": "display_data"
    }
   ],
   "source": [
    "sns.boxplot(mta.turn_traffic)"
   ]
  },
  {
   "cell_type": "markdown",
   "metadata": {},
   "source": [
    "For later use, break down the further mta data to show their individual weekdays."
   ]
  },
  {
   "cell_type": "code",
   "execution_count": 87,
   "metadata": {},
   "outputs": [],
   "source": [
    "mta['day_of_week'] = mta['datetime'].apply(lambda x : x.weekday())"
   ]
  },
  {
   "cell_type": "markdown",
   "metadata": {},
   "source": [
    "## Analysis\n",
    "\n",
    "Total Traffic across all turnstiles are aggregated at station level.\n",
    "Highest ranking stations will be used for further analysis & recommendation."
   ]
  },
  {
   "cell_type": "markdown",
   "metadata": {},
   "source": [
    "### Ranking Stations Traffic For entire DataFrame"
   ]
  },
  {
   "cell_type": "code",
   "execution_count": 88,
   "metadata": {},
   "outputs": [],
   "source": [
    "#Summing up traffic by station\n",
    "stations_totals = mta.groupby('STATION', as_index=False).turn_traffic.sum()"
   ]
  },
  {
   "cell_type": "code",
   "execution_count": 89,
   "metadata": {},
   "outputs": [],
   "source": [
    "stations_totals.rename(columns={'turn_traffic':'total_st_traffic'}, inplace=True)"
   ]
  },
  {
   "cell_type": "code",
   "execution_count": 90,
   "metadata": {},
   "outputs": [],
   "source": [
    "stations_totals.sort_values(by='total_st_traffic', ascending=False, inplace=True)"
   ]
  },
  {
   "cell_type": "code",
   "execution_count": 91,
   "metadata": {},
   "outputs": [
    {
     "data": {
      "text/html": [
       "<div>\n",
       "<style scoped>\n",
       "    .dataframe tbody tr th:only-of-type {\n",
       "        vertical-align: middle;\n",
       "    }\n",
       "\n",
       "    .dataframe tbody tr th {\n",
       "        vertical-align: top;\n",
       "    }\n",
       "\n",
       "    .dataframe thead th {\n",
       "        text-align: right;\n",
       "    }\n",
       "</style>\n",
       "<table border=\"1\" class=\"dataframe\">\n",
       "  <thead>\n",
       "    <tr style=\"text-align: right;\">\n",
       "      <th></th>\n",
       "      <th>STATION</th>\n",
       "      <th>total_st_traffic</th>\n",
       "    </tr>\n",
       "  </thead>\n",
       "  <tbody>\n",
       "    <tr>\n",
       "      <th>61</th>\n",
       "      <td>34 ST-PENN STA</td>\n",
       "      <td>4731445.0</td>\n",
       "    </tr>\n",
       "    <tr>\n",
       "      <th>59</th>\n",
       "      <td>34 ST-HERALD SQ</td>\n",
       "      <td>3770944.0</td>\n",
       "    </tr>\n",
       "    <tr>\n",
       "      <th>9</th>\n",
       "      <td>125 ST</td>\n",
       "      <td>3723671.0</td>\n",
       "    </tr>\n",
       "    <tr>\n",
       "      <th>110</th>\n",
       "      <td>86 ST</td>\n",
       "      <td>3378209.0</td>\n",
       "    </tr>\n",
       "    <tr>\n",
       "      <th>14</th>\n",
       "      <td>14 ST-UNION SQ</td>\n",
       "      <td>3233501.0</td>\n",
       "    </tr>\n",
       "    <tr>\n",
       "      <th>233</th>\n",
       "      <td>GRD CNTRL-42 ST</td>\n",
       "      <td>3065539.0</td>\n",
       "    </tr>\n",
       "    <tr>\n",
       "      <th>68</th>\n",
       "      <td>42 ST-PORT AUTH</td>\n",
       "      <td>3017721.0</td>\n",
       "    </tr>\n",
       "    <tr>\n",
       "      <th>46</th>\n",
       "      <td>23 ST</td>\n",
       "      <td>2810212.0</td>\n",
       "    </tr>\n",
       "    <tr>\n",
       "      <th>217</th>\n",
       "      <td>FLUSHING-MAIN</td>\n",
       "      <td>2728575.0</td>\n",
       "    </tr>\n",
       "    <tr>\n",
       "      <th>226</th>\n",
       "      <td>FULTON ST</td>\n",
       "      <td>2635630.0</td>\n",
       "    </tr>\n",
       "    <tr>\n",
       "      <th>85</th>\n",
       "      <td>59 ST</td>\n",
       "      <td>2523999.0</td>\n",
       "    </tr>\n",
       "  </tbody>\n",
       "</table>\n",
       "</div>"
      ],
      "text/plain": [
       "             STATION  total_st_traffic\n",
       "61    34 ST-PENN STA         4731445.0\n",
       "59   34 ST-HERALD SQ         3770944.0\n",
       "9             125 ST         3723671.0\n",
       "110            86 ST         3378209.0\n",
       "14    14 ST-UNION SQ         3233501.0\n",
       "233  GRD CNTRL-42 ST         3065539.0\n",
       "68   42 ST-PORT AUTH         3017721.0\n",
       "46             23 ST         2810212.0\n",
       "217    FLUSHING-MAIN         2728575.0\n",
       "226        FULTON ST         2635630.0\n",
       "85             59 ST         2523999.0"
      ]
     },
     "execution_count": 91,
     "metadata": {},
     "output_type": "execute_result"
    }
   ],
   "source": [
    "stations_totals[:11]"
   ]
  },
  {
   "cell_type": "code",
   "execution_count": 92,
   "metadata": {},
   "outputs": [
    {
     "data": {
      "image/png": "[encoded data removed]",
      "text/plain": [
       "<Figure size 1800x720 with 1 Axes>"
      ]
     },
     "metadata": {
      "needs_background": "light"
     },
     "output_type": "display_data"
    }
   ],
   "source": [
    "plt.figure(figsize=[25,10])\n",
    "\n",
    "sns.barplot(x='total_st_traffic', y='STATION', data=stations_totals[:10], color='sandybrown')\n",
    "plt.title('Top Most Trafficed Stations (2020)', fontsize=20)\n",
    "plt.xlabel('Total Traffic', fontsize=18)\n",
    "plt.ylabel('Station', fontsize=18);"
   ]
  },
  {
   "cell_type": "markdown",
   "metadata": {},
   "source": [
    "### Verifying Top 10 Stations From 2019"
   ]
  },
  {
   "cell_type": "code",
   "execution_count": 93,
   "metadata": {},
   "outputs": [],
   "source": [
    "#loading in 2019 data\n",
    "mta19 = read_mta(['190928',\n",
    "                 '190921',\n",
    "                 '190914',\n",
    "                 '190907',\n",
    "                 '190831',\n",
    "                 '190824',\n",
    "                 '190817',\n",
    "                 '190810',\n",
    "                 '190803',\n",
    "                 '190727',\n",
    "                 '190720',\n",
    "                 '190713',\n",
    "                 '190706'\n",
    "                 ])"
   ]
  },
  {
   "cell_type": "code",
   "execution_count": 94,
   "metadata": {},
   "outputs": [
    {
     "data": {
      "text/html": [
       "<div>\n",
       "<style scoped>\n",
       "    .dataframe tbody tr th:only-of-type {\n",
       "        vertical-align: middle;\n",
       "    }\n",
       "\n",
       "    .dataframe tbody tr th {\n",
       "        vertical-align: top;\n",
       "    }\n",
       "\n",
       "    .dataframe thead th {\n",
       "        text-align: right;\n",
       "    }\n",
       "</style>\n",
       "<table border=\"1\" class=\"dataframe\">\n",
       "  <thead>\n",
       "    <tr style=\"text-align: right;\">\n",
       "      <th></th>\n",
       "      <th>C/A</th>\n",
       "      <th>UNIT</th>\n",
       "      <th>SCP</th>\n",
       "      <th>STATION</th>\n",
       "      <th>LINENAME</th>\n",
       "      <th>DIVISION</th>\n",
       "      <th>DATE</th>\n",
       "      <th>TIME</th>\n",
       "      <th>DESC</th>\n",
       "      <th>ENTRIES</th>\n",
       "      <th>EXITS</th>\n",
       "    </tr>\n",
       "  </thead>\n",
       "  <tbody>\n",
       "    <tr>\n",
       "      <th>0</th>\n",
       "      <td>A002</td>\n",
       "      <td>R051</td>\n",
       "      <td>02-00-00</td>\n",
       "      <td>59 ST</td>\n",
       "      <td>NQR456W</td>\n",
       "      <td>BMT</td>\n",
       "      <td>09/21/2019</td>\n",
       "      <td>00:00:00</td>\n",
       "      <td>REGULAR</td>\n",
       "      <td>7206966</td>\n",
       "      <td>2441290</td>\n",
       "    </tr>\n",
       "    <tr>\n",
       "      <th>1</th>\n",
       "      <td>A002</td>\n",
       "      <td>R051</td>\n",
       "      <td>02-00-00</td>\n",
       "      <td>59 ST</td>\n",
       "      <td>NQR456W</td>\n",
       "      <td>BMT</td>\n",
       "      <td>09/21/2019</td>\n",
       "      <td>04:00:00</td>\n",
       "      <td>REGULAR</td>\n",
       "      <td>7206983</td>\n",
       "      <td>2441292</td>\n",
       "    </tr>\n",
       "    <tr>\n",
       "      <th>2</th>\n",
       "      <td>A002</td>\n",
       "      <td>R051</td>\n",
       "      <td>02-00-00</td>\n",
       "      <td>59 ST</td>\n",
       "      <td>NQR456W</td>\n",
       "      <td>BMT</td>\n",
       "      <td>09/21/2019</td>\n",
       "      <td>08:00:00</td>\n",
       "      <td>REGULAR</td>\n",
       "      <td>7207003</td>\n",
       "      <td>2441323</td>\n",
       "    </tr>\n",
       "    <tr>\n",
       "      <th>3</th>\n",
       "      <td>A002</td>\n",
       "      <td>R051</td>\n",
       "      <td>02-00-00</td>\n",
       "      <td>59 ST</td>\n",
       "      <td>NQR456W</td>\n",
       "      <td>BMT</td>\n",
       "      <td>09/21/2019</td>\n",
       "      <td>12:00:00</td>\n",
       "      <td>REGULAR</td>\n",
       "      <td>7207073</td>\n",
       "      <td>2441395</td>\n",
       "    </tr>\n",
       "    <tr>\n",
       "      <th>4</th>\n",
       "      <td>A002</td>\n",
       "      <td>R051</td>\n",
       "      <td>02-00-00</td>\n",
       "      <td>59 ST</td>\n",
       "      <td>NQR456W</td>\n",
       "      <td>BMT</td>\n",
       "      <td>09/21/2019</td>\n",
       "      <td>16:00:00</td>\n",
       "      <td>REGULAR</td>\n",
       "      <td>7207260</td>\n",
       "      <td>2441450</td>\n",
       "    </tr>\n",
       "    <tr>\n",
       "      <th>5</th>\n",
       "      <td>A002</td>\n",
       "      <td>R051</td>\n",
       "      <td>02-00-00</td>\n",
       "      <td>59 ST</td>\n",
       "      <td>NQR456W</td>\n",
       "      <td>BMT</td>\n",
       "      <td>09/21/2019</td>\n",
       "      <td>20:00:00</td>\n",
       "      <td>REGULAR</td>\n",
       "      <td>7207572</td>\n",
       "      <td>2441489</td>\n",
       "    </tr>\n",
       "    <tr>\n",
       "      <th>6</th>\n",
       "      <td>A002</td>\n",
       "      <td>R051</td>\n",
       "      <td>02-00-00</td>\n",
       "      <td>59 ST</td>\n",
       "      <td>NQR456W</td>\n",
       "      <td>BMT</td>\n",
       "      <td>09/22/2019</td>\n",
       "      <td>00:00:00</td>\n",
       "      <td>REGULAR</td>\n",
       "      <td>7207748</td>\n",
       "      <td>2441513</td>\n",
       "    </tr>\n",
       "    <tr>\n",
       "      <th>7</th>\n",
       "      <td>A002</td>\n",
       "      <td>R051</td>\n",
       "      <td>02-00-00</td>\n",
       "      <td>59 ST</td>\n",
       "      <td>NQR456W</td>\n",
       "      <td>BMT</td>\n",
       "      <td>09/22/2019</td>\n",
       "      <td>04:00:00</td>\n",
       "      <td>REGULAR</td>\n",
       "      <td>7207773</td>\n",
       "      <td>2441521</td>\n",
       "    </tr>\n",
       "    <tr>\n",
       "      <th>8</th>\n",
       "      <td>A002</td>\n",
       "      <td>R051</td>\n",
       "      <td>02-00-00</td>\n",
       "      <td>59 ST</td>\n",
       "      <td>NQR456W</td>\n",
       "      <td>BMT</td>\n",
       "      <td>09/22/2019</td>\n",
       "      <td>08:00:00</td>\n",
       "      <td>REGULAR</td>\n",
       "      <td>7207784</td>\n",
       "      <td>2441536</td>\n",
       "    </tr>\n",
       "    <tr>\n",
       "      <th>9</th>\n",
       "      <td>A002</td>\n",
       "      <td>R051</td>\n",
       "      <td>02-00-00</td>\n",
       "      <td>59 ST</td>\n",
       "      <td>NQR456W</td>\n",
       "      <td>BMT</td>\n",
       "      <td>09/22/2019</td>\n",
       "      <td>12:00:00</td>\n",
       "      <td>REGULAR</td>\n",
       "      <td>7207848</td>\n",
       "      <td>2441602</td>\n",
       "    </tr>\n",
       "  </tbody>\n",
       "</table>\n",
       "</div>"
      ],
      "text/plain": [
       "    C/A  UNIT       SCP STATION LINENAME DIVISION        DATE      TIME  \\\n",
       "0  A002  R051  02-00-00   59 ST  NQR456W      BMT  09/21/2019  00:00:00   \n",
       "1  A002  R051  02-00-00   59 ST  NQR456W      BMT  09/21/2019  04:00:00   \n",
       "2  A002  R051  02-00-00   59 ST  NQR456W      BMT  09/21/2019  08:00:00   \n",
       "3  A002  R051  02-00-00   59 ST  NQR456W      BMT  09/21/2019  12:00:00   \n",
       "4  A002  R051  02-00-00   59 ST  NQR456W      BMT  09/21/2019  16:00:00   \n",
       "5  A002  R051  02-00-00   59 ST  NQR456W      BMT  09/21/2019  20:00:00   \n",
       "6  A002  R051  02-00-00   59 ST  NQR456W      BMT  09/22/2019  00:00:00   \n",
       "7  A002  R051  02-00-00   59 ST  NQR456W      BMT  09/22/2019  04:00:00   \n",
       "8  A002  R051  02-00-00   59 ST  NQR456W      BMT  09/22/2019  08:00:00   \n",
       "9  A002  R051  02-00-00   59 ST  NQR456W      BMT  09/22/2019  12:00:00   \n",
       "\n",
       "      DESC  ENTRIES    EXITS  \n",
       "0  REGULAR  7206966  2441290  \n",
       "1  REGULAR  7206983  2441292  \n",
       "2  REGULAR  7207003  2441323  \n",
       "3  REGULAR  7207073  2441395  \n",
       "4  REGULAR  7207260  2441450  \n",
       "5  REGULAR  7207572  2441489  \n",
       "6  REGULAR  7207748  2441513  \n",
       "7  REGULAR  7207773  2441521  \n",
       "8  REGULAR  7207784  2441536  \n",
       "9  REGULAR  7207848  2441602  "
      ]
     },
     "execution_count": 94,
     "metadata": {},
     "output_type": "execute_result"
    }
   ],
   "source": [
    "mta19.head(10)"
   ]
  },
  {
   "cell_type": "markdown",
   "metadata": {},
   "source": [
    "### Cleaning"
   ]
  },
  {
   "cell_type": "code",
   "execution_count": 95,
   "metadata": {},
   "outputs": [],
   "source": [
    "mta19['datetime'] = pd.to_datetime(mta.DATE+' '+mta.TIME)\n",
    "mta19 = pd.DataFrame(mta19[mta19.DESC == 'REGULAR'])\n",
    "mta19.sort_values(by=['datetime'], inplace=True)\n",
    "\n",
    "#convert ENTRIES and EXITS to number of entries and number of exits between audits\n",
    "mta19['n_in'] = mta19.groupby(['STATION', 'UNIT', 'C/A', 'SCP'])['ENTRIES'].diff()\n",
    "mta19['n_out'] = mta19.groupby(['STATION', 'UNIT', 'C/A', 'SCP'])['EXITS'].diff()\n",
    "\n",
    "#adding n_in and n_out to get total turnstile traffic between audits\n",
    "mta19['turn_traffic'] = mta19.n_in + mta19.n_out\n",
    "\n",
    "mask19 = (mta19.n_in >= 0) & (mta19.n_out >= 0) & (mta19.turn_traffic >= 0) & (mta19.turn_traffic < 2400)\n",
    "mta19 = mta19[mask19]"
   ]
  },
  {
   "cell_type": "code",
   "execution_count": 96,
   "metadata": {},
   "outputs": [],
   "source": [
    "mta19['total_st_traffic'] = mta19.groupby('STATION').turn_traffic.transform('sum')"
   ]
  },
  {
   "cell_type": "code",
   "execution_count": 97,
   "metadata": {},
   "outputs": [
    {
     "data": {
      "text/html": [
       "<div>\n",
       "<style scoped>\n",
       "    .dataframe tbody tr th:only-of-type {\n",
       "        vertical-align: middle;\n",
       "    }\n",
       "\n",
       "    .dataframe tbody tr th {\n",
       "        vertical-align: top;\n",
       "    }\n",
       "\n",
       "    .dataframe thead th {\n",
       "        text-align: right;\n",
       "    }\n",
       "</style>\n",
       "<table border=\"1\" class=\"dataframe\">\n",
       "  <thead>\n",
       "    <tr style=\"text-align: right;\">\n",
       "      <th></th>\n",
       "      <th>C/A</th>\n",
       "      <th>UNIT</th>\n",
       "      <th>SCP</th>\n",
       "      <th>STATION</th>\n",
       "      <th>LINENAME</th>\n",
       "      <th>DIVISION</th>\n",
       "      <th>DATE</th>\n",
       "      <th>TIME</th>\n",
       "      <th>DESC</th>\n",
       "      <th>ENTRIES</th>\n",
       "      <th>EXITS</th>\n",
       "      <th>datetime</th>\n",
       "      <th>n_in</th>\n",
       "      <th>n_out</th>\n",
       "      <th>turn_traffic</th>\n",
       "      <th>total_st_traffic</th>\n",
       "    </tr>\n",
       "  </thead>\n",
       "  <tbody>\n",
       "    <tr>\n",
       "      <th>1021247</th>\n",
       "      <td>R635</td>\n",
       "      <td>R277</td>\n",
       "      <td>00-00-01</td>\n",
       "      <td>PRESIDENT ST</td>\n",
       "      <td>25</td>\n",
       "      <td>IRT</td>\n",
       "      <td>08/29/2019</td>\n",
       "      <td>16:00:00</td>\n",
       "      <td>REGULAR</td>\n",
       "      <td>5959160</td>\n",
       "      <td>7671664</td>\n",
       "      <td>2020-08-03 00:00:00</td>\n",
       "      <td>267.0</td>\n",
       "      <td>293.0</td>\n",
       "      <td>560.0</td>\n",
       "      <td>431210.0</td>\n",
       "    </tr>\n",
       "    <tr>\n",
       "      <th>2377768</th>\n",
       "      <td>N554</td>\n",
       "      <td>R423</td>\n",
       "      <td>01-04-01</td>\n",
       "      <td>AVENUE N</td>\n",
       "      <td>F</td>\n",
       "      <td>IND</td>\n",
       "      <td>07/12/2019</td>\n",
       "      <td>01:00:00</td>\n",
       "      <td>REGULAR</td>\n",
       "      <td>0</td>\n",
       "      <td>395</td>\n",
       "      <td>2020-06-28 09:00:00</td>\n",
       "      <td>0.0</td>\n",
       "      <td>0.0</td>\n",
       "      <td>0.0</td>\n",
       "      <td>306775.0</td>\n",
       "    </tr>\n",
       "    <tr>\n",
       "      <th>836154</th>\n",
       "      <td>B020</td>\n",
       "      <td>R263</td>\n",
       "      <td>00-03-00</td>\n",
       "      <td>AVENUE H</td>\n",
       "      <td>BQ</td>\n",
       "      <td>BMT</td>\n",
       "      <td>08/27/2019</td>\n",
       "      <td>00:00:00</td>\n",
       "      <td>REGULAR</td>\n",
       "      <td>10318</td>\n",
       "      <td>9567</td>\n",
       "      <td>2020-08-01 12:00:00</td>\n",
       "      <td>1002.0</td>\n",
       "      <td>916.0</td>\n",
       "      <td>1918.0</td>\n",
       "      <td>694850.0</td>\n",
       "    </tr>\n",
       "    <tr>\n",
       "      <th>2508372</th>\n",
       "      <td>G011</td>\n",
       "      <td>R312</td>\n",
       "      <td>00-00-00</td>\n",
       "      <td>W 8 ST-AQUARIUM</td>\n",
       "      <td>FQ</td>\n",
       "      <td>BMT</td>\n",
       "      <td>07/03/2019</td>\n",
       "      <td>08:00:00</td>\n",
       "      <td>REGULAR</td>\n",
       "      <td>4351392</td>\n",
       "      <td>9301818</td>\n",
       "      <td>2020-06-21 12:00:00</td>\n",
       "      <td>5.0</td>\n",
       "      <td>55.0</td>\n",
       "      <td>60.0</td>\n",
       "      <td>472495.0</td>\n",
       "    </tr>\n",
       "    <tr>\n",
       "      <th>1465941</th>\n",
       "      <td>D006</td>\n",
       "      <td>R398</td>\n",
       "      <td>01-05-00</td>\n",
       "      <td>NEW UTRECHT AV</td>\n",
       "      <td>ND</td>\n",
       "      <td>BMT</td>\n",
       "      <td>08/07/2019</td>\n",
       "      <td>13:00:00</td>\n",
       "      <td>REGULAR</td>\n",
       "      <td>897</td>\n",
       "      <td>0</td>\n",
       "      <td>2020-08-26 21:00:00</td>\n",
       "      <td>0.0</td>\n",
       "      <td>0.0</td>\n",
       "      <td>0.0</td>\n",
       "      <td>574933.0</td>\n",
       "    </tr>\n",
       "  </tbody>\n",
       "</table>\n",
       "</div>"
      ],
      "text/plain": [
       "          C/A  UNIT       SCP          STATION LINENAME DIVISION        DATE  \\\n",
       "1021247  R635  R277  00-00-01     PRESIDENT ST       25      IRT  08/29/2019   \n",
       "2377768  N554  R423  01-04-01         AVENUE N        F      IND  07/12/2019   \n",
       "836154   B020  R263  00-03-00         AVENUE H       BQ      BMT  08/27/2019   \n",
       "2508372  G011  R312  00-00-00  W 8 ST-AQUARIUM       FQ      BMT  07/03/2019   \n",
       "1465941  D006  R398  01-05-00   NEW UTRECHT AV       ND      BMT  08/07/2019   \n",
       "\n",
       "             TIME     DESC  ENTRIES    EXITS            datetime    n_in  \\\n",
       "1021247  16:00:00  REGULAR  5959160  7671664 2020-08-03 00:00:00   267.0   \n",
       "2377768  01:00:00  REGULAR        0      395 2020-06-28 09:00:00     0.0   \n",
       "836154   00:00:00  REGULAR    10318     9567 2020-08-01 12:00:00  1002.0   \n",
       "2508372  08:00:00  REGULAR  4351392  9301818 2020-06-21 12:00:00     5.0   \n",
       "1465941  13:00:00  REGULAR      897        0 2020-08-26 21:00:00     0.0   \n",
       "\n",
       "         n_out  turn_traffic  total_st_traffic  \n",
       "1021247  293.0         560.0          431210.0  \n",
       "2377768    0.0           0.0          306775.0  \n",
       "836154   916.0        1918.0          694850.0  \n",
       "2508372   55.0          60.0          472495.0  \n",
       "1465941    0.0           0.0          574933.0  "
      ]
     },
     "execution_count": 97,
     "metadata": {},
     "output_type": "execute_result"
    }
   ],
   "source": [
    "mta19.sample(5)"
   ]
  },
  {
   "cell_type": "markdown",
   "metadata": {},
   "source": [
    "### Analysis"
   ]
  },
  {
   "cell_type": "code",
   "execution_count": 98,
   "metadata": {},
   "outputs": [
    {
     "data": {
      "text/html": [
       "<div>\n",
       "<style scoped>\n",
       "    .dataframe tbody tr th:only-of-type {\n",
       "        vertical-align: middle;\n",
       "    }\n",
       "\n",
       "    .dataframe tbody tr th {\n",
       "        vertical-align: top;\n",
       "    }\n",
       "\n",
       "    .dataframe thead th {\n",
       "        text-align: right;\n",
       "    }\n",
       "</style>\n",
       "<table border=\"1\" class=\"dataframe\">\n",
       "  <thead>\n",
       "    <tr style=\"text-align: right;\">\n",
       "      <th></th>\n",
       "      <th>STATION</th>\n",
       "      <th>total_st_traffic</th>\n",
       "    </tr>\n",
       "  </thead>\n",
       "  <tbody>\n",
       "    <tr>\n",
       "      <th>2615633</th>\n",
       "      <td>34 ST-PENN STA</td>\n",
       "      <td>21062609.0</td>\n",
       "    </tr>\n",
       "    <tr>\n",
       "      <th>2640593</th>\n",
       "      <td>GRD CNTRL-42 ST</td>\n",
       "      <td>16824278.0</td>\n",
       "    </tr>\n",
       "    <tr>\n",
       "      <th>2577412</th>\n",
       "      <td>34 ST-HERALD SQ</td>\n",
       "      <td>13644047.0</td>\n",
       "    </tr>\n",
       "    <tr>\n",
       "      <th>2577916</th>\n",
       "      <td>23 ST</td>\n",
       "      <td>13632836.0</td>\n",
       "    </tr>\n",
       "    <tr>\n",
       "      <th>2618653</th>\n",
       "      <td>TIMES SQ-42 ST</td>\n",
       "      <td>12819753.0</td>\n",
       "    </tr>\n",
       "    <tr>\n",
       "      <th>2538690</th>\n",
       "      <td>FULTON ST</td>\n",
       "      <td>12715131.0</td>\n",
       "    </tr>\n",
       "    <tr>\n",
       "      <th>2634700</th>\n",
       "      <td>14 ST-UNION SQ</td>\n",
       "      <td>12245719.0</td>\n",
       "    </tr>\n",
       "    <tr>\n",
       "      <th>2529310</th>\n",
       "      <td>42 ST-PORT AUTH</td>\n",
       "      <td>11705299.0</td>\n",
       "    </tr>\n",
       "    <tr>\n",
       "      <th>2526254</th>\n",
       "      <td>86 ST</td>\n",
       "      <td>11128009.0</td>\n",
       "    </tr>\n",
       "    <tr>\n",
       "      <th>2524784</th>\n",
       "      <td>125 ST</td>\n",
       "      <td>10363036.0</td>\n",
       "    </tr>\n",
       "    <tr>\n",
       "      <th>2527808</th>\n",
       "      <td>59 ST COLUMBUS</td>\n",
       "      <td>9274105.0</td>\n",
       "    </tr>\n",
       "  </tbody>\n",
       "</table>\n",
       "</div>"
      ],
      "text/plain": [
       "                 STATION  total_st_traffic\n",
       "2615633   34 ST-PENN STA        21062609.0\n",
       "2640593  GRD CNTRL-42 ST        16824278.0\n",
       "2577412  34 ST-HERALD SQ        13644047.0\n",
       "2577916            23 ST        13632836.0\n",
       "2618653   TIMES SQ-42 ST        12819753.0\n",
       "2538690        FULTON ST        12715131.0\n",
       "2634700   14 ST-UNION SQ        12245719.0\n",
       "2529310  42 ST-PORT AUTH        11705299.0\n",
       "2526254            86 ST        11128009.0\n",
       "2524784           125 ST        10363036.0\n",
       "2527808   59 ST COLUMBUS         9274105.0"
      ]
     },
     "execution_count": 98,
     "metadata": {},
     "output_type": "execute_result"
    }
   ],
   "source": [
    "stations_totals19 = mta19[['STATION', 'total_st_traffic']]\n",
    "\n",
    "stations_totals19 = stations_totals19.drop_duplicates()\n",
    "\n",
    "stations_totals19.sort_values(by='total_st_traffic', ascending=False, inplace=True)\n",
    "\n",
    "top_ten_stations_totals19 = pd.DataFrame(stations_totals19[:11])\n",
    "top_ten_stations_totals19"
   ]
  },
  {
   "cell_type": "code",
   "execution_count": 99,
   "metadata": {},
   "outputs": [
    {
     "data": {
      "text/html": [
       "<div>\n",
       "<style scoped>\n",
       "    .dataframe tbody tr th:only-of-type {\n",
       "        vertical-align: middle;\n",
       "    }\n",
       "\n",
       "    .dataframe tbody tr th {\n",
       "        vertical-align: top;\n",
       "    }\n",
       "\n",
       "    .dataframe thead th {\n",
       "        text-align: right;\n",
       "    }\n",
       "</style>\n",
       "<table border=\"1\" class=\"dataframe\">\n",
       "  <thead>\n",
       "    <tr style=\"text-align: right;\">\n",
       "      <th></th>\n",
       "      <th>STATION</th>\n",
       "      <th>total_st_traffic</th>\n",
       "    </tr>\n",
       "  </thead>\n",
       "  <tbody>\n",
       "    <tr>\n",
       "      <th>61</th>\n",
       "      <td>34 ST-PENN STA</td>\n",
       "      <td>4731445.0</td>\n",
       "    </tr>\n",
       "    <tr>\n",
       "      <th>59</th>\n",
       "      <td>34 ST-HERALD SQ</td>\n",
       "      <td>3770944.0</td>\n",
       "    </tr>\n",
       "    <tr>\n",
       "      <th>9</th>\n",
       "      <td>125 ST</td>\n",
       "      <td>3723671.0</td>\n",
       "    </tr>\n",
       "    <tr>\n",
       "      <th>110</th>\n",
       "      <td>86 ST</td>\n",
       "      <td>3378209.0</td>\n",
       "    </tr>\n",
       "    <tr>\n",
       "      <th>14</th>\n",
       "      <td>14 ST-UNION SQ</td>\n",
       "      <td>3233501.0</td>\n",
       "    </tr>\n",
       "    <tr>\n",
       "      <th>233</th>\n",
       "      <td>GRD CNTRL-42 ST</td>\n",
       "      <td>3065539.0</td>\n",
       "    </tr>\n",
       "    <tr>\n",
       "      <th>68</th>\n",
       "      <td>42 ST-PORT AUTH</td>\n",
       "      <td>3017721.0</td>\n",
       "    </tr>\n",
       "    <tr>\n",
       "      <th>46</th>\n",
       "      <td>23 ST</td>\n",
       "      <td>2810212.0</td>\n",
       "    </tr>\n",
       "    <tr>\n",
       "      <th>217</th>\n",
       "      <td>FLUSHING-MAIN</td>\n",
       "      <td>2728575.0</td>\n",
       "    </tr>\n",
       "    <tr>\n",
       "      <th>226</th>\n",
       "      <td>FULTON ST</td>\n",
       "      <td>2635630.0</td>\n",
       "    </tr>\n",
       "    <tr>\n",
       "      <th>85</th>\n",
       "      <td>59 ST</td>\n",
       "      <td>2523999.0</td>\n",
       "    </tr>\n",
       "  </tbody>\n",
       "</table>\n",
       "</div>"
      ],
      "text/plain": [
       "             STATION  total_st_traffic\n",
       "61    34 ST-PENN STA         4731445.0\n",
       "59   34 ST-HERALD SQ         3770944.0\n",
       "9             125 ST         3723671.0\n",
       "110            86 ST         3378209.0\n",
       "14    14 ST-UNION SQ         3233501.0\n",
       "233  GRD CNTRL-42 ST         3065539.0\n",
       "68   42 ST-PORT AUTH         3017721.0\n",
       "46             23 ST         2810212.0\n",
       "217    FLUSHING-MAIN         2728575.0\n",
       "226        FULTON ST         2635630.0\n",
       "85             59 ST         2523999.0"
      ]
     },
     "execution_count": 99,
     "metadata": {},
     "output_type": "execute_result"
    }
   ],
   "source": [
    "### Compare to 2020 data\n",
    "\n",
    "top_ten_stations_totals20 = pd.DataFrame(stations_totals[:11])\n",
    "top_ten_stations_totals20"
   ]
  },
  {
   "cell_type": "code",
   "execution_count": 100,
   "metadata": {},
   "outputs": [],
   "source": [
    "# Adding a column to denote year in each DataFrame, for visualizing purposes\n",
    "\n",
    "top_ten_stations_totals19['year'] = 2019\n",
    "top_ten_stations_totals20['year'] = 2020\n",
    "top_ten_stations_totals19 = top_ten_stations_totals19.reset_index()\n",
    "top_ten_stations_totals20 = top_ten_stations_totals20.reset_index()"
   ]
  },
  {
   "cell_type": "code",
   "execution_count": 101,
   "metadata": {},
   "outputs": [
    {
     "data": {
      "text/html": [
       "<div>\n",
       "<style scoped>\n",
       "    .dataframe tbody tr th:only-of-type {\n",
       "        vertical-align: middle;\n",
       "    }\n",
       "\n",
       "    .dataframe tbody tr th {\n",
       "        vertical-align: top;\n",
       "    }\n",
       "\n",
       "    .dataframe thead th {\n",
       "        text-align: right;\n",
       "    }\n",
       "</style>\n",
       "<table border=\"1\" class=\"dataframe\">\n",
       "  <thead>\n",
       "    <tr style=\"text-align: right;\">\n",
       "      <th></th>\n",
       "      <th>index</th>\n",
       "      <th>STATION</th>\n",
       "      <th>total_st_traffic</th>\n",
       "      <th>year</th>\n",
       "    </tr>\n",
       "  </thead>\n",
       "  <tbody>\n",
       "    <tr>\n",
       "      <th>0</th>\n",
       "      <td>2615633</td>\n",
       "      <td>34 ST-PENN STA</td>\n",
       "      <td>21062609.0</td>\n",
       "      <td>2019</td>\n",
       "    </tr>\n",
       "    <tr>\n",
       "      <th>1</th>\n",
       "      <td>2640593</td>\n",
       "      <td>GRD CNTRL-42 ST</td>\n",
       "      <td>16824278.0</td>\n",
       "      <td>2019</td>\n",
       "    </tr>\n",
       "    <tr>\n",
       "      <th>2</th>\n",
       "      <td>2577412</td>\n",
       "      <td>34 ST-HERALD SQ</td>\n",
       "      <td>13644047.0</td>\n",
       "      <td>2019</td>\n",
       "    </tr>\n",
       "    <tr>\n",
       "      <th>3</th>\n",
       "      <td>2577916</td>\n",
       "      <td>23 ST</td>\n",
       "      <td>13632836.0</td>\n",
       "      <td>2019</td>\n",
       "    </tr>\n",
       "    <tr>\n",
       "      <th>4</th>\n",
       "      <td>2618653</td>\n",
       "      <td>TIMES SQ-42 ST</td>\n",
       "      <td>12819753.0</td>\n",
       "      <td>2019</td>\n",
       "    </tr>\n",
       "    <tr>\n",
       "      <th>5</th>\n",
       "      <td>2538690</td>\n",
       "      <td>FULTON ST</td>\n",
       "      <td>12715131.0</td>\n",
       "      <td>2019</td>\n",
       "    </tr>\n",
       "    <tr>\n",
       "      <th>6</th>\n",
       "      <td>2634700</td>\n",
       "      <td>14 ST-UNION SQ</td>\n",
       "      <td>12245719.0</td>\n",
       "      <td>2019</td>\n",
       "    </tr>\n",
       "    <tr>\n",
       "      <th>7</th>\n",
       "      <td>2529310</td>\n",
       "      <td>42 ST-PORT AUTH</td>\n",
       "      <td>11705299.0</td>\n",
       "      <td>2019</td>\n",
       "    </tr>\n",
       "    <tr>\n",
       "      <th>8</th>\n",
       "      <td>2526254</td>\n",
       "      <td>86 ST</td>\n",
       "      <td>11128009.0</td>\n",
       "      <td>2019</td>\n",
       "    </tr>\n",
       "    <tr>\n",
       "      <th>9</th>\n",
       "      <td>2524784</td>\n",
       "      <td>125 ST</td>\n",
       "      <td>10363036.0</td>\n",
       "      <td>2019</td>\n",
       "    </tr>\n",
       "    <tr>\n",
       "      <th>10</th>\n",
       "      <td>2527808</td>\n",
       "      <td>59 ST COLUMBUS</td>\n",
       "      <td>9274105.0</td>\n",
       "      <td>2019</td>\n",
       "    </tr>\n",
       "  </tbody>\n",
       "</table>\n",
       "</div>"
      ],
      "text/plain": [
       "      index          STATION  total_st_traffic  year\n",
       "0   2615633   34 ST-PENN STA        21062609.0  2019\n",
       "1   2640593  GRD CNTRL-42 ST        16824278.0  2019\n",
       "2   2577412  34 ST-HERALD SQ        13644047.0  2019\n",
       "3   2577916            23 ST        13632836.0  2019\n",
       "4   2618653   TIMES SQ-42 ST        12819753.0  2019\n",
       "5   2538690        FULTON ST        12715131.0  2019\n",
       "6   2634700   14 ST-UNION SQ        12245719.0  2019\n",
       "7   2529310  42 ST-PORT AUTH        11705299.0  2019\n",
       "8   2526254            86 ST        11128009.0  2019\n",
       "9   2524784           125 ST        10363036.0  2019\n",
       "10  2527808   59 ST COLUMBUS         9274105.0  2019"
      ]
     },
     "execution_count": 101,
     "metadata": {},
     "output_type": "execute_result"
    }
   ],
   "source": [
    "top_ten_stations_totals19"
   ]
  },
  {
   "cell_type": "code",
   "execution_count": 102,
   "metadata": {},
   "outputs": [
    {
     "data": {
      "text/html": [
       "<div>\n",
       "<style scoped>\n",
       "    .dataframe tbody tr th:only-of-type {\n",
       "        vertical-align: middle;\n",
       "    }\n",
       "\n",
       "    .dataframe tbody tr th {\n",
       "        vertical-align: top;\n",
       "    }\n",
       "\n",
       "    .dataframe thead th {\n",
       "        text-align: right;\n",
       "    }\n",
       "</style>\n",
       "<table border=\"1\" class=\"dataframe\">\n",
       "  <thead>\n",
       "    <tr style=\"text-align: right;\">\n",
       "      <th></th>\n",
       "      <th>index</th>\n",
       "      <th>STATION</th>\n",
       "      <th>total_st_traffic</th>\n",
       "      <th>year</th>\n",
       "    </tr>\n",
       "  </thead>\n",
       "  <tbody>\n",
       "    <tr>\n",
       "      <th>0</th>\n",
       "      <td>61</td>\n",
       "      <td>34 ST-PENN STA</td>\n",
       "      <td>4731445.0</td>\n",
       "      <td>2020</td>\n",
       "    </tr>\n",
       "    <tr>\n",
       "      <th>1</th>\n",
       "      <td>59</td>\n",
       "      <td>34 ST-HERALD SQ</td>\n",
       "      <td>3770944.0</td>\n",
       "      <td>2020</td>\n",
       "    </tr>\n",
       "    <tr>\n",
       "      <th>2</th>\n",
       "      <td>9</td>\n",
       "      <td>125 ST</td>\n",
       "      <td>3723671.0</td>\n",
       "      <td>2020</td>\n",
       "    </tr>\n",
       "    <tr>\n",
       "      <th>3</th>\n",
       "      <td>110</td>\n",
       "      <td>86 ST</td>\n",
       "      <td>3378209.0</td>\n",
       "      <td>2020</td>\n",
       "    </tr>\n",
       "    <tr>\n",
       "      <th>4</th>\n",
       "      <td>14</td>\n",
       "      <td>14 ST-UNION SQ</td>\n",
       "      <td>3233501.0</td>\n",
       "      <td>2020</td>\n",
       "    </tr>\n",
       "    <tr>\n",
       "      <th>5</th>\n",
       "      <td>233</td>\n",
       "      <td>GRD CNTRL-42 ST</td>\n",
       "      <td>3065539.0</td>\n",
       "      <td>2020</td>\n",
       "    </tr>\n",
       "    <tr>\n",
       "      <th>6</th>\n",
       "      <td>68</td>\n",
       "      <td>42 ST-PORT AUTH</td>\n",
       "      <td>3017721.0</td>\n",
       "      <td>2020</td>\n",
       "    </tr>\n",
       "    <tr>\n",
       "      <th>7</th>\n",
       "      <td>46</td>\n",
       "      <td>23 ST</td>\n",
       "      <td>2810212.0</td>\n",
       "      <td>2020</td>\n",
       "    </tr>\n",
       "    <tr>\n",
       "      <th>8</th>\n",
       "      <td>217</td>\n",
       "      <td>FLUSHING-MAIN</td>\n",
       "      <td>2728575.0</td>\n",
       "      <td>2020</td>\n",
       "    </tr>\n",
       "    <tr>\n",
       "      <th>9</th>\n",
       "      <td>226</td>\n",
       "      <td>FULTON ST</td>\n",
       "      <td>2635630.0</td>\n",
       "      <td>2020</td>\n",
       "    </tr>\n",
       "    <tr>\n",
       "      <th>10</th>\n",
       "      <td>85</td>\n",
       "      <td>59 ST</td>\n",
       "      <td>2523999.0</td>\n",
       "      <td>2020</td>\n",
       "    </tr>\n",
       "  </tbody>\n",
       "</table>\n",
       "</div>"
      ],
      "text/plain": [
       "    index          STATION  total_st_traffic  year\n",
       "0      61   34 ST-PENN STA         4731445.0  2020\n",
       "1      59  34 ST-HERALD SQ         3770944.0  2020\n",
       "2       9           125 ST         3723671.0  2020\n",
       "3     110            86 ST         3378209.0  2020\n",
       "4      14   14 ST-UNION SQ         3233501.0  2020\n",
       "5     233  GRD CNTRL-42 ST         3065539.0  2020\n",
       "6      68  42 ST-PORT AUTH         3017721.0  2020\n",
       "7      46            23 ST         2810212.0  2020\n",
       "8     217    FLUSHING-MAIN         2728575.0  2020\n",
       "9     226        FULTON ST         2635630.0  2020\n",
       "10     85            59 ST         2523999.0  2020"
      ]
     },
     "execution_count": 102,
     "metadata": {},
     "output_type": "execute_result"
    }
   ],
   "source": [
    "top_ten_stations_totals20"
   ]
  },
  {
   "cell_type": "code",
   "execution_count": 103,
   "metadata": {},
   "outputs": [
    {
     "name": "stderr",
     "output_type": "stream",
     "text": [
      "<ipython-input-103-89af001af817>:14: SettingWithCopyWarning: \n",
      "A value is trying to be set on a copy of a slice from a DataFrame.\n",
      "Try using .loc[row_indexer,col_indexer] = value instead\n",
      "\n",
      "See the caveats in the documentation: https://pandas.pydata.org/pandas-docs/stable/user_guide/indexing.html#returning-a-view-versus-a-copy\n",
      "  times_square['year'] = 2020\n"
     ]
    },
    {
     "data": {
      "text/html": [
       "<div>\n",
       "<style scoped>\n",
       "    .dataframe tbody tr th:only-of-type {\n",
       "        vertical-align: middle;\n",
       "    }\n",
       "\n",
       "    .dataframe tbody tr th {\n",
       "        vertical-align: top;\n",
       "    }\n",
       "\n",
       "    .dataframe thead th {\n",
       "        text-align: right;\n",
       "    }\n",
       "</style>\n",
       "<table border=\"1\" class=\"dataframe\">\n",
       "  <thead>\n",
       "    <tr style=\"text-align: right;\">\n",
       "      <th></th>\n",
       "      <th>index</th>\n",
       "      <th>STATION</th>\n",
       "      <th>total_st_traffic</th>\n",
       "      <th>year</th>\n",
       "    </tr>\n",
       "  </thead>\n",
       "  <tbody>\n",
       "    <tr>\n",
       "      <th>0</th>\n",
       "      <td>2615633.0</td>\n",
       "      <td>34 ST-PENN STA</td>\n",
       "      <td>21062609.0</td>\n",
       "      <td>2019</td>\n",
       "    </tr>\n",
       "    <tr>\n",
       "      <th>1</th>\n",
       "      <td>2640593.0</td>\n",
       "      <td>GRD CNTRL-42 ST</td>\n",
       "      <td>16824278.0</td>\n",
       "      <td>2019</td>\n",
       "    </tr>\n",
       "    <tr>\n",
       "      <th>2</th>\n",
       "      <td>2577412.0</td>\n",
       "      <td>34 ST-HERALD SQ</td>\n",
       "      <td>13644047.0</td>\n",
       "      <td>2019</td>\n",
       "    </tr>\n",
       "    <tr>\n",
       "      <th>3</th>\n",
       "      <td>2577916.0</td>\n",
       "      <td>23 ST</td>\n",
       "      <td>13632836.0</td>\n",
       "      <td>2019</td>\n",
       "    </tr>\n",
       "    <tr>\n",
       "      <th>4</th>\n",
       "      <td>2618653.0</td>\n",
       "      <td>TIMES SQ-42 ST</td>\n",
       "      <td>12819753.0</td>\n",
       "      <td>2019</td>\n",
       "    </tr>\n",
       "    <tr>\n",
       "      <th>5</th>\n",
       "      <td>2538690.0</td>\n",
       "      <td>FULTON ST</td>\n",
       "      <td>12715131.0</td>\n",
       "      <td>2019</td>\n",
       "    </tr>\n",
       "    <tr>\n",
       "      <th>6</th>\n",
       "      <td>2634700.0</td>\n",
       "      <td>14 ST-UNION SQ</td>\n",
       "      <td>12245719.0</td>\n",
       "      <td>2019</td>\n",
       "    </tr>\n",
       "    <tr>\n",
       "      <th>7</th>\n",
       "      <td>2529310.0</td>\n",
       "      <td>42 ST-PORT AUTH</td>\n",
       "      <td>11705299.0</td>\n",
       "      <td>2019</td>\n",
       "    </tr>\n",
       "    <tr>\n",
       "      <th>8</th>\n",
       "      <td>2526254.0</td>\n",
       "      <td>86 ST</td>\n",
       "      <td>11128009.0</td>\n",
       "      <td>2019</td>\n",
       "    </tr>\n",
       "    <tr>\n",
       "      <th>9</th>\n",
       "      <td>2524784.0</td>\n",
       "      <td>125 ST</td>\n",
       "      <td>10363036.0</td>\n",
       "      <td>2019</td>\n",
       "    </tr>\n",
       "    <tr>\n",
       "      <th>10</th>\n",
       "      <td>61.0</td>\n",
       "      <td>34 ST-PENN STA</td>\n",
       "      <td>4731445.0</td>\n",
       "      <td>2020</td>\n",
       "    </tr>\n",
       "    <tr>\n",
       "      <th>11</th>\n",
       "      <td>59.0</td>\n",
       "      <td>34 ST-HERALD SQ</td>\n",
       "      <td>3770944.0</td>\n",
       "      <td>2020</td>\n",
       "    </tr>\n",
       "    <tr>\n",
       "      <th>12</th>\n",
       "      <td>9.0</td>\n",
       "      <td>125 ST</td>\n",
       "      <td>3723671.0</td>\n",
       "      <td>2020</td>\n",
       "    </tr>\n",
       "    <tr>\n",
       "      <th>13</th>\n",
       "      <td>110.0</td>\n",
       "      <td>86 ST</td>\n",
       "      <td>3378209.0</td>\n",
       "      <td>2020</td>\n",
       "    </tr>\n",
       "    <tr>\n",
       "      <th>14</th>\n",
       "      <td>14.0</td>\n",
       "      <td>14 ST-UNION SQ</td>\n",
       "      <td>3233501.0</td>\n",
       "      <td>2020</td>\n",
       "    </tr>\n",
       "    <tr>\n",
       "      <th>15</th>\n",
       "      <td>233.0</td>\n",
       "      <td>GRD CNTRL-42 ST</td>\n",
       "      <td>3065539.0</td>\n",
       "      <td>2020</td>\n",
       "    </tr>\n",
       "    <tr>\n",
       "      <th>16</th>\n",
       "      <td>68.0</td>\n",
       "      <td>42 ST-PORT AUTH</td>\n",
       "      <td>3017721.0</td>\n",
       "      <td>2020</td>\n",
       "    </tr>\n",
       "    <tr>\n",
       "      <th>17</th>\n",
       "      <td>46.0</td>\n",
       "      <td>23 ST</td>\n",
       "      <td>2810212.0</td>\n",
       "      <td>2020</td>\n",
       "    </tr>\n",
       "    <tr>\n",
       "      <th>18</th>\n",
       "      <td>226.0</td>\n",
       "      <td>FULTON ST</td>\n",
       "      <td>2635630.0</td>\n",
       "      <td>2020</td>\n",
       "    </tr>\n",
       "    <tr>\n",
       "      <th>19</th>\n",
       "      <td>NaN</td>\n",
       "      <td>TIMES SQ-42 ST</td>\n",
       "      <td>2449702.0</td>\n",
       "      <td>2020</td>\n",
       "    </tr>\n",
       "  </tbody>\n",
       "</table>\n",
       "</div>"
      ],
      "text/plain": [
       "        index          STATION  total_st_traffic  year\n",
       "0   2615633.0   34 ST-PENN STA        21062609.0  2019\n",
       "1   2640593.0  GRD CNTRL-42 ST        16824278.0  2019\n",
       "2   2577412.0  34 ST-HERALD SQ        13644047.0  2019\n",
       "3   2577916.0            23 ST        13632836.0  2019\n",
       "4   2618653.0   TIMES SQ-42 ST        12819753.0  2019\n",
       "5   2538690.0        FULTON ST        12715131.0  2019\n",
       "6   2634700.0   14 ST-UNION SQ        12245719.0  2019\n",
       "7   2529310.0  42 ST-PORT AUTH        11705299.0  2019\n",
       "8   2526254.0            86 ST        11128009.0  2019\n",
       "9   2524784.0           125 ST        10363036.0  2019\n",
       "10       61.0   34 ST-PENN STA         4731445.0  2020\n",
       "11       59.0  34 ST-HERALD SQ         3770944.0  2020\n",
       "12        9.0           125 ST         3723671.0  2020\n",
       "13      110.0            86 ST         3378209.0  2020\n",
       "14       14.0   14 ST-UNION SQ         3233501.0  2020\n",
       "15      233.0  GRD CNTRL-42 ST         3065539.0  2020\n",
       "16       68.0  42 ST-PORT AUTH         3017721.0  2020\n",
       "17       46.0            23 ST         2810212.0  2020\n",
       "18      226.0        FULTON ST         2635630.0  2020\n",
       "19        NaN   TIMES SQ-42 ST         2449702.0  2020"
      ]
     },
     "execution_count": 103,
     "metadata": {},
     "output_type": "execute_result"
    }
   ],
   "source": [
    "# Combining the two dataframes to visualize them easily\n",
    "# Dropping stations that do not appear in both years \n",
    "\n",
    "top_ten_stations_both = pd.concat([top_ten_stations_totals19, top_ten_stations_totals20], ignore_index = True)\n",
    "to_drop = top_ten_stations_both[top_ten_stations_both['STATION'] == 'FLUSHING-MAIN'].index\n",
    "to_drop2 = top_ten_stations_both[top_ten_stations_both['STATION'] == '59 ST'].index\n",
    "to_drop3 = top_ten_stations_both[top_ten_stations_both['STATION'] == '59 ST COLUMBUS'].index\n",
    "top_ten_stations_both.drop(to_drop, inplace = True)\n",
    "top_ten_stations_both.drop(to_drop2, inplace = True)\n",
    "top_ten_stations_both.drop(to_drop3, inplace = True)\n",
    "\n",
    "# Adding times squre to 2020\n",
    "times_square = stations_totals[stations_totals['STATION'] == 'TIMES SQ-42 ST']\n",
    "times_square['year'] = 2020\n",
    "top_ten_stations_both = pd.concat([top_ten_stations_both, times_square], ignore_index = True)\n",
    "top_ten_stations_both.dropna(subset = ['year'], inplace = True)\n",
    "top_ten_stations_both.year.astype('int64')\n",
    "\n",
    "top_ten_stations_both"
   ]
  },
  {
   "cell_type": "markdown",
   "metadata": {},
   "source": [
    "### Ploting the two"
   ]
  },
  {
   "cell_type": "code",
   "execution_count": 104,
   "metadata": {},
   "outputs": [
    {
     "data": {
      "text/plain": [
       "<Figure size 1440x720 with 0 Axes>"
      ]
     },
     "metadata": {},
     "output_type": "display_data"
    },
    {
     "data": {
      "image/png": "[encoded data removed]",
      "text/plain": [
       "<Figure size 965.4x432 with 1 Axes>"
      ]
     },
     "metadata": {
      "needs_background": "light"
     },
     "output_type": "display_data"
    }
   ],
   "source": [
    "plt.figure(figsize=[20,10])\n",
    "compare_years = sns.catplot(\n",
    "    data = top_ten_stations_both, kind = \"bar\",\n",
    "    y = \"STATION\", x =\"total_st_traffic\", hue = \"year\", \n",
    "    palette = sns.color_palette(), alpha=.6, height=6,\n",
    "    aspect = 2, \n",
    ")\n",
    "\n",
    "compare_years.set(xlabel = \"Traffic (10 Million)\")\n",
    "compare_years.set(title = \"Top 10 Stations 2019/2020\")\n",
    "plt.show();"
   ]
  },
  {
   "cell_type": "markdown",
   "metadata": {},
   "source": [
    "---"
   ]
  },
  {
   "cell_type": "markdown",
   "metadata": {},
   "source": [
    "## Formulating the Recommendation Around Top Stations"
   ]
  },
  {
   "cell_type": "code",
   "execution_count": 105,
   "metadata": {},
   "outputs": [],
   "source": [
    "#Assume focus on top ten total traffic\n",
    "n=10\n",
    "\n",
    "#increase to top 10\n",
    "s = [each for _, each in stations_totals[:n]['STATION'].items()]"
   ]
  },
  {
   "cell_type": "code",
   "execution_count": 106,
   "metadata": {},
   "outputs": [],
   "source": [
    "#Change df name to top_ranking\n",
    "top_ranked_df = pd.DataFrame(mta[mta.STATION.isin(s)])"
   ]
  },
  {
   "cell_type": "code",
   "execution_count": 107,
   "metadata": {},
   "outputs": [
    {
     "data": {
      "text/plain": [
       "34 ST-PENN STA     53056\n",
       "FULTON ST          52126\n",
       "GRD CNTRL-42 ST    39685\n",
       "23 ST              39024\n",
       "86 ST              34359\n",
       "34 ST-HERALD SQ    28207\n",
       "42 ST-PORT AUTH    25803\n",
       "125 ST             22704\n",
       "14 ST-UNION SQ     22436\n",
       "FLUSHING-MAIN      14113\n",
       "Name: STATION, dtype: int64"
      ]
     },
     "execution_count": 107,
     "metadata": {},
     "output_type": "execute_result"
    }
   ],
   "source": [
    "top_ranked_df.STATION.value_counts()"
   ]
  },
  {
   "cell_type": "code",
   "execution_count": 108,
   "metadata": {},
   "outputs": [],
   "source": [
    "# Determine Daily Cumulative traffic by day of week from Top n Stations of all time\n",
    "\n",
    "daily_df = mta[mta.STATION.isin(s[:n])].groupby(['STATION','day_of_week'], as_index=False).turn_traffic.sum()\n",
    "daily_df.rename(columns={'turn_traffic':'daily_traffic'}, inplace=True)"
   ]
  },
  {
   "cell_type": "code",
   "execution_count": 109,
   "metadata": {},
   "outputs": [
    {
     "data": {
      "text/plain": [
       "Text(0.5, 1.0, 'Cumulative Daily Traffic')"
      ]
     },
     "execution_count": 109,
     "metadata": {},
     "output_type": "execute_result"
    },
    {
     "data": {
      "image/png": "[encoded data removed]",
      "text/plain": [
       "<Figure size 432x288 with 1 Axes>"
      ]
     },
     "metadata": {
      "needs_background": "light"
     },
     "output_type": "display_data"
    }
   ],
   "source": [
    "sns.barplot(x='day_of_week', y='daily_traffic', data=daily_df, color='b')\n",
    "\n",
    "plt.xlabel('Day of Week')\n",
    "plt.ylabel('Number of People')\n",
    "plt.title('Cumulative Daily Traffic')"
   ]
  },
  {
   "cell_type": "markdown",
   "metadata": {},
   "source": [
    "### Ranking Stations filtered for Weekdays"
   ]
  },
  {
   "cell_type": "code",
   "execution_count": 110,
   "metadata": {},
   "outputs": [],
   "source": [
    "wkday_df = pd.DataFrame(mta[mta.day_of_week < 5])"
   ]
  },
  {
   "cell_type": "code",
   "execution_count": 111,
   "metadata": {},
   "outputs": [
    {
     "data": {
      "text/html": [
       "<div>\n",
       "<style scoped>\n",
       "    .dataframe tbody tr th:only-of-type {\n",
       "        vertical-align: middle;\n",
       "    }\n",
       "\n",
       "    .dataframe tbody tr th {\n",
       "        vertical-align: top;\n",
       "    }\n",
       "\n",
       "    .dataframe thead th {\n",
       "        text-align: right;\n",
       "    }\n",
       "</style>\n",
       "<table border=\"1\" class=\"dataframe\">\n",
       "  <thead>\n",
       "    <tr style=\"text-align: right;\">\n",
       "      <th></th>\n",
       "      <th>STATION</th>\n",
       "      <th>turn_traffic</th>\n",
       "    </tr>\n",
       "  </thead>\n",
       "  <tbody>\n",
       "    <tr>\n",
       "      <th>61</th>\n",
       "      <td>34 ST-PENN STA</td>\n",
       "      <td>3870985.0</td>\n",
       "    </tr>\n",
       "    <tr>\n",
       "      <th>59</th>\n",
       "      <td>34 ST-HERALD SQ</td>\n",
       "      <td>3086514.0</td>\n",
       "    </tr>\n",
       "    <tr>\n",
       "      <th>9</th>\n",
       "      <td>125 ST</td>\n",
       "      <td>2936132.0</td>\n",
       "    </tr>\n",
       "    <tr>\n",
       "      <th>110</th>\n",
       "      <td>86 ST</td>\n",
       "      <td>2780528.0</td>\n",
       "    </tr>\n",
       "    <tr>\n",
       "      <th>233</th>\n",
       "      <td>GRD CNTRL-42 ST</td>\n",
       "      <td>2614805.0</td>\n",
       "    </tr>\n",
       "    <tr>\n",
       "      <th>14</th>\n",
       "      <td>14 ST-UNION SQ</td>\n",
       "      <td>2582463.0</td>\n",
       "    </tr>\n",
       "    <tr>\n",
       "      <th>68</th>\n",
       "      <td>42 ST-PORT AUTH</td>\n",
       "      <td>2452743.0</td>\n",
       "    </tr>\n",
       "  </tbody>\n",
       "</table>\n",
       "</div>"
      ],
      "text/plain": [
       "             STATION  turn_traffic\n",
       "61    34 ST-PENN STA     3870985.0\n",
       "59   34 ST-HERALD SQ     3086514.0\n",
       "9             125 ST     2936132.0\n",
       "110            86 ST     2780528.0\n",
       "233  GRD CNTRL-42 ST     2614805.0\n",
       "14    14 ST-UNION SQ     2582463.0\n",
       "68   42 ST-PORT AUTH     2452743.0"
      ]
     },
     "execution_count": 111,
     "metadata": {},
     "output_type": "execute_result"
    }
   ],
   "source": [
    "wkday_rank = wkday_df.groupby(['STATION'], as_index=False).turn_traffic.sum()\n",
    "wkday_rank.sort_values('turn_traffic', ascending=False, inplace=True)\n",
    "wkday_rank.head(7)"
   ]
  },
  {
   "cell_type": "code",
   "execution_count": 112,
   "metadata": {},
   "outputs": [
    {
     "data": {
      "image/png": "[encoded data removed]",
      "text/plain": [
       "<Figure size 1440x720 with 1 Axes>"
      ]
     },
     "metadata": {
      "needs_background": "light"
     },
     "output_type": "display_data"
    }
   ],
   "source": [
    "plt.figure(figsize=(20,10))\n",
    "\n",
    "sns.barplot(x='turn_traffic', y='STATION', data=wkday_rank[:10], palette='coolwarm')\n",
    "plt.title('Total Station Traffic (Weekdays)')\n",
    "plt.ylabel('Station')\n",
    "plt.xlabel('Cumulative Number of People');"
   ]
  },
  {
   "cell_type": "markdown",
   "metadata": {},
   "source": [
    "### Top Stations Average Traffic by Day "
   ]
  },
  {
   "cell_type": "code",
   "execution_count": 113,
   "metadata": {},
   "outputs": [
    {
     "data": {
      "text/html": [
       "<div>\n",
       "<style scoped>\n",
       "    .dataframe tbody tr th:only-of-type {\n",
       "        vertical-align: middle;\n",
       "    }\n",
       "\n",
       "    .dataframe tbody tr th {\n",
       "        vertical-align: top;\n",
       "    }\n",
       "\n",
       "    .dataframe thead th {\n",
       "        text-align: right;\n",
       "    }\n",
       "</style>\n",
       "<table border=\"1\" class=\"dataframe\">\n",
       "  <thead>\n",
       "    <tr style=\"text-align: right;\">\n",
       "      <th></th>\n",
       "      <th>STATION</th>\n",
       "      <th>day_of_week</th>\n",
       "      <th>mean_d_traffic</th>\n",
       "    </tr>\n",
       "  </thead>\n",
       "  <tbody>\n",
       "    <tr>\n",
       "      <th>0</th>\n",
       "      <td>125 ST</td>\n",
       "      <td>5</td>\n",
       "      <td>33085.307692</td>\n",
       "    </tr>\n",
       "    <tr>\n",
       "      <th>1</th>\n",
       "      <td>125 ST</td>\n",
       "      <td>6</td>\n",
       "      <td>27494.615385</td>\n",
       "    </tr>\n",
       "    <tr>\n",
       "      <th>2</th>\n",
       "      <td>125 ST</td>\n",
       "      <td>0</td>\n",
       "      <td>42731.307692</td>\n",
       "    </tr>\n",
       "    <tr>\n",
       "      <th>3</th>\n",
       "      <td>125 ST</td>\n",
       "      <td>1</td>\n",
       "      <td>44498.461538</td>\n",
       "    </tr>\n",
       "    <tr>\n",
       "      <th>4</th>\n",
       "      <td>125 ST</td>\n",
       "      <td>2</td>\n",
       "      <td>44809.076923</td>\n",
       "    </tr>\n",
       "  </tbody>\n",
       "</table>\n",
       "</div>"
      ],
      "text/plain": [
       "  STATION  day_of_week  mean_d_traffic\n",
       "0  125 ST            5    33085.307692\n",
       "1  125 ST            6    27494.615385\n",
       "2  125 ST            0    42731.307692\n",
       "3  125 ST            1    44498.461538\n",
       "4  125 ST            2    44809.076923"
      ]
     },
     "execution_count": 113,
     "metadata": {},
     "output_type": "execute_result"
    }
   ],
   "source": [
    "df = mta[mta.STATION.isin(s)].groupby(['STATION', 'DATE', 'day_of_week'], as_index=False).turn_traffic.sum()\n",
    "df['mean_d_traffic'] = df.groupby(['STATION','day_of_week']).turn_traffic.transform('mean')\n",
    "df.drop(columns=['turn_traffic','DATE'], inplace=True)\n",
    "df.drop_duplicates(inplace=True)\n",
    "df.head()"
   ]
  },
  {
   "cell_type": "code",
   "execution_count": 114,
   "metadata": {},
   "outputs": [],
   "source": [
    "wkday_dict = {'0':'Mon',\n",
    "             '1':'Tues',\n",
    "             '2':'Weds',\n",
    "             '3':'Thurs',\n",
    "             '4':'Fri',\n",
    "             '5':'Sat',\n",
    "             '6':'Sun'}\n",
    "df.day_of_week = df.day_of_week.map(lambda x : str(x)).map(wkday_dict)"
   ]
  },
  {
   "cell_type": "markdown",
   "metadata": {},
   "source": [
    "A separate geographical analysis was performed & as part of final recommendation, only lower Manhattan stations are being considered. \n",
    "These stations have a high volume of traffic & are located close to each other, allowing for optimization of street teams."
   ]
  },
  {
   "cell_type": "code",
   "execution_count": 115,
   "metadata": {},
   "outputs": [],
   "source": [
    "#Filter for Lower Manhatan Stations Only\n",
    "manhattan_stations = s[0:2]+s[4:9]"
   ]
  },
  {
   "cell_type": "code",
   "execution_count": 116,
   "metadata": {},
   "outputs": [
    {
     "data": {
      "text/plain": [
       "Text(0.5, 1.0, 'Average Daily Traffic')"
      ]
     },
     "execution_count": 116,
     "metadata": {},
     "output_type": "execute_result"
    },
    {
     "data": {
      "image/png": "[encoded data removed]",
      "text/plain": [
       "<Figure size 1440x504 with 1 Axes>"
      ]
     },
     "metadata": {
      "needs_background": "light"
     },
     "output_type": "display_data"
    }
   ],
   "source": [
    "plt.figure(figsize=[20,7])\n",
    "LIMIT = 9\n",
    "sns.set_style('dark')\n",
    "sns.barplot(x='day_of_week', \n",
    "            y='mean_d_traffic',  \n",
    "            data=df[(df.STATION.isin(manhattan_stations))], \n",
    "            order=['Mon','Tues','Weds','Thurs','Fri','Sat','Sun'],\n",
    "            ci=None)\n",
    "plt.xlabel('Day of Week', fontsize=15)\n",
    "plt.ylabel('Traffic by Number of People', fontsize=15)\n",
    "plt.title('Average Daily Traffic', fontsize=20, fontstyle='oblique')\n",
    "#use manhattan stations variable in hue order b/c its the top 5 in order"
   ]
  },
  {
   "cell_type": "code",
   "execution_count": 117,
   "metadata": {},
   "outputs": [
    {
     "data": {
      "image/png": "[encoded data removed]",
      "text/plain": [
       "<Figure size 648x432 with 2 Axes>"
      ]
     },
     "metadata": {},
     "output_type": "display_data"
    }
   ],
   "source": [
    "col_order=['Mon','Tues','Weds','Thurs','Fri']\n",
    "pivot_df2 = df[df.STATION.isin(manhattan_stations)].pivot(index='STATION', columns='day_of_week', values='mean_d_traffic').reindex(col_order, axis=1).reindex(manhattan_stations, axis=0)\n",
    "\n",
    "f, ax = plt.subplots(figsize=(9, 6))\n",
    "sns.heatmap(pivot_df2, annot=False, linewidths=.5, ax=ax, cmap=\"coolwarm\", square=True)\n",
    "plt.title('Weekday Heatmap')\n",
    "plt.xlabel('Day of Week')\n",
    "plt.ylabel('Station');"
   ]
  },
  {
   "cell_type": "markdown",
   "metadata": {},
   "source": [
    "### Chunking timeslots into windows\n",
    "\n",
    "Break time into categories\n",
    "\n",
    "* **Morning Hours 5:01-13:00** <-- 8 hour workdays\n",
    "* **Evening Hours 13:01-21:00** <-- 8 hour workdays\n",
    "\n",
    "Remaining Hours were ignored"
   ]
  },
  {
   "cell_type": "code",
   "execution_count": 118,
   "metadata": {},
   "outputs": [
    {
     "data": {
      "text/plain": [
       "04:00:00    225080\n",
       "20:00:00    224688\n",
       "16:00:00    224594\n",
       "12:00:00    224456\n",
       "08:00:00    224393\n",
       "00:00:00    221690\n",
       "05:00:00    166921\n",
       "17:00:00    166534\n",
       "21:00:00    166411\n",
       "09:00:00    166363\n",
       "13:00:00    166349\n",
       "01:00:00    164688\n",
       "22:00:00     10009\n",
       "06:00:00      9963\n",
       "14:00:00      9951\n",
       "18:00:00      9945\n",
       "10:00:00      9927\n",
       "02:00:00      9841\n",
       "11:00:00      3548\n",
       "19:00:00      3547\n",
       "15:00:00      3546\n",
       "07:00:00      3544\n",
       "23:00:00      3542\n",
       "03:00:00      3503\n",
       "08:22:00      3191\n",
       "04:22:00      3156\n",
       "16:22:00      3151\n",
       "20:22:00      3120\n",
       "12:22:00      3117\n",
       "00:22:00      3103\n",
       "10:30:00      1821\n",
       "18:30:00      1820\n",
       "22:30:00      1811\n",
       "06:30:00      1802\n",
       "14:30:00      1800\n",
       "Name: TIME, dtype: int64"
      ]
     },
     "execution_count": 118,
     "metadata": {},
     "output_type": "execute_result"
    }
   ],
   "source": [
    "mta.TIME.value_counts().head(35)"
   ]
  },
  {
   "cell_type": "code",
   "execution_count": 119,
   "metadata": {},
   "outputs": [],
   "source": [
    "import datetime as dt\n",
    "\n",
    "def time_cat(x):\n",
    "    \"\"\"\n",
    "    Function to group time periods into morning or evening\n",
    "    Input: DateTime\n",
    "    \n",
    "    Output: Morning, Evening or none\n",
    "    \"\"\"\n",
    "    \n",
    "    curr = x.time()\n",
    "    \n",
    "    if dt.time(5,1) < curr < dt.time(13,1):\n",
    "        return 'Morning'\n",
    "    elif dt.time(13,1) < curr < dt.time(20,1):\n",
    "        return 'Evening'\n",
    "    else:\n",
    "        return None\n",
    "\n",
    "mta['timeblock'] = mta.datetime.apply(time_cat)\n",
    "\n"
   ]
  },
  {
   "cell_type": "code",
   "execution_count": 120,
   "metadata": {},
   "outputs": [],
   "source": [
    "# Transforming the original cleaned data frame, to get daily traffic average & total values\n",
    "\n",
    "time_df = mta.dropna()[['STATION','DATE','turn_traffic','timeblock','day_of_week']]\n",
    "time_df['st_daily_traff'] = time_df.groupby(['STATION','DATE','timeblock']).turn_traffic.transform('sum')\n",
    "time_df['mean_daily_traf'] = time_df.groupby(['STATION','day_of_week','timeblock']).st_daily_traff.transform('mean')\n",
    "time_df.drop_duplicates(inplace=True)"
   ]
  },
  {
   "cell_type": "code",
   "execution_count": 121,
   "metadata": {},
   "outputs": [],
   "source": [
    "# Housekeeping items - sort & drop extra columns along with filtering out weekends\n",
    "\n",
    "time_df.sort_values(['timeblock','st_daily_traff'], ascending=False)\n",
    "time_df.drop(columns=['DATE','st_daily_traff'], inplace=True)\n",
    "time_df = time_df[time_df.day_of_week<5]"
   ]
  },
  {
   "cell_type": "code",
   "execution_count": 122,
   "metadata": {},
   "outputs": [
    {
     "data": {
      "image/png": "[encoded data removed]",
      "text/plain": [
       "<Figure size 1800x720 with 10 Axes>"
      ]
     },
     "metadata": {},
     "output_type": "display_data"
    }
   ],
   "source": [
    "# Filtering the Time chunked dataframe from above to the selected 7  Manhattan stations\n",
    "\n",
    "seven_stations_time_df = pd.DataFrame(time_df[time_df.STATION.isin(manhattan_stations)])\n",
    "seven_stations_time_df.drop_duplicates(inplace=True)\n",
    "\n",
    "sns.set(font_scale=1.5)\n",
    "d_compare = sns.catplot(\n",
    "    x='STATION', \n",
    "    y='mean_daily_traf', \n",
    "    col='day_of_week', \n",
    "    row='timeblock', \n",
    "    data=seven_stations_time_df,\n",
    "    kind='bar',\n",
    "    palette='Accent')\n",
    "\n",
    "d_compare.set_xticklabels(fontsize=20, rotation=90)\n",
    "d_compare.set_axis_labels(\"\")\n",
    "d_compare.axes[0,0].set_ylabel('Morning Rush Hour Traffic', fontsize=20, rotation=0, ha='right', va='center')\n",
    "d_compare.axes[1,0].set_ylabel('Evening Rush Hour Traffic', fontsize=20, rotation=0, ha='right', va='center')\n",
    "\n",
    "for i, j  in wkday_dict.items():\n",
    "    try:\n",
    "        d_compare.axes[0,int(i)].set_title(j, fontsize=20)\n",
    "        d_compare.axes[1,int(i)].set_title('')\n",
    "    except:\n",
    "        pass\n",
    "plt.tight_layout()"
   ]
  },
  {
   "cell_type": "markdown",
   "metadata": {},
   "source": [
    "Shows a detailed comparison but hard to ascertain conclusions from the graph during a presentation."
   ]
  },
  {
   "cell_type": "code",
   "execution_count": 123,
   "metadata": {},
   "outputs": [
    {
     "data": {
      "text/plain": [
       "Text(0, 0.5, '')"
      ]
     },
     "execution_count": 123,
     "metadata": {},
     "output_type": "execute_result"
    },
    {
     "data": {
      "image/png": "[encoded data removed]",
      "text/plain": [
       "<Figure size 1080x504 with 1 Axes>"
      ]
     },
     "metadata": {},
     "output_type": "display_data"
    }
   ],
   "source": [
    "# Plotting just a single day graph to visualize difference between morning & evening commuter traffic\n",
    "\n",
    "thursday_traffic_df = seven_stations_time_df[seven_stations_time_df.day_of_week==3].drop(columns='turn_traffic')\n",
    "\n",
    "plt.figure(figsize=[15,7])\n",
    "\n",
    "sns.barplot(x='STATION', y='mean_daily_traf', hue='timeblock', data=thursday_traffic_df,\n",
    "             order=manhattan_stations, hue_order=['Evening', 'Morning'])\n",
    "\n",
    "plt.xticks(rotation=45)\n",
    "plt.xlabel('Traffic')\n",
    "plt.ylabel('')"
   ]
  },
  {
   "cell_type": "markdown",
   "metadata": {},
   "source": [
    "### Final recommendation would be to focus on 34th - Penn Station on Thursday evening, if WTWY is highly constrained on street team capacity."
   ]
  }
 ],
 "metadata": {
  "kernelspec": {
   "display_name": "Python 3",
   "language": "python",
   "name": "python3"
  },
  "language_info": {
   "codemirror_mode": {
    "name": "ipython",
    "version": 3
   },
   "file_extension": ".py",
   "mimetype": "text/x-python",
   "name": "python",
   "nbconvert_exporter": "python",
   "pygments_lexer": "ipython3",
   "version": "3.8.5"
  }
 },
 "nbformat": 4,
 "nbformat_minor": 4
}
